{
 "cells": [
  {
   "cell_type": "code",
   "execution_count": 1,
   "id": "initial_id",
   "metadata": {
    "collapsed": true,
    "ExecuteTime": {
     "end_time": "2023-11-19T07:13:40.179201407Z",
     "start_time": "2023-11-19T07:13:39.341484932Z"
    }
   },
   "outputs": [],
   "source": [
    "import numpy as np\n",
    "\n",
    "from probabilistic_classifier.dataset import create_knn_sampling_joint_cond_marginal_dataset\n",
    "from probabilistic_classifier.estimate import estimate_mi_for_binary_classification\n",
    "from probabilistic_classifier.train import train_binary_classifier_v2"
   ]
  },
  {
   "cell_type": "code",
   "execution_count": 2,
   "outputs": [],
   "source": [
    "# create the basis dataset\n",
    "mean = [0, 0, 0]\n",
    "cov = [[1, 0.8, 0.5],\n",
    "       [0.8, 1, 0],\n",
    "       [0.5, 0, 1]]\n",
    "num_of_samples = 1000000\n",
    "dataset = np.random.multivariate_normal(mean=mean, cov=cov, size=num_of_samples)"
   ],
   "metadata": {
    "collapsed": false,
    "ExecuteTime": {
     "end_time": "2023-11-19T07:13:40.635949125Z",
     "start_time": "2023-11-19T07:13:40.583812512Z"
    }
   },
   "id": "d52797b0247350ca"
  },
  {
   "cell_type": "code",
   "execution_count": 3,
   "outputs": [],
   "source": [
    "# create the joint and marginal datasets\n",
    "num_of_neighbors = 4\n",
    "x_idx, y_idx, z_idx = [0], [1], [2]\n",
    "joint_data, joint_label, marginal_data, marginal_label = create_knn_sampling_joint_cond_marginal_dataset(dataset, num_of_neighbors, x_idx, y_idx, z_idx)\n",
    "data, label = np.concatenate([joint_data, marginal_data]), np.concatenate([joint_label, marginal_label])\n",
    "randomize_idx = np.random.permutation(np.arange(2 * num_of_samples))\n",
    "data, label = data[randomize_idx], label[randomize_idx]"
   ],
   "metadata": {
    "collapsed": false,
    "ExecuteTime": {
     "end_time": "2023-11-19T07:14:23.890231001Z",
     "start_time": "2023-11-19T07:13:41.475959771Z"
    }
   },
   "id": "62da61c8fc32e6fa"
  },
  {
   "cell_type": "code",
   "execution_count": 4,
   "outputs": [],
   "source": [
    "# define model parameters\n",
    "num_input_features = len(x_idx) + len(y_idx) + len(z_idx)\n",
    "hidden_size_arr = [256, 256]\n",
    "lr = 0.001"
   ],
   "metadata": {
    "collapsed": false,
    "ExecuteTime": {
     "end_time": "2023-11-19T07:14:38.169475122Z",
     "start_time": "2023-11-19T07:14:38.166982853Z"
    }
   },
   "id": "4cb99642d6db7215"
  },
  {
   "cell_type": "code",
   "execution_count": 5,
   "outputs": [
    {
     "name": "stdout",
     "output_type": "stream",
     "text": [
      "################################################################\n",
      "trial: 1, ldr: 1.0860422849655151, dv: 1.102277159690857, nwj: 1.102146029472351\n",
      "################################################################\n",
      "\n",
      "################################################################\n",
      "trial: 2, ldr: 1.1052563190460205, dv: 1.1007583141326904, nwj: 1.1007481813430786\n",
      "################################################################\n",
      "\n",
      "################################################################\n",
      "trial: 3, ldr: 1.049206256866455, dv: 1.1018000841140747, nwj: 1.1004409790039062\n",
      "################################################################\n",
      "\n",
      "################################################################\n",
      "trial: 4, ldr: 1.1485871076583862, dv: 1.102878212928772, nwj: 1.1018174886703491\n",
      "################################################################\n",
      "\n",
      "################################################################\n",
      "trial: 5, ldr: 1.0683554410934448, dv: 1.102426290512085, nwj: 1.1018524169921875\n",
      "################################################################\n",
      "\n",
      "################################################################\n",
      "trial: 6, ldr: 1.1108776330947876, dv: 1.1018098592758179, nwj: 1.1017686128616333\n",
      "################################################################\n",
      "\n",
      "################################################################\n",
      "trial: 7, ldr: 1.0665194988250732, dv: 1.102246642112732, nwj: 1.1016159057617188\n",
      "################################################################\n",
      "\n",
      "################################################################\n",
      "trial: 8, ldr: 1.1445358991622925, dv: 1.102436900138855, nwj: 1.1015381813049316\n",
      "################################################################\n",
      "\n",
      "################################################################\n",
      "trial: 9, ldr: 1.0858190059661865, dv: 1.1020069122314453, nwj: 1.1018766164779663\n",
      "################################################################\n",
      "\n",
      "################################################################\n",
      "trial: 10, ldr: 1.0829375982284546, dv: 1.102331519126892, nwj: 1.102144718170166\n",
      "################################################################\n",
      "\n",
      "final estimations:\n",
      "\tldr: 1.0948137044906616\n",
      "\tdv: 1.1020971894264222\n",
      "\tnwj: 1.101594913005829\n"
     ]
    }
   ],
   "source": [
    "num_of_outer_iteration = 10\n",
    "num_of_inner_iteration = 10\n",
    "batch_size = 4096\n",
    "\n",
    "# iterate over many times\n",
    "outer_running_loss = []\n",
    "outer_running_loss_avg = []\n",
    "ldr_estimations = []\n",
    "dv_estimations = []\n",
    "nwj_estimations = []\n",
    "\n",
    "for outer_iter in range(num_of_outer_iteration):\n",
    "    print('################################################################')\n",
    "    model, inner_running_loss, inner_running_loss_avg, num_of_joint, num_of_marginal = train_binary_classifier_v2(data, label, num_input_features, hidden_size_arr, lr, num_of_inner_iteration, batch_size, outer_iter, print_progress=False)\n",
    "    outer_running_loss.append(inner_running_loss)\n",
    "    outer_running_loss_avg.append(inner_running_loss_avg)\n",
    "    \n",
    "    ## estimate cmi\n",
    "    curr_ldr, curr_dv, curr_nwj = estimate_mi_for_binary_classification(model, joint_data, num_of_joint, marginal_data, num_of_marginal)\n",
    "    print('trial: {}, ldr: {}, dv: {}, nwj: {}'.format(outer_iter + 1, curr_ldr.item(), curr_dv.item(), curr_nwj.item()))\n",
    "    print('################################################################\\n')\n",
    "    ldr_estimations.append(curr_ldr.item())\n",
    "    dv_estimations.append(curr_dv.item())\n",
    "    nwj_estimations.append(curr_nwj.item())\n",
    "    \n",
    "print('final estimations:\\n\\tldr: {}\\n\\tdv: {}\\n\\tnwj: {}'.format(np.mean(ldr_estimations), np.mean(dv_estimations), np.mean(nwj_estimations)))"
   ],
   "metadata": {
    "collapsed": false,
    "ExecuteTime": {
     "end_time": "2023-11-19T07:15:49.483175334Z",
     "start_time": "2023-11-19T07:14:39.487095956Z"
    }
   },
   "id": "146b880bcd657c43"
  }
 ],
 "metadata": {
  "kernelspec": {
   "display_name": "Python 3",
   "language": "python",
   "name": "python3"
  },
  "language_info": {
   "codemirror_mode": {
    "name": "ipython",
    "version": 2
   },
   "file_extension": ".py",
   "mimetype": "text/x-python",
   "name": "python",
   "nbconvert_exporter": "python",
   "pygments_lexer": "ipython2",
   "version": "2.7.6"
  }
 },
 "nbformat": 4,
 "nbformat_minor": 5
}
