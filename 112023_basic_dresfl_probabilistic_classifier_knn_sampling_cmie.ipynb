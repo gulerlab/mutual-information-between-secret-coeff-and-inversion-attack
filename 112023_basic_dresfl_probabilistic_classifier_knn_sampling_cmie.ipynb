{
 "cells": [
  {
   "cell_type": "code",
   "execution_count": 1,
   "id": "initial_id",
   "metadata": {
    "collapsed": true,
    "ExecuteTime": {
     "end_time": "2023-11-21T09:30:46.368855896Z",
     "start_time": "2023-11-21T09:30:45.295579809Z"
    }
   },
   "outputs": [],
   "source": [
    "import numpy as np\n",
    "\n",
    "from lcc.dataset import create_lcc_dataset_k1_t1_scalar\n",
    "\n",
    "from probabilistic_classifier.dataset import create_knn_sampling_joint_cond_marginal_dataset\n",
    "from probabilistic_classifier.estimate import estimate_mi_for_binary_classification\n",
    "from probabilistic_classifier.train import train_binary_classifier_v2"
   ]
  },
  {
   "cell_type": "code",
   "execution_count": 2,
   "outputs": [
    {
     "ename": "KeyboardInterrupt",
     "evalue": "",
     "output_type": "error",
     "traceback": [
      "\u001B[0;31m---------------------------------------------------------------------------\u001B[0m",
      "\u001B[0;31mKeyboardInterrupt\u001B[0m                         Traceback (most recent call last)",
      "Cell \u001B[0;32mIn[2], line 6\u001B[0m\n\u001B[1;32m      4\u001B[0m num_of_samples \u001B[38;5;241m=\u001B[39m \u001B[38;5;241m800000\u001B[39m\n\u001B[1;32m      5\u001B[0m weight \u001B[38;5;241m=\u001B[39m \u001B[38;5;241m1\u001B[39m\n\u001B[0;32m----> 6\u001B[0m dataset \u001B[38;5;241m=\u001B[39m \u001B[43mcreate_lcc_dataset_k1_t1_scalar\u001B[49m\u001B[43m(\u001B[49m\u001B[43mprime\u001B[49m\u001B[43m,\u001B[49m\u001B[43m \u001B[49m\u001B[43mdata_range\u001B[49m\u001B[43m,\u001B[49m\u001B[43m \u001B[49m\u001B[43mnum_of_samples\u001B[49m\u001B[43m,\u001B[49m\u001B[43m \u001B[49m\u001B[43mweight\u001B[49m\u001B[43m)\u001B[49m\n",
      "File \u001B[0;32m~/Desktop/umityigitbsrn/research/repos/mutual-information-between-secret-coeff-and-inversion-attack/lcc/dataset.py:10\u001B[0m, in \u001B[0;36mcreate_lcc_dataset_k1_t1_scalar\u001B[0;34m(prime, data_range, num_of_samples, weight)\u001B[0m\n\u001B[1;32m      8\u001B[0m beta_arr, alpha_arr \u001B[38;5;241m=\u001B[39m [\u001B[38;5;241m0\u001B[39m, \u001B[38;5;241m1\u001B[39m], [\u001B[38;5;241m2\u001B[39m, \u001B[38;5;241m3\u001B[39m, \u001B[38;5;241m4\u001B[39m]\n\u001B[1;32m      9\u001B[0m feature_size \u001B[38;5;241m=\u001B[39m \u001B[38;5;241m1\u001B[39m\n\u001B[0;32m---> 10\u001B[0m \u001B[38;5;28;01mreturn\u001B[39;00m \u001B[43mcreate_lcc_dataset\u001B[49m\u001B[43m(\u001B[49m\u001B[43mprime\u001B[49m\u001B[43m,\u001B[49m\u001B[43m \u001B[49m\u001B[43mdata_range\u001B[49m\u001B[43m,\u001B[49m\u001B[43m \u001B[49m\u001B[43mnum_of_samples\u001B[49m\u001B[43m,\u001B[49m\u001B[43m \u001B[49m\u001B[43mweight\u001B[49m\u001B[43m,\u001B[49m\u001B[43m \u001B[49m\u001B[43mfeature_size\u001B[49m\u001B[43m,\u001B[49m\u001B[43m \u001B[49m\u001B[43mbeta_arr\u001B[49m\u001B[43m,\u001B[49m\u001B[43m \u001B[49m\u001B[43malpha_arr\u001B[49m\u001B[43m,\u001B[49m\u001B[43m \u001B[49m\u001B[43mpara_param\u001B[49m\u001B[43m,\u001B[49m\n\u001B[1;32m     11\u001B[0m \u001B[43m                          \u001B[49m\u001B[43mpriv_param\u001B[49m\u001B[43m)\u001B[49m\n",
      "File \u001B[0;32m~/Desktop/umityigitbsrn/research/repos/mutual-information-between-secret-coeff-and-inversion-attack/lcc/dataset.py:22\u001B[0m, in \u001B[0;36mcreate_lcc_dataset\u001B[0;34m(prime, data_range, num_of_samples, weight, feature_size, beta_arr, alpha_arr, para_param, priv_param)\u001B[0m\n\u001B[1;32m     20\u001B[0m secret_data \u001B[38;5;241m=\u001B[39m np\u001B[38;5;241m.\u001B[39mrandom\u001B[38;5;241m.\u001B[39mrandint(low\u001B[38;5;241m=\u001B[39m\u001B[38;5;241m0\u001B[39m, high\u001B[38;5;241m=\u001B[39mdata_range, size\u001B[38;5;241m=\u001B[39m(num_of_samples, feature_size, \u001B[38;5;241m1\u001B[39m))\n\u001B[1;32m     21\u001B[0m secret_label \u001B[38;5;241m=\u001B[39m np\u001B[38;5;241m.\u001B[39mrandom\u001B[38;5;241m.\u001B[39mrandint(low\u001B[38;5;241m=\u001B[39m\u001B[38;5;241m0\u001B[39m, high\u001B[38;5;241m=\u001B[39mdata_range, size\u001B[38;5;241m=\u001B[39m(num_of_samples, \u001B[38;5;241m1\u001B[39m))\n\u001B[0;32m---> 22\u001B[0m encoded_secret_data_pol \u001B[38;5;241m=\u001B[39m [LCCPoly(beta_arr, [x], para_param, priv_param, prime, size\u001B[38;5;241m=\u001B[39m(feature_size, \u001B[38;5;241m1\u001B[39m)) \u001B[38;5;28;01mfor\u001B[39;00m x \u001B[38;5;129;01min\u001B[39;00m\n\u001B[1;32m     23\u001B[0m                            secret_data]\n\u001B[1;32m     24\u001B[0m encoded_secret_label_pol \u001B[38;5;241m=\u001B[39m [LCCPoly(beta_arr, [x[\u001B[38;5;241m0\u001B[39m]], para_param, priv_param, prime) \u001B[38;5;28;01mfor\u001B[39;00m x \u001B[38;5;129;01min\u001B[39;00m secret_label]\n\u001B[1;32m     25\u001B[0m \u001B[38;5;28mprint\u001B[39m(\u001B[38;5;124m'\u001B[39m\u001B[38;5;124mpols created\u001B[39m\u001B[38;5;124m'\u001B[39m)\n",
      "File \u001B[0;32m~/Desktop/umityigitbsrn/research/repos/mutual-information-between-secret-coeff-and-inversion-attack/lcc/dataset.py:22\u001B[0m, in \u001B[0;36m<listcomp>\u001B[0;34m(.0)\u001B[0m\n\u001B[1;32m     20\u001B[0m secret_data \u001B[38;5;241m=\u001B[39m np\u001B[38;5;241m.\u001B[39mrandom\u001B[38;5;241m.\u001B[39mrandint(low\u001B[38;5;241m=\u001B[39m\u001B[38;5;241m0\u001B[39m, high\u001B[38;5;241m=\u001B[39mdata_range, size\u001B[38;5;241m=\u001B[39m(num_of_samples, feature_size, \u001B[38;5;241m1\u001B[39m))\n\u001B[1;32m     21\u001B[0m secret_label \u001B[38;5;241m=\u001B[39m np\u001B[38;5;241m.\u001B[39mrandom\u001B[38;5;241m.\u001B[39mrandint(low\u001B[38;5;241m=\u001B[39m\u001B[38;5;241m0\u001B[39m, high\u001B[38;5;241m=\u001B[39mdata_range, size\u001B[38;5;241m=\u001B[39m(num_of_samples, \u001B[38;5;241m1\u001B[39m))\n\u001B[0;32m---> 22\u001B[0m encoded_secret_data_pol \u001B[38;5;241m=\u001B[39m [\u001B[43mLCCPoly\u001B[49m\u001B[43m(\u001B[49m\u001B[43mbeta_arr\u001B[49m\u001B[43m,\u001B[49m\u001B[43m \u001B[49m\u001B[43m[\u001B[49m\u001B[43mx\u001B[49m\u001B[43m]\u001B[49m\u001B[43m,\u001B[49m\u001B[43m \u001B[49m\u001B[43mpara_param\u001B[49m\u001B[43m,\u001B[49m\u001B[43m \u001B[49m\u001B[43mpriv_param\u001B[49m\u001B[43m,\u001B[49m\u001B[43m \u001B[49m\u001B[43mprime\u001B[49m\u001B[43m,\u001B[49m\u001B[43m \u001B[49m\u001B[43msize\u001B[49m\u001B[38;5;241;43m=\u001B[39;49m\u001B[43m(\u001B[49m\u001B[43mfeature_size\u001B[49m\u001B[43m,\u001B[49m\u001B[43m \u001B[49m\u001B[38;5;241;43m1\u001B[39;49m\u001B[43m)\u001B[49m\u001B[43m)\u001B[49m \u001B[38;5;28;01mfor\u001B[39;00m x \u001B[38;5;129;01min\u001B[39;00m\n\u001B[1;32m     23\u001B[0m                            secret_data]\n\u001B[1;32m     24\u001B[0m encoded_secret_label_pol \u001B[38;5;241m=\u001B[39m [LCCPoly(beta_arr, [x[\u001B[38;5;241m0\u001B[39m]], para_param, priv_param, prime) \u001B[38;5;28;01mfor\u001B[39;00m x \u001B[38;5;129;01min\u001B[39;00m secret_label]\n\u001B[1;32m     25\u001B[0m \u001B[38;5;28mprint\u001B[39m(\u001B[38;5;124m'\u001B[39m\u001B[38;5;124mpols created\u001B[39m\u001B[38;5;124m'\u001B[39m)\n",
      "File \u001B[0;32m~/Desktop/umityigitbsrn/research/repos/mutual-information-between-secret-coeff-and-inversion-attack/lcc/polynomials.py:42\u001B[0m, in \u001B[0;36mLCCPoly.__init__\u001B[0;34m(self, beta_arr, secret_arr, K, T, p, size)\u001B[0m\n\u001B[1;32m     39\u001B[0m \u001B[38;5;28mself\u001B[39m\u001B[38;5;241m.\u001B[39m_random_arr \u001B[38;5;241m=\u001B[39m []\n\u001B[1;32m     40\u001B[0m \u001B[38;5;28mself\u001B[39m\u001B[38;5;241m.\u001B[39m__fill_random_arr()\n\u001B[0;32m---> 42\u001B[0m \u001B[38;5;28mself\u001B[39m\u001B[38;5;241m.\u001B[39m__coefficients \u001B[38;5;241m=\u001B[39m \u001B[43mpoly_coefficients\u001B[49m\u001B[43m(\u001B[49m\u001B[43msecret_arr\u001B[49m\u001B[43m \u001B[49m\u001B[38;5;241;43m+\u001B[39;49m\u001B[43m \u001B[49m\u001B[38;5;28;43mself\u001B[39;49m\u001B[38;5;241;43m.\u001B[39;49m\u001B[43m_random_arr\u001B[49m\u001B[43m,\u001B[49m\u001B[43m \u001B[49m\u001B[43mbeta_arr\u001B[49m\u001B[43m,\u001B[49m\u001B[43m \u001B[49m\u001B[43mp\u001B[49m\u001B[43m)\u001B[49m\n",
      "File \u001B[0;32m~/Desktop/umityigitbsrn/research/repos/mutual-information-between-secret-coeff-and-inversion-attack/lcc/utils.py:21\u001B[0m, in \u001B[0;36mpoly_coefficients\u001B[0;34m(evaluated_points, evaluation_points, p)\u001B[0m\n\u001B[1;32m     19\u001B[0m galois_field \u001B[38;5;241m=\u001B[39m galois\u001B[38;5;241m.\u001B[39mGF(p)\n\u001B[1;32m     20\u001B[0m vander_matrix \u001B[38;5;241m=\u001B[39m galois_field(vander_matrix)\n\u001B[0;32m---> 21\u001B[0m inv_vander_matrix \u001B[38;5;241m=\u001B[39m \u001B[43mnp\u001B[49m\u001B[38;5;241;43m.\u001B[39;49m\u001B[43mlinalg\u001B[49m\u001B[38;5;241;43m.\u001B[39;49m\u001B[43minv\u001B[49m\u001B[43m(\u001B[49m\u001B[43mvander_matrix\u001B[49m\u001B[43m)\u001B[49m\n\u001B[1;32m     23\u001B[0m \u001B[38;5;28;01mif\u001B[39;00m \u001B[38;5;28misinstance\u001B[39m(evaluated_points[\u001B[38;5;241m0\u001B[39m], numbers\u001B[38;5;241m.\u001B[39mNumber):\n\u001B[1;32m     24\u001B[0m     evaluated_points_in_field \u001B[38;5;241m=\u001B[39m galois_field(np\u001B[38;5;241m.\u001B[39masarray(evaluated_points)[:, np\u001B[38;5;241m.\u001B[39mnewaxis])\n",
      "File \u001B[0;32m<__array_function__ internals>:180\u001B[0m, in \u001B[0;36minv\u001B[0;34m(*args, **kwargs)\u001B[0m\n",
      "File \u001B[0;32m~/miniconda3/envs/pytorch-stable/lib/python3.10/site-packages/galois/_domains/_function.py:357\u001B[0m, in \u001B[0;36mFunctionMixin.__array_function__\u001B[0;34m(self, func, types, args, kwargs)\u001B[0m\n\u001B[1;32m    354\u001B[0m field \u001B[38;5;241m=\u001B[39m \u001B[38;5;28mtype\u001B[39m(\u001B[38;5;28mself\u001B[39m)\n\u001B[1;32m    356\u001B[0m \u001B[38;5;28;01mif\u001B[39;00m func \u001B[38;5;129;01min\u001B[39;00m field\u001B[38;5;241m.\u001B[39m_OVERRIDDEN_FUNCTIONS:\n\u001B[0;32m--> 357\u001B[0m     output \u001B[38;5;241m=\u001B[39m \u001B[38;5;28;43mgetattr\u001B[39;49m\u001B[43m(\u001B[49m\u001B[43mfield\u001B[49m\u001B[43m,\u001B[49m\u001B[43m \u001B[49m\u001B[43mfield\u001B[49m\u001B[38;5;241;43m.\u001B[39;49m\u001B[43m_OVERRIDDEN_FUNCTIONS\u001B[49m\u001B[43m[\u001B[49m\u001B[43mfunc\u001B[49m\u001B[43m]\u001B[49m\u001B[43m)\u001B[49m\u001B[43m(\u001B[49m\u001B[38;5;241;43m*\u001B[39;49m\u001B[43margs\u001B[49m\u001B[43m,\u001B[49m\u001B[43m \u001B[49m\u001B[38;5;241;43m*\u001B[39;49m\u001B[38;5;241;43m*\u001B[39;49m\u001B[43mkwargs\u001B[49m\u001B[43m)\u001B[49m\n\u001B[1;32m    359\u001B[0m \u001B[38;5;28;01melif\u001B[39;00m func \u001B[38;5;129;01min\u001B[39;00m field\u001B[38;5;241m.\u001B[39m_UNSUPPORTED_FUNCTIONS:\n\u001B[1;32m    360\u001B[0m     \u001B[38;5;28;01mraise\u001B[39;00m \u001B[38;5;167;01mNotImplementedError\u001B[39;00m(\n\u001B[1;32m    361\u001B[0m         \u001B[38;5;124mf\u001B[39m\u001B[38;5;124m\"\u001B[39m\u001B[38;5;124mThe NumPy function \u001B[39m\u001B[38;5;132;01m{\u001B[39;00mfunc\u001B[38;5;241m.\u001B[39m\u001B[38;5;18m__name__\u001B[39m\u001B[38;5;132;01m!r}\u001B[39;00m\u001B[38;5;124m is not supported on FieldArray. \u001B[39m\u001B[38;5;124m\"\u001B[39m\n\u001B[1;32m    362\u001B[0m         \u001B[38;5;124m\"\u001B[39m\u001B[38;5;124mIf you believe this function should be supported, \u001B[39m\u001B[38;5;124m\"\u001B[39m\n\u001B[0;32m   (...)\u001B[0m\n\u001B[1;32m    365\u001B[0m         \u001B[38;5;124m\"\u001B[39m\u001B[38;5;124m`array = array.view(np.ndarray)` and then call the function.\u001B[39m\u001B[38;5;124m\"\u001B[39m\n\u001B[1;32m    366\u001B[0m     )\n",
      "File \u001B[0;32m~/miniconda3/envs/pytorch-stable/lib/python3.10/site-packages/galois/_domains/_linalg.py:461\u001B[0m, in \u001B[0;36minv_jit.__call__\u001B[0;34m(self, A)\u001B[0m\n\u001B[1;32m    458\u001B[0m AI \u001B[38;5;241m=\u001B[39m np\u001B[38;5;241m.\u001B[39mconcatenate((A, I), axis\u001B[38;5;241m=\u001B[39m\u001B[38;5;241m-\u001B[39m\u001B[38;5;241m1\u001B[39m)\n\u001B[1;32m    460\u001B[0m \u001B[38;5;66;03m# Perform Gaussian elimination to get the reduced row echelon form AI_rre = [I | A^-1]\u001B[39;00m\n\u001B[0;32m--> 461\u001B[0m AI_rre, _ \u001B[38;5;241m=\u001B[39m \u001B[43mrow_reduce_jit\u001B[49m\u001B[43m(\u001B[49m\u001B[38;5;28;43mself\u001B[39;49m\u001B[38;5;241;43m.\u001B[39;49m\u001B[43mfield\u001B[49m\u001B[43m)\u001B[49m\u001B[43m(\u001B[49m\u001B[43mAI\u001B[49m\u001B[43m,\u001B[49m\u001B[43m \u001B[49m\u001B[43mncols\u001B[49m\u001B[38;5;241;43m=\u001B[39;49m\u001B[43mn\u001B[49m\u001B[43m)\u001B[49m\n\u001B[1;32m    463\u001B[0m \u001B[38;5;66;03m# The rank is the number of non-zero rows of the row reduced echelon form\u001B[39;00m\n\u001B[1;32m    464\u001B[0m rank \u001B[38;5;241m=\u001B[39m np\u001B[38;5;241m.\u001B[39msum(\u001B[38;5;241m~\u001B[39mnp\u001B[38;5;241m.\u001B[39mall(AI_rre[:, \u001B[38;5;241m0\u001B[39m:n] \u001B[38;5;241m==\u001B[39m \u001B[38;5;241m0\u001B[39m, axis\u001B[38;5;241m=\u001B[39m\u001B[38;5;241m1\u001B[39m))\n",
      "File \u001B[0;32m~/miniconda3/envs/pytorch-stable/lib/python3.10/site-packages/galois/_domains/_linalg.py:290\u001B[0m, in \u001B[0;36mrow_reduce_jit.__call__\u001B[0;34m(self, A, ncols)\u001B[0m\n\u001B[1;32m    287\u001B[0m A_rre[[p, i], :] \u001B[38;5;241m=\u001B[39m A_rre[[i, p], :]\n\u001B[1;32m    289\u001B[0m \u001B[38;5;66;03m# Force pivot value to be 1\u001B[39;00m\n\u001B[0;32m--> 290\u001B[0m A_rre[p, :] \u001B[38;5;241m/\u001B[39m\u001B[38;5;241m=\u001B[39m A_rre[p, j]\n\u001B[1;32m    292\u001B[0m \u001B[38;5;66;03m# Force zeros above and below the pivot\u001B[39;00m\n\u001B[1;32m    293\u001B[0m idxs \u001B[38;5;241m=\u001B[39m np\u001B[38;5;241m.\u001B[39mnonzero(A_rre[:, j])[\u001B[38;5;241m0\u001B[39m]\u001B[38;5;241m.\u001B[39mtolist()\n",
      "File \u001B[0;32m~/miniconda3/envs/pytorch-stable/lib/python3.10/site-packages/galois/_domains/_ufunc.py:682\u001B[0m, in \u001B[0;36mUFuncMixin.__array_ufunc__\u001B[0;34m(self, ufunc, method, *inputs, **kwargs)\u001B[0m\n\u001B[1;32m    679\u001B[0m     \u001B[38;5;28;01mif\u001B[39;00m method \u001B[38;5;129;01min\u001B[39;00m [\u001B[38;5;124m\"\u001B[39m\u001B[38;5;124mreduce\u001B[39m\u001B[38;5;124m\"\u001B[39m]:\n\u001B[1;32m    680\u001B[0m         kwargs[\u001B[38;5;124m\"\u001B[39m\u001B[38;5;124mdtype\u001B[39m\u001B[38;5;124m\"\u001B[39m] \u001B[38;5;241m=\u001B[39m field\u001B[38;5;241m.\u001B[39mdtypes[\u001B[38;5;241m-\u001B[39m\u001B[38;5;241m1\u001B[39m]\n\u001B[0;32m--> 682\u001B[0m     \u001B[38;5;28;01mreturn\u001B[39;00m \u001B[38;5;28;43mgetattr\u001B[39;49m\u001B[43m(\u001B[49m\u001B[43mfield\u001B[49m\u001B[43m,\u001B[49m\u001B[43m \u001B[49m\u001B[43mfield\u001B[49m\u001B[38;5;241;43m.\u001B[39;49m\u001B[43m_OVERRIDDEN_UFUNCS\u001B[49m\u001B[43m[\u001B[49m\u001B[43mufunc\u001B[49m\u001B[43m]\u001B[49m\u001B[43m)\u001B[49m\u001B[43m(\u001B[49m\u001B[43mufunc\u001B[49m\u001B[43m,\u001B[49m\u001B[43m \u001B[49m\u001B[43mmethod\u001B[49m\u001B[43m,\u001B[49m\u001B[43m \u001B[49m\u001B[43minputs\u001B[49m\u001B[43m,\u001B[49m\u001B[43m \u001B[49m\u001B[43mkwargs\u001B[49m\u001B[43m,\u001B[49m\u001B[43m \u001B[49m\u001B[43mmeta\u001B[49m\u001B[43m)\u001B[49m\n\u001B[1;32m    684\u001B[0m \u001B[38;5;28;01mif\u001B[39;00m ufunc \u001B[38;5;129;01min\u001B[39;00m field\u001B[38;5;241m.\u001B[39m_UNSUPPORTED_UFUNCS:\n\u001B[1;32m    685\u001B[0m     \u001B[38;5;28;01mraise\u001B[39;00m \u001B[38;5;167;01mNotImplementedError\u001B[39;00m(\n\u001B[1;32m    686\u001B[0m         \u001B[38;5;124mf\u001B[39m\u001B[38;5;124m\"\u001B[39m\u001B[38;5;124mThe NumPy ufunc \u001B[39m\u001B[38;5;132;01m{\u001B[39;00mufunc\u001B[38;5;241m.\u001B[39m\u001B[38;5;18m__name__\u001B[39m\u001B[38;5;132;01m!r}\u001B[39;00m\u001B[38;5;124m is not supported on \u001B[39m\u001B[38;5;132;01m{\u001B[39;00mfield\u001B[38;5;241m.\u001B[39mname\u001B[38;5;132;01m}\u001B[39;00m\u001B[38;5;124m arrays. \u001B[39m\u001B[38;5;124m\"\u001B[39m\n\u001B[1;32m    687\u001B[0m         \u001B[38;5;124m\"\u001B[39m\u001B[38;5;124mIf you believe this ufunc should be supported, \u001B[39m\u001B[38;5;124m\"\u001B[39m\n\u001B[1;32m    688\u001B[0m         \u001B[38;5;124m\"\u001B[39m\u001B[38;5;124mplease submit a GitHub issue at https://github.com/mhostetter/galois/issues.\u001B[39m\u001B[38;5;124m\"\u001B[39m\n\u001B[1;32m    689\u001B[0m     )\n",
      "File \u001B[0;32m~/miniconda3/envs/pytorch-stable/lib/python3.10/site-packages/galois/_domains/_ufunc.py:435\u001B[0m, in \u001B[0;36mdivide_ufunc.__call__\u001B[0;34m(self, ufunc, method, inputs, kwargs, meta)\u001B[0m\n\u001B[1;32m    433\u001B[0m \u001B[38;5;28;01melse\u001B[39;00m:\n\u001B[1;32m    434\u001B[0m     output \u001B[38;5;241m=\u001B[39m \u001B[38;5;28mgetattr\u001B[39m(\u001B[38;5;28mself\u001B[39m\u001B[38;5;241m.\u001B[39mufunc, method)(\u001B[38;5;241m*\u001B[39minputs, \u001B[38;5;241m*\u001B[39m\u001B[38;5;241m*\u001B[39mkwargs)\n\u001B[0;32m--> 435\u001B[0m output \u001B[38;5;241m=\u001B[39m \u001B[38;5;28;43mself\u001B[39;49m\u001B[38;5;241;43m.\u001B[39;49m\u001B[43m_view_output_as_field\u001B[49m\u001B[43m(\u001B[49m\u001B[43moutput\u001B[49m\u001B[43m,\u001B[49m\u001B[43m \u001B[49m\u001B[38;5;28;43mself\u001B[39;49m\u001B[38;5;241;43m.\u001B[39;49m\u001B[43mfield\u001B[49m\u001B[43m,\u001B[49m\u001B[43m \u001B[49m\u001B[43mmeta\u001B[49m\u001B[43m[\u001B[49m\u001B[38;5;124;43m\"\u001B[39;49m\u001B[38;5;124;43mdtype\u001B[39;49m\u001B[38;5;124;43m\"\u001B[39;49m\u001B[43m]\u001B[49m\u001B[43m)\u001B[49m\n\u001B[1;32m    436\u001B[0m \u001B[38;5;28;01mreturn\u001B[39;00m output\n",
      "File \u001B[0;32m~/miniconda3/envs/pytorch-stable/lib/python3.10/site-packages/galois/_domains/_ufunc.py:326\u001B[0m, in \u001B[0;36mUFunc._view_output_as_field\u001B[0;34m(self, output, field, dtype)\u001B[0m\n\u001B[1;32m    324\u001B[0m     \u001B[38;5;28;01mreturn\u001B[39;00m output\n\u001B[1;32m    325\u001B[0m \u001B[38;5;28;01mif\u001B[39;00m \u001B[38;5;28misinstance\u001B[39m(output, np\u001B[38;5;241m.\u001B[39mndarray):\n\u001B[0;32m--> 326\u001B[0m     \u001B[38;5;28;01mreturn\u001B[39;00m \u001B[43mfield\u001B[49m\u001B[38;5;241;43m.\u001B[39;49m\u001B[43m_view\u001B[49m\u001B[43m(\u001B[49m\u001B[43moutput\u001B[49m\u001B[38;5;241;43m.\u001B[39;49m\u001B[43mastype\u001B[49m\u001B[43m(\u001B[49m\u001B[43mdtype\u001B[49m\u001B[43m)\u001B[49m\u001B[43m)\u001B[49m\n\u001B[1;32m    327\u001B[0m \u001B[38;5;28;01mif\u001B[39;00m output \u001B[38;5;129;01mis\u001B[39;00m \u001B[38;5;28;01mNone\u001B[39;00m:\n\u001B[1;32m    328\u001B[0m     \u001B[38;5;28;01mreturn\u001B[39;00m \u001B[38;5;28;01mNone\u001B[39;00m\n",
      "File \u001B[0;32m~/miniconda3/envs/pytorch-stable/lib/python3.10/site-packages/galois/_domains/_array.py:136\u001B[0m, in \u001B[0;36mArray._view\u001B[0;34m(cls, array)\u001B[0m\n\u001B[1;32m    128\u001B[0m \u001B[38;5;129m@classmethod\u001B[39m\n\u001B[1;32m    129\u001B[0m \u001B[38;5;28;01mdef\u001B[39;00m \u001B[38;5;21m_view\u001B[39m(\u001B[38;5;28mcls\u001B[39m, array: np\u001B[38;5;241m.\u001B[39mndarray) \u001B[38;5;241m-\u001B[39m\u001B[38;5;241m>\u001B[39m Self:\n\u001B[1;32m    130\u001B[0m     \u001B[38;5;124;03m\"\"\"\u001B[39;00m\n\u001B[1;32m    131\u001B[0m \u001B[38;5;124;03m    View the input array to the Array subclass `A` using the `_view_without_verification()` context manager.\u001B[39;00m\n\u001B[1;32m    132\u001B[0m \u001B[38;5;124;03m    This disables bounds checking on the array elements. Instead of `x.view(A)` use `A._view(x)`.\u001B[39;00m\n\u001B[1;32m    133\u001B[0m \n\u001B[1;32m    134\u001B[0m \u001B[38;5;124;03m    For internal library use only.\u001B[39;00m\n\u001B[1;32m    135\u001B[0m \u001B[38;5;124;03m    \"\"\"\u001B[39;00m\n\u001B[0;32m--> 136\u001B[0m     \u001B[38;5;28;01mwith\u001B[39;00m \u001B[38;5;28mcls\u001B[39m\u001B[38;5;241m.\u001B[39m_view_without_verification():\n\u001B[1;32m    137\u001B[0m         array \u001B[38;5;241m=\u001B[39m array\u001B[38;5;241m.\u001B[39mview(\u001B[38;5;28mcls\u001B[39m)\n\u001B[1;32m    138\u001B[0m     \u001B[38;5;28;01mreturn\u001B[39;00m array\n",
      "File \u001B[0;32m~/miniconda3/envs/pytorch-stable/lib/python3.10/contextlib.py:135\u001B[0m, in \u001B[0;36m_GeneratorContextManager.__enter__\u001B[0;34m(self)\u001B[0m\n\u001B[1;32m    133\u001B[0m \u001B[38;5;28;01mdel\u001B[39;00m \u001B[38;5;28mself\u001B[39m\u001B[38;5;241m.\u001B[39margs, \u001B[38;5;28mself\u001B[39m\u001B[38;5;241m.\u001B[39mkwds, \u001B[38;5;28mself\u001B[39m\u001B[38;5;241m.\u001B[39mfunc\n\u001B[1;32m    134\u001B[0m \u001B[38;5;28;01mtry\u001B[39;00m:\n\u001B[0;32m--> 135\u001B[0m     \u001B[38;5;28;01mreturn\u001B[39;00m \u001B[38;5;28;43mnext\u001B[39;49m\u001B[43m(\u001B[49m\u001B[38;5;28;43mself\u001B[39;49m\u001B[38;5;241;43m.\u001B[39;49m\u001B[43mgen\u001B[49m\u001B[43m)\u001B[49m\n\u001B[1;32m    136\u001B[0m \u001B[38;5;28;01mexcept\u001B[39;00m \u001B[38;5;167;01mStopIteration\u001B[39;00m:\n\u001B[1;32m    137\u001B[0m     \u001B[38;5;28;01mraise\u001B[39;00m \u001B[38;5;167;01mRuntimeError\u001B[39;00m(\u001B[38;5;124m\"\u001B[39m\u001B[38;5;124mgenerator didn\u001B[39m\u001B[38;5;124m'\u001B[39m\u001B[38;5;124mt yield\u001B[39m\u001B[38;5;124m\"\u001B[39m) \u001B[38;5;28;01mfrom\u001B[39;00m \u001B[38;5;28mNone\u001B[39m\n",
      "File \u001B[0;32m~/miniconda3/envs/pytorch-stable/lib/python3.10/site-packages/galois/_domains/_array.py:140\u001B[0m, in \u001B[0;36mArray._view_without_verification\u001B[0;34m(cls)\u001B[0m\n\u001B[1;32m    137\u001B[0m         array \u001B[38;5;241m=\u001B[39m array\u001B[38;5;241m.\u001B[39mview(\u001B[38;5;28mcls\u001B[39m)\n\u001B[1;32m    138\u001B[0m     \u001B[38;5;28;01mreturn\u001B[39;00m array\n\u001B[0;32m--> 140\u001B[0m \u001B[38;5;129m@classmethod\u001B[39m\n\u001B[1;32m    141\u001B[0m \u001B[38;5;129m@contextlib\u001B[39m\u001B[38;5;241m.\u001B[39mcontextmanager\n\u001B[1;32m    142\u001B[0m \u001B[38;5;28;01mdef\u001B[39;00m \u001B[38;5;21m_view_without_verification\u001B[39m(\u001B[38;5;28mcls\u001B[39m):\n\u001B[1;32m    143\u001B[0m     \u001B[38;5;124;03m\"\"\"\u001B[39;00m\n\u001B[1;32m    144\u001B[0m \u001B[38;5;124;03m    A context manager to disable verifying array element values are within [0, order).\u001B[39;00m\n\u001B[1;32m    145\u001B[0m \n\u001B[1;32m    146\u001B[0m \u001B[38;5;124;03m    For internal library use only.\u001B[39;00m\n\u001B[1;32m    147\u001B[0m \u001B[38;5;124;03m    \"\"\"\u001B[39;00m\n\u001B[1;32m    148\u001B[0m     prev_value \u001B[38;5;241m=\u001B[39m \u001B[38;5;28mcls\u001B[39m\u001B[38;5;241m.\u001B[39m_verify_on_view\n",
      "\u001B[0;31mKeyboardInterrupt\u001B[0m: "
     ]
    }
   ],
   "source": [
    "# create the basis dataset\n",
    "prime = 5\n",
    "data_range = 2\n",
    "num_of_samples = 800000\n",
    "weight = 1\n",
    "dataset = create_lcc_dataset_k1_t1_scalar(prime, data_range, num_of_samples, weight)"
   ],
   "metadata": {
    "collapsed": false,
    "ExecuteTime": {
     "end_time": "2023-11-21T09:31:55.822497776Z",
     "start_time": "2023-11-21T09:30:46.370006564Z"
    }
   },
   "id": "d52797b0247350ca"
  },
  {
   "cell_type": "code",
   "execution_count": null,
   "outputs": [],
   "source": [
    "dataset = np.concatenate([dataset[:, :3], dataset[:, 4:]], axis=1)"
   ],
   "metadata": {
    "collapsed": false,
    "ExecuteTime": {
     "start_time": "2023-11-21T09:31:55.812092908Z"
    }
   },
   "id": "ed2f70bcfd6065fe"
  },
  {
   "cell_type": "code",
   "execution_count": null,
   "outputs": [],
   "source": [
    "# create the joint and marginal datasets\n",
    "num_of_neighbors = 4\n",
    "x_idx, y_idx, z_idx = [0, 1], [3, 4, 5], [2]\n",
    "joint_data, joint_label, marginal_data, marginal_label = create_knn_sampling_joint_cond_marginal_dataset(dataset, num_of_neighbors, x_idx, y_idx, z_idx)\n",
    "data, label = np.concatenate([joint_data, marginal_data]), np.concatenate([joint_label, marginal_label])\n",
    "randomize_idx = np.random.permutation(np.arange(2 * num_of_samples))\n",
    "data, label = data[randomize_idx], label[randomize_idx]"
   ],
   "metadata": {
    "collapsed": false,
    "ExecuteTime": {
     "start_time": "2023-11-21T09:31:55.812331907Z"
    }
   },
   "id": "62da61c8fc32e6fa"
  },
  {
   "cell_type": "code",
   "execution_count": null,
   "outputs": [],
   "source": [
    "# define model parameters\n",
    "num_input_features = len(x_idx) + len(y_idx) + len(z_idx)\n",
    "hidden_size_arr = [256, 256, 256]\n",
    "lr = 0.001"
   ],
   "metadata": {
    "collapsed": false,
    "ExecuteTime": {
     "start_time": "2023-11-21T09:31:55.812488300Z"
    }
   },
   "id": "4cb99642d6db7215"
  },
  {
   "cell_type": "code",
   "execution_count": null,
   "outputs": [],
   "source": [
    "num_of_outer_iteration = 20\n",
    "num_of_inner_iteration = 50\n",
    "batch_size = 4096\n",
    "\n",
    "# iterate over many times\n",
    "outer_running_loss = []\n",
    "outer_running_loss_avg = []\n",
    "ldr_estimations = []\n",
    "dv_estimations = []\n",
    "nwj_estimations = []\n",
    "\n",
    "for outer_iter in range(num_of_outer_iteration):\n",
    "    print('################################################################')\n",
    "    model, inner_running_loss, inner_running_loss_avg, num_of_joint, num_of_marginal = train_binary_classifier_v2(data, label, num_input_features, hidden_size_arr, lr, num_of_inner_iteration, batch_size, outer_iter, save_avg=200, print_progress=True)\n",
    "    outer_running_loss.append(inner_running_loss)\n",
    "    outer_running_loss_avg.append(inner_running_loss_avg)\n",
    "    \n",
    "    ## estimate cmi\n",
    "    curr_ldr, curr_dv, curr_nwj = estimate_mi_for_binary_classification(model, joint_data, num_of_joint, marginal_data, num_of_marginal)\n",
    "    print('trial: {}, ldr: {}, dv: {}, nwj: {}'.format(outer_iter + 1, curr_ldr.item(), curr_dv.item(), curr_nwj.item()))\n",
    "    print('################################################################\\n')\n",
    "    ldr_estimations.append(curr_ldr.item())\n",
    "    dv_estimations.append(curr_dv.item())\n",
    "    nwj_estimations.append(curr_nwj.item())\n",
    "    \n",
    "print('final estimations:\\n\\tldr: {}\\n\\tdv: {}\\n\\tnwj: {}'.format(np.mean(ldr_estimations), np.mean(dv_estimations), np.mean(nwj_estimations)))"
   ],
   "metadata": {
    "collapsed": false,
    "ExecuteTime": {
     "start_time": "2023-11-21T09:31:55.812572342Z"
    }
   },
   "id": "146b880bcd657c43"
  }
 ],
 "metadata": {
  "kernelspec": {
   "display_name": "Python 3",
   "language": "python",
   "name": "python3"
  },
  "language_info": {
   "codemirror_mode": {
    "name": "ipython",
    "version": 2
   },
   "file_extension": ".py",
   "mimetype": "text/x-python",
   "name": "python",
   "nbconvert_exporter": "python",
   "pygments_lexer": "ipython2",
   "version": "2.7.6"
  }
 },
 "nbformat": 4,
 "nbformat_minor": 5
}
