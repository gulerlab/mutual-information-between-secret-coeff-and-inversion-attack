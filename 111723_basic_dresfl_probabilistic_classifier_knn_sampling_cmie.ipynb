{
 "cells": [
  {
   "cell_type": "code",
   "execution_count": 1,
   "id": "initial_id",
   "metadata": {
    "collapsed": true,
    "ExecuteTime": {
     "end_time": "2023-11-17T09:51:26.987809479Z",
     "start_time": "2023-11-17T09:51:25.785176929Z"
    }
   },
   "outputs": [],
   "source": [
    "import numpy as np\n",
    "from probabilistic_classifier.knn_sampling.cmie_utils import batch_construction, train_classifier, estimate_CMI\n",
    "from lcc.dataset import create_lcc_dataset_k1_t1_scalar"
   ]
  },
  {
   "cell_type": "code",
   "execution_count": 2,
   "outputs": [],
   "source": [
    "# dataset variables\n",
    "idx_x, idx_y, idx_z = [0], [2], [1]\n",
    "dim_x, dim_y, dim_z = 2, 3, 1\n",
    "seed = 123\n",
    "num_of_samples = 10000\n",
    "\n",
    "\n",
    "# model variables\n",
    "k_neighbor = 2\n",
    "lr = 0.002\n",
    "tau_clipping = 0.0001\n",
    "batch_size = num_of_samples // 2 \n",
    "trial = 20\n",
    "repetition = 10\n",
    "epoch = 300\n",
    "input_size = dim_x + dim_y + dim_z\n",
    "hidden_size = 64\n",
    "num_classes = 2\n",
    "\n",
    "# dresfl variables\n",
    "prime = 5\n",
    "data_range = 2\n",
    "weight = 1"
   ],
   "metadata": {
    "collapsed": false,
    "ExecuteTime": {
     "end_time": "2023-11-17T09:51:28.292049601Z",
     "start_time": "2023-11-17T09:51:28.289327012Z"
    }
   },
   "id": "63f3f4d8a8e3e562"
  },
  {
   "cell_type": "code",
   "execution_count": 3,
   "outputs": [
    {
     "name": "stdout",
     "output_type": "stream",
     "text": [
      "repetition: 0, trial: 0, ldr: 2.3450300958710937, dv: 2.6460022975763007, nwj: 2.6049317499383413\n",
      "repetition: 0, trial: 1, ldr: 2.3310493775734678, dv: 2.645934265345092, nwj: 2.6011764908455124\n",
      "repetition: 0, trial: 2, ldr: 2.3351973608304135, dv: -5.400597291345625, nwj: -2285.491605651496\n",
      "repetition: 0, trial: 3, ldr: 1.9728411848598615, dv: -4.788370591318611, nwj: -860.7153174762351\n",
      "repetition: 0, trial: 4, ldr: 3.635979545365451, dv: 4.338631660765911, nwj: 4.140709498228726\n",
      "repetition: 0, trial: 5, ldr: 2.330182324176143, dv: -5.382983449877607, nwj: -2234.2846578596755\n",
      "repetition: 0, trial: 6, ldr: 3.6822268218377707, dv: -3.9147440214174716, nwj: -1987.469977973213\n",
      "repetition: 0, trial: 7, ldr: 2.388358257211677, dv: -5.324525921155103, nwj: -2233.5964679473173\n",
      "repetition: 0, trial: 8, ldr: 1.7581070239795955, dv: 2.033005167579745, nwj: 1.9984575295324183\n",
      "repetition: 0, trial: 9, ldr: 1.8722081058109823, dv: 2.2086063931603914, nwj: 2.1578695686637546\n",
      "repetition: 0, trial: 10, ldr: 2.336003257101638, dv: -6.052499012478297, nwj: -4392.892392707927\n",
      "repetition: 0, trial: 11, ldr: 2.315302568115636, dv: 2.604344526148135, nwj: 2.5663217891321235\n",
      "repetition: 0, trial: 12, ldr: 4.391415362487813, dv: -3.4410486783752043, nwj: -2515.7424877684457\n",
      "repetition: 0, trial: 13, ldr: 1.8659107969918627, dv: -4.7823081618834635, nwj: -768.5432790240123\n",
      "repetition: 0, trial: 14, ldr: 2.344690648798834, dv: -6.063237982070407, nwj: -4479.121356290261\n",
      "repetition: 0, trial: 15, ldr: 2.0431068010697233, dv: -5.001431741275732, nwj: -1143.5365089776137\n",
      "repetition: 0, trial: 16, ldr: 4.394445027339223, dv: -4.189164239885918, nwj: -5337.961919670001\n",
      "repetition: 0, trial: 17, ldr: 2.0256779721481815, dv: -5.09870109620356, nwj: -1238.8511290139957\n",
      "repetition: 0, trial: 18, ldr: 1.9356176100304896, dv: -4.755364304500659, nwj: -802.1767981141217\n",
      "repetition: 0, trial: 19, ldr: 2.184930889756728, dv: 2.4268171901192277, nwj: 2.399785446527452\n",
      "repetition: 1, trial: 0, ldr: 2.1067584141423623, dv: -5.710323272981287, nwj: -2479.5429190126574\n",
      "repetition: 1, trial: 1, ldr: 1.8667841740651707, dv: -4.718266398704792, nwj: -721.3208867433883\n",
      "repetition: 1, trial: 2, ldr: 4.122014156403912, dv: -4.454760770247013, nwj: -5301.840538844536\n",
      "repetition: 1, trial: 3, ldr: 1.910640181614777, dv: -5.401194031280895, nwj: -1495.0115389699681\n",
      "repetition: 1, trial: 4, ldr: 4.152881934477488, dv: -3.61761671624647, nwj: -2364.4997408556433\n",
      "repetition: 1, trial: 5, ldr: 4.367740446885703, dv: -3.2361246488771354, nwj: -2000.5663178823231\n",
      "repetition: 1, trial: 6, ldr: 2.3541471215591865, dv: -5.262817906872549, nwj: -2029.030383755903\n",
      "repetition: 1, trial: 7, ldr: 1.6897887692576936, dv: 1.97775926257677, nwj: 1.9400050537161904\n",
      "repetition: 1, trial: 8, ldr: 3.7692672985338453, dv: -4.217877414078682, nwj: -2938.1129102275886\n"
     ]
    },
    {
     "ename": "KeyboardInterrupt",
     "evalue": "",
     "output_type": "error",
     "traceback": [
      "\u001B[0;31m---------------------------------------------------------------------------\u001B[0m",
      "\u001B[0;31mKeyboardInterrupt\u001B[0m                         Traceback (most recent call last)",
      "Cell \u001B[0;32mIn[3], line 6\u001B[0m\n\u001B[1;32m      4\u001B[0m dataset \u001B[38;5;241m=\u001B[39m create_lcc_dataset_k1_t1_scalar(prime, data_range, num_of_samples, weight)\n\u001B[1;32m      5\u001B[0m \u001B[38;5;28;01mfor\u001B[39;00m t \u001B[38;5;129;01min\u001B[39;00m \u001B[38;5;28mrange\u001B[39m(trial):\n\u001B[0;32m----> 6\u001B[0m     train_data, train_label, joint_test, prod_test \u001B[38;5;241m=\u001B[39m \u001B[43mbatch_construction\u001B[49m\u001B[43m(\u001B[49m\u001B[43m[\u001B[49m\u001B[43mx\u001B[49m\u001B[43m \u001B[49m\u001B[38;5;28;43;01mfor\u001B[39;49;00m\u001B[43m \u001B[49m\u001B[43mi\u001B[49m\u001B[43m,\u001B[49m\u001B[43m \u001B[49m\u001B[43mx\u001B[49m\u001B[43m \u001B[49m\u001B[38;5;129;43;01min\u001B[39;49;00m\u001B[43m \u001B[49m\u001B[38;5;28;43menumerate\u001B[39;49m\u001B[43m(\u001B[49m\u001B[43mnp\u001B[49m\u001B[38;5;241;43m.\u001B[39;49m\u001B[43msplit\u001B[49m\u001B[43m(\u001B[49m\u001B[43mdataset\u001B[49m\u001B[43m,\u001B[49m\u001B[43m \u001B[49m\u001B[43m[\u001B[49m\u001B[38;5;241;43m2\u001B[39;49m\u001B[43m,\u001B[49m\u001B[43m \u001B[49m\u001B[38;5;241;43m3\u001B[39;49m\u001B[43m,\u001B[49m\u001B[43m \u001B[49m\u001B[38;5;241;43m4\u001B[39;49m\u001B[43m]\u001B[49m\u001B[43m,\u001B[49m\u001B[43m \u001B[49m\u001B[43maxis\u001B[49m\u001B[38;5;241;43m=\u001B[39;49m\u001B[38;5;241;43m1\u001B[39;49m\u001B[43m)\u001B[49m\u001B[43m)\u001B[49m\u001B[43m \u001B[49m\u001B[38;5;28;43;01mif\u001B[39;49;00m\u001B[43m \u001B[49m\u001B[43mi\u001B[49m\u001B[43m \u001B[49m\u001B[38;5;241;43m!=\u001B[39;49m\u001B[43m \u001B[49m\u001B[38;5;241;43m2\u001B[39;49m\u001B[43m]\u001B[49m\u001B[43m,\u001B[49m\u001B[43m \u001B[49m\u001B[43m[\u001B[49m\u001B[43midx_x\u001B[49m\u001B[43m,\u001B[49m\u001B[43m \u001B[49m\u001B[43midx_y\u001B[49m\u001B[43m,\u001B[49m\u001B[43m \u001B[49m\u001B[43midx_z\u001B[49m\u001B[43m]\u001B[49m\u001B[43m,\u001B[49m\u001B[43m \u001B[49m\u001B[43mset_size\u001B[49m\u001B[38;5;241;43m=\u001B[39;49m\u001B[43mbatch_size\u001B[49m\u001B[43m,\u001B[49m\u001B[43m \u001B[49m\u001B[43mK_neighbor\u001B[49m\u001B[38;5;241;43m=\u001B[39;49m\u001B[43mk_neighbor\u001B[49m\u001B[43m)\u001B[49m\n\u001B[1;32m      7\u001B[0m     model, loss_e \u001B[38;5;241m=\u001B[39m train_classifier(BatchTrain\u001B[38;5;241m=\u001B[39mtrain_data, TargetTrain\u001B[38;5;241m=\u001B[39mtrain_label, Params\u001B[38;5;241m=\u001B[39m(input_size, hidden_size, num_classes, tau_clipping), Epoch\u001B[38;5;241m=\u001B[39mepoch, Lr\u001B[38;5;241m=\u001B[39mlr, Seed\u001B[38;5;241m=\u001B[39mseed)\n\u001B[1;32m      8\u001B[0m     curr_cmi \u001B[38;5;241m=\u001B[39m estimate_CMI(model, joint_test, prod_test)\n",
      "File \u001B[0;32m~/Desktop/umityigitbsrn/research/repos/mutual-information-between-secret-coeff-and-inversion-attack/probabilistic_classifier/knn_sampling/cmie_utils.py:78\u001B[0m, in \u001B[0;36mbatch_construction\u001B[0;34m(data, arrange, set_size, K_neighbor)\u001B[0m\n\u001B[1;32m     76\u001B[0m joint_test \u001B[38;5;241m=\u001B[39m sample_batch(Test_set, arrange, batch_size\u001B[38;5;241m=\u001B[39mset_size, sample_mode\u001B[38;5;241m=\u001B[39m\u001B[38;5;124m'\u001B[39m\u001B[38;5;124mjoint\u001B[39m\u001B[38;5;124m'\u001B[39m, K_neighbor\u001B[38;5;241m=\u001B[39mK_neighbor)\n\u001B[1;32m     77\u001B[0m joint_test \u001B[38;5;241m=\u001B[39m autograd\u001B[38;5;241m.\u001B[39mVariable(torch\u001B[38;5;241m.\u001B[39mtensor(joint_test)\u001B[38;5;241m.\u001B[39mfloat())\n\u001B[0;32m---> 78\u001B[0m prod_test \u001B[38;5;241m=\u001B[39m \u001B[43msample_batch\u001B[49m\u001B[43m(\u001B[49m\u001B[43mTest_set\u001B[49m\u001B[43m,\u001B[49m\u001B[43m \u001B[49m\u001B[43marrange\u001B[49m\u001B[43m,\u001B[49m\u001B[43m \u001B[49m\u001B[43mbatch_size\u001B[49m\u001B[38;5;241;43m=\u001B[39;49m\u001B[43mset_size\u001B[49m\u001B[43m,\u001B[49m\u001B[43m \u001B[49m\u001B[43msample_mode\u001B[49m\u001B[38;5;241;43m=\u001B[39;49m\u001B[38;5;124;43m'\u001B[39;49m\u001B[38;5;124;43mprod_iso_kNN\u001B[39;49m\u001B[38;5;124;43m'\u001B[39;49m\u001B[43m,\u001B[49m\n\u001B[1;32m     79\u001B[0m \u001B[43m                         \u001B[49m\u001B[43mK_neighbor\u001B[49m\u001B[38;5;241;43m=\u001B[39;49m\u001B[43mK_neighbor\u001B[49m\u001B[43m)\u001B[49m\n\u001B[1;32m     80\u001B[0m prod_test \u001B[38;5;241m=\u001B[39m autograd\u001B[38;5;241m.\u001B[39mVariable(torch\u001B[38;5;241m.\u001B[39mtensor(prod_test)\u001B[38;5;241m.\u001B[39mfloat())\n\u001B[1;32m     82\u001B[0m \u001B[38;5;28;01mreturn\u001B[39;00m batch_train, target_train, joint_test, prod_test\n",
      "File \u001B[0;32m~/Desktop/umityigitbsrn/research/repos/mutual-information-between-secret-coeff-and-inversion-attack/probabilistic_classifier/knn_sampling/cmie_utils.py:41\u001B[0m, in \u001B[0;36msample_batch\u001B[0;34m(data, arrange, batch_size, sample_mode, K_neighbor, radius)\u001B[0m\n\u001B[1;32m     39\u001B[0m Z2 \u001B[38;5;241m=\u001B[39m np\u001B[38;5;241m.\u001B[39masarray([element \u001B[38;5;28;01mfor\u001B[39;00m i, element \u001B[38;5;129;01min\u001B[39;00m \u001B[38;5;28menumerate\u001B[39m(Z) \u001B[38;5;28;01mif\u001B[39;00m i \u001B[38;5;129;01mnot\u001B[39;00m \u001B[38;5;129;01min\u001B[39;00m index_yz])\n\u001B[1;32m     40\u001B[0m neigh\u001B[38;5;241m.\u001B[39mfit(Z2)\n\u001B[0;32m---> 41\u001B[0m Neighbor_indices \u001B[38;5;241m=\u001B[39m \u001B[43mneigh\u001B[49m\u001B[38;5;241;43m.\u001B[39;49m\u001B[43mkneighbors\u001B[49m\u001B[43m(\u001B[49m\u001B[43mZ\u001B[49m\u001B[43m[\u001B[49m\u001B[43mindex_yz\u001B[49m\u001B[43m]\u001B[49m\u001B[43m,\u001B[49m\u001B[43m \u001B[49m\u001B[43mreturn_distance\u001B[49m\u001B[38;5;241;43m=\u001B[39;49m\u001B[38;5;28;43;01mFalse\u001B[39;49;00m\u001B[43m)\u001B[49m\n\u001B[1;32m     42\u001B[0m index_x \u001B[38;5;241m=\u001B[39m []\n\u001B[1;32m     43\u001B[0m index_y \u001B[38;5;241m=\u001B[39m []\n",
      "File \u001B[0;32m~/miniconda3/envs/pytorch-stable/lib/python3.10/site-packages/sklearn/neighbors/_base.py:879\u001B[0m, in \u001B[0;36mKNeighborsMixin.kneighbors\u001B[0;34m(self, X, n_neighbors, return_distance)\u001B[0m\n\u001B[1;32m    873\u001B[0m     \u001B[38;5;28;01mif\u001B[39;00m issparse(X):\n\u001B[1;32m    874\u001B[0m         \u001B[38;5;28;01mraise\u001B[39;00m \u001B[38;5;167;01mValueError\u001B[39;00m(\n\u001B[1;32m    875\u001B[0m             \u001B[38;5;124m\"\u001B[39m\u001B[38;5;132;01m%s\u001B[39;00m\u001B[38;5;124m does not work with sparse matrices. Densify the data, \u001B[39m\u001B[38;5;124m\"\u001B[39m\n\u001B[1;32m    876\u001B[0m             \u001B[38;5;124m\"\u001B[39m\u001B[38;5;124mor set algorithm=\u001B[39m\u001B[38;5;124m'\u001B[39m\u001B[38;5;124mbrute\u001B[39m\u001B[38;5;124m'\u001B[39m\u001B[38;5;124m\"\u001B[39m\n\u001B[1;32m    877\u001B[0m             \u001B[38;5;241m%\u001B[39m \u001B[38;5;28mself\u001B[39m\u001B[38;5;241m.\u001B[39m_fit_method\n\u001B[1;32m    878\u001B[0m         )\n\u001B[0;32m--> 879\u001B[0m     chunked_results \u001B[38;5;241m=\u001B[39m \u001B[43mParallel\u001B[49m\u001B[43m(\u001B[49m\u001B[43mn_jobs\u001B[49m\u001B[43m,\u001B[49m\u001B[43m \u001B[49m\u001B[43mprefer\u001B[49m\u001B[38;5;241;43m=\u001B[39;49m\u001B[38;5;124;43m\"\u001B[39;49m\u001B[38;5;124;43mthreads\u001B[39;49m\u001B[38;5;124;43m\"\u001B[39;49m\u001B[43m)\u001B[49m\u001B[43m(\u001B[49m\n\u001B[1;32m    880\u001B[0m \u001B[43m        \u001B[49m\u001B[43mdelayed\u001B[49m\u001B[43m(\u001B[49m\u001B[43m_tree_query_parallel_helper\u001B[49m\u001B[43m)\u001B[49m\u001B[43m(\u001B[49m\n\u001B[1;32m    881\u001B[0m \u001B[43m            \u001B[49m\u001B[38;5;28;43mself\u001B[39;49m\u001B[38;5;241;43m.\u001B[39;49m\u001B[43m_tree\u001B[49m\u001B[43m,\u001B[49m\u001B[43m \u001B[49m\u001B[43mX\u001B[49m\u001B[43m[\u001B[49m\u001B[43ms\u001B[49m\u001B[43m]\u001B[49m\u001B[43m,\u001B[49m\u001B[43m \u001B[49m\u001B[43mn_neighbors\u001B[49m\u001B[43m,\u001B[49m\u001B[43m \u001B[49m\u001B[43mreturn_distance\u001B[49m\n\u001B[1;32m    882\u001B[0m \u001B[43m        \u001B[49m\u001B[43m)\u001B[49m\n\u001B[1;32m    883\u001B[0m \u001B[43m        \u001B[49m\u001B[38;5;28;43;01mfor\u001B[39;49;00m\u001B[43m \u001B[49m\u001B[43ms\u001B[49m\u001B[43m \u001B[49m\u001B[38;5;129;43;01min\u001B[39;49;00m\u001B[43m \u001B[49m\u001B[43mgen_even_slices\u001B[49m\u001B[43m(\u001B[49m\u001B[43mX\u001B[49m\u001B[38;5;241;43m.\u001B[39;49m\u001B[43mshape\u001B[49m\u001B[43m[\u001B[49m\u001B[38;5;241;43m0\u001B[39;49m\u001B[43m]\u001B[49m\u001B[43m,\u001B[49m\u001B[43m \u001B[49m\u001B[43mn_jobs\u001B[49m\u001B[43m)\u001B[49m\n\u001B[1;32m    884\u001B[0m \u001B[43m    \u001B[49m\u001B[43m)\u001B[49m\n\u001B[1;32m    885\u001B[0m \u001B[38;5;28;01melse\u001B[39;00m:\n\u001B[1;32m    886\u001B[0m     \u001B[38;5;28;01mraise\u001B[39;00m \u001B[38;5;167;01mValueError\u001B[39;00m(\u001B[38;5;124m\"\u001B[39m\u001B[38;5;124minternal: _fit_method not recognized\u001B[39m\u001B[38;5;124m\"\u001B[39m)\n",
      "File \u001B[0;32m~/miniconda3/envs/pytorch-stable/lib/python3.10/site-packages/sklearn/utils/parallel.py:63\u001B[0m, in \u001B[0;36mParallel.__call__\u001B[0;34m(self, iterable)\u001B[0m\n\u001B[1;32m     58\u001B[0m config \u001B[38;5;241m=\u001B[39m get_config()\n\u001B[1;32m     59\u001B[0m iterable_with_config \u001B[38;5;241m=\u001B[39m (\n\u001B[1;32m     60\u001B[0m     (_with_config(delayed_func, config), args, kwargs)\n\u001B[1;32m     61\u001B[0m     \u001B[38;5;28;01mfor\u001B[39;00m delayed_func, args, kwargs \u001B[38;5;129;01min\u001B[39;00m iterable\n\u001B[1;32m     62\u001B[0m )\n\u001B[0;32m---> 63\u001B[0m \u001B[38;5;28;01mreturn\u001B[39;00m \u001B[38;5;28;43msuper\u001B[39;49m\u001B[43m(\u001B[49m\u001B[43m)\u001B[49m\u001B[38;5;241;43m.\u001B[39;49m\u001B[38;5;21;43m__call__\u001B[39;49m\u001B[43m(\u001B[49m\u001B[43miterable_with_config\u001B[49m\u001B[43m)\u001B[49m\n",
      "File \u001B[0;32m~/miniconda3/envs/pytorch-stable/lib/python3.10/site-packages/joblib/parallel.py:1085\u001B[0m, in \u001B[0;36mParallel.__call__\u001B[0;34m(self, iterable)\u001B[0m\n\u001B[1;32m   1076\u001B[0m \u001B[38;5;28;01mtry\u001B[39;00m:\n\u001B[1;32m   1077\u001B[0m     \u001B[38;5;66;03m# Only set self._iterating to True if at least a batch\u001B[39;00m\n\u001B[1;32m   1078\u001B[0m     \u001B[38;5;66;03m# was dispatched. In particular this covers the edge\u001B[39;00m\n\u001B[0;32m   (...)\u001B[0m\n\u001B[1;32m   1082\u001B[0m     \u001B[38;5;66;03m# was very quick and its callback already dispatched all the\u001B[39;00m\n\u001B[1;32m   1083\u001B[0m     \u001B[38;5;66;03m# remaining jobs.\u001B[39;00m\n\u001B[1;32m   1084\u001B[0m     \u001B[38;5;28mself\u001B[39m\u001B[38;5;241m.\u001B[39m_iterating \u001B[38;5;241m=\u001B[39m \u001B[38;5;28;01mFalse\u001B[39;00m\n\u001B[0;32m-> 1085\u001B[0m     \u001B[38;5;28;01mif\u001B[39;00m \u001B[38;5;28;43mself\u001B[39;49m\u001B[38;5;241;43m.\u001B[39;49m\u001B[43mdispatch_one_batch\u001B[49m\u001B[43m(\u001B[49m\u001B[43miterator\u001B[49m\u001B[43m)\u001B[49m:\n\u001B[1;32m   1086\u001B[0m         \u001B[38;5;28mself\u001B[39m\u001B[38;5;241m.\u001B[39m_iterating \u001B[38;5;241m=\u001B[39m \u001B[38;5;28mself\u001B[39m\u001B[38;5;241m.\u001B[39m_original_iterator \u001B[38;5;129;01mis\u001B[39;00m \u001B[38;5;129;01mnot\u001B[39;00m \u001B[38;5;28;01mNone\u001B[39;00m\n\u001B[1;32m   1088\u001B[0m     \u001B[38;5;28;01mwhile\u001B[39;00m \u001B[38;5;28mself\u001B[39m\u001B[38;5;241m.\u001B[39mdispatch_one_batch(iterator):\n",
      "File \u001B[0;32m~/miniconda3/envs/pytorch-stable/lib/python3.10/site-packages/joblib/parallel.py:901\u001B[0m, in \u001B[0;36mParallel.dispatch_one_batch\u001B[0;34m(self, iterator)\u001B[0m\n\u001B[1;32m    899\u001B[0m     \u001B[38;5;28;01mreturn\u001B[39;00m \u001B[38;5;28;01mFalse\u001B[39;00m\n\u001B[1;32m    900\u001B[0m \u001B[38;5;28;01melse\u001B[39;00m:\n\u001B[0;32m--> 901\u001B[0m     \u001B[38;5;28;43mself\u001B[39;49m\u001B[38;5;241;43m.\u001B[39;49m\u001B[43m_dispatch\u001B[49m\u001B[43m(\u001B[49m\u001B[43mtasks\u001B[49m\u001B[43m)\u001B[49m\n\u001B[1;32m    902\u001B[0m     \u001B[38;5;28;01mreturn\u001B[39;00m \u001B[38;5;28;01mTrue\u001B[39;00m\n",
      "File \u001B[0;32m~/miniconda3/envs/pytorch-stable/lib/python3.10/site-packages/joblib/parallel.py:819\u001B[0m, in \u001B[0;36mParallel._dispatch\u001B[0;34m(self, batch)\u001B[0m\n\u001B[1;32m    817\u001B[0m \u001B[38;5;28;01mwith\u001B[39;00m \u001B[38;5;28mself\u001B[39m\u001B[38;5;241m.\u001B[39m_lock:\n\u001B[1;32m    818\u001B[0m     job_idx \u001B[38;5;241m=\u001B[39m \u001B[38;5;28mlen\u001B[39m(\u001B[38;5;28mself\u001B[39m\u001B[38;5;241m.\u001B[39m_jobs)\n\u001B[0;32m--> 819\u001B[0m     job \u001B[38;5;241m=\u001B[39m \u001B[38;5;28;43mself\u001B[39;49m\u001B[38;5;241;43m.\u001B[39;49m\u001B[43m_backend\u001B[49m\u001B[38;5;241;43m.\u001B[39;49m\u001B[43mapply_async\u001B[49m\u001B[43m(\u001B[49m\u001B[43mbatch\u001B[49m\u001B[43m,\u001B[49m\u001B[43m \u001B[49m\u001B[43mcallback\u001B[49m\u001B[38;5;241;43m=\u001B[39;49m\u001B[43mcb\u001B[49m\u001B[43m)\u001B[49m\n\u001B[1;32m    820\u001B[0m     \u001B[38;5;66;03m# A job can complete so quickly than its callback is\u001B[39;00m\n\u001B[1;32m    821\u001B[0m     \u001B[38;5;66;03m# called before we get here, causing self._jobs to\u001B[39;00m\n\u001B[1;32m    822\u001B[0m     \u001B[38;5;66;03m# grow. To ensure correct results ordering, .insert is\u001B[39;00m\n\u001B[1;32m    823\u001B[0m     \u001B[38;5;66;03m# used (rather than .append) in the following line\u001B[39;00m\n\u001B[1;32m    824\u001B[0m     \u001B[38;5;28mself\u001B[39m\u001B[38;5;241m.\u001B[39m_jobs\u001B[38;5;241m.\u001B[39minsert(job_idx, job)\n",
      "File \u001B[0;32m~/miniconda3/envs/pytorch-stable/lib/python3.10/site-packages/joblib/_parallel_backends.py:208\u001B[0m, in \u001B[0;36mSequentialBackend.apply_async\u001B[0;34m(self, func, callback)\u001B[0m\n\u001B[1;32m    206\u001B[0m \u001B[38;5;28;01mdef\u001B[39;00m \u001B[38;5;21mapply_async\u001B[39m(\u001B[38;5;28mself\u001B[39m, func, callback\u001B[38;5;241m=\u001B[39m\u001B[38;5;28;01mNone\u001B[39;00m):\n\u001B[1;32m    207\u001B[0m     \u001B[38;5;124;03m\"\"\"Schedule a func to be run\"\"\"\u001B[39;00m\n\u001B[0;32m--> 208\u001B[0m     result \u001B[38;5;241m=\u001B[39m \u001B[43mImmediateResult\u001B[49m\u001B[43m(\u001B[49m\u001B[43mfunc\u001B[49m\u001B[43m)\u001B[49m\n\u001B[1;32m    209\u001B[0m     \u001B[38;5;28;01mif\u001B[39;00m callback:\n\u001B[1;32m    210\u001B[0m         callback(result)\n",
      "File \u001B[0;32m~/miniconda3/envs/pytorch-stable/lib/python3.10/site-packages/joblib/_parallel_backends.py:597\u001B[0m, in \u001B[0;36mImmediateResult.__init__\u001B[0;34m(self, batch)\u001B[0m\n\u001B[1;32m    594\u001B[0m \u001B[38;5;28;01mdef\u001B[39;00m \u001B[38;5;21m__init__\u001B[39m(\u001B[38;5;28mself\u001B[39m, batch):\n\u001B[1;32m    595\u001B[0m     \u001B[38;5;66;03m# Don't delay the application, to avoid keeping the input\u001B[39;00m\n\u001B[1;32m    596\u001B[0m     \u001B[38;5;66;03m# arguments in memory\u001B[39;00m\n\u001B[0;32m--> 597\u001B[0m     \u001B[38;5;28mself\u001B[39m\u001B[38;5;241m.\u001B[39mresults \u001B[38;5;241m=\u001B[39m \u001B[43mbatch\u001B[49m\u001B[43m(\u001B[49m\u001B[43m)\u001B[49m\n",
      "File \u001B[0;32m~/miniconda3/envs/pytorch-stable/lib/python3.10/site-packages/joblib/parallel.py:288\u001B[0m, in \u001B[0;36mBatchedCalls.__call__\u001B[0;34m(self)\u001B[0m\n\u001B[1;32m    284\u001B[0m \u001B[38;5;28;01mdef\u001B[39;00m \u001B[38;5;21m__call__\u001B[39m(\u001B[38;5;28mself\u001B[39m):\n\u001B[1;32m    285\u001B[0m     \u001B[38;5;66;03m# Set the default nested backend to self._backend but do not set the\u001B[39;00m\n\u001B[1;32m    286\u001B[0m     \u001B[38;5;66;03m# change the default number of processes to -1\u001B[39;00m\n\u001B[1;32m    287\u001B[0m     \u001B[38;5;28;01mwith\u001B[39;00m parallel_backend(\u001B[38;5;28mself\u001B[39m\u001B[38;5;241m.\u001B[39m_backend, n_jobs\u001B[38;5;241m=\u001B[39m\u001B[38;5;28mself\u001B[39m\u001B[38;5;241m.\u001B[39m_n_jobs):\n\u001B[0;32m--> 288\u001B[0m         \u001B[38;5;28;01mreturn\u001B[39;00m [func(\u001B[38;5;241m*\u001B[39margs, \u001B[38;5;241m*\u001B[39m\u001B[38;5;241m*\u001B[39mkwargs)\n\u001B[1;32m    289\u001B[0m                 \u001B[38;5;28;01mfor\u001B[39;00m func, args, kwargs \u001B[38;5;129;01min\u001B[39;00m \u001B[38;5;28mself\u001B[39m\u001B[38;5;241m.\u001B[39mitems]\n",
      "File \u001B[0;32m~/miniconda3/envs/pytorch-stable/lib/python3.10/site-packages/joblib/parallel.py:288\u001B[0m, in \u001B[0;36m<listcomp>\u001B[0;34m(.0)\u001B[0m\n\u001B[1;32m    284\u001B[0m \u001B[38;5;28;01mdef\u001B[39;00m \u001B[38;5;21m__call__\u001B[39m(\u001B[38;5;28mself\u001B[39m):\n\u001B[1;32m    285\u001B[0m     \u001B[38;5;66;03m# Set the default nested backend to self._backend but do not set the\u001B[39;00m\n\u001B[1;32m    286\u001B[0m     \u001B[38;5;66;03m# change the default number of processes to -1\u001B[39;00m\n\u001B[1;32m    287\u001B[0m     \u001B[38;5;28;01mwith\u001B[39;00m parallel_backend(\u001B[38;5;28mself\u001B[39m\u001B[38;5;241m.\u001B[39m_backend, n_jobs\u001B[38;5;241m=\u001B[39m\u001B[38;5;28mself\u001B[39m\u001B[38;5;241m.\u001B[39m_n_jobs):\n\u001B[0;32m--> 288\u001B[0m         \u001B[38;5;28;01mreturn\u001B[39;00m [\u001B[43mfunc\u001B[49m\u001B[43m(\u001B[49m\u001B[38;5;241;43m*\u001B[39;49m\u001B[43margs\u001B[49m\u001B[43m,\u001B[49m\u001B[43m \u001B[49m\u001B[38;5;241;43m*\u001B[39;49m\u001B[38;5;241;43m*\u001B[39;49m\u001B[43mkwargs\u001B[49m\u001B[43m)\u001B[49m\n\u001B[1;32m    289\u001B[0m                 \u001B[38;5;28;01mfor\u001B[39;00m func, args, kwargs \u001B[38;5;129;01min\u001B[39;00m \u001B[38;5;28mself\u001B[39m\u001B[38;5;241m.\u001B[39mitems]\n",
      "File \u001B[0;32m~/miniconda3/envs/pytorch-stable/lib/python3.10/site-packages/sklearn/utils/parallel.py:123\u001B[0m, in \u001B[0;36m_FuncWrapper.__call__\u001B[0;34m(self, *args, **kwargs)\u001B[0m\n\u001B[1;32m    121\u001B[0m     config \u001B[38;5;241m=\u001B[39m {}\n\u001B[1;32m    122\u001B[0m \u001B[38;5;28;01mwith\u001B[39;00m config_context(\u001B[38;5;241m*\u001B[39m\u001B[38;5;241m*\u001B[39mconfig):\n\u001B[0;32m--> 123\u001B[0m     \u001B[38;5;28;01mreturn\u001B[39;00m \u001B[38;5;28;43mself\u001B[39;49m\u001B[38;5;241;43m.\u001B[39;49m\u001B[43mfunction\u001B[49m\u001B[43m(\u001B[49m\u001B[38;5;241;43m*\u001B[39;49m\u001B[43margs\u001B[49m\u001B[43m,\u001B[49m\u001B[43m \u001B[49m\u001B[38;5;241;43m*\u001B[39;49m\u001B[38;5;241;43m*\u001B[39;49m\u001B[43mkwargs\u001B[49m\u001B[43m)\u001B[49m\n",
      "File \u001B[0;32m~/miniconda3/envs/pytorch-stable/lib/python3.10/site-packages/sklearn/neighbors/_base.py:685\u001B[0m, in \u001B[0;36m_tree_query_parallel_helper\u001B[0;34m(tree, *args, **kwargs)\u001B[0m\n\u001B[1;32m    679\u001B[0m \u001B[38;5;28;01mdef\u001B[39;00m \u001B[38;5;21m_tree_query_parallel_helper\u001B[39m(tree, \u001B[38;5;241m*\u001B[39margs, \u001B[38;5;241m*\u001B[39m\u001B[38;5;241m*\u001B[39mkwargs):\n\u001B[1;32m    680\u001B[0m     \u001B[38;5;124;03m\"\"\"Helper for the Parallel calls in KNeighborsMixin.kneighbors.\u001B[39;00m\n\u001B[1;32m    681\u001B[0m \n\u001B[1;32m    682\u001B[0m \u001B[38;5;124;03m    The Cython method tree.query is not directly picklable by cloudpickle\u001B[39;00m\n\u001B[1;32m    683\u001B[0m \u001B[38;5;124;03m    under PyPy.\u001B[39;00m\n\u001B[1;32m    684\u001B[0m \u001B[38;5;124;03m    \"\"\"\u001B[39;00m\n\u001B[0;32m--> 685\u001B[0m     \u001B[38;5;28;01mreturn\u001B[39;00m \u001B[43mtree\u001B[49m\u001B[38;5;241;43m.\u001B[39;49m\u001B[43mquery\u001B[49m\u001B[43m(\u001B[49m\u001B[38;5;241;43m*\u001B[39;49m\u001B[43margs\u001B[49m\u001B[43m,\u001B[49m\u001B[43m \u001B[49m\u001B[38;5;241;43m*\u001B[39;49m\u001B[38;5;241;43m*\u001B[39;49m\u001B[43mkwargs\u001B[49m\u001B[43m)\u001B[49m\n",
      "\u001B[0;31mKeyboardInterrupt\u001B[0m: "
     ]
    }
   ],
   "source": [
    "last_ldr_arr, last_dv_arr, last_nwj_arr = [], [], []\n",
    "for r in range(repetition):\n",
    "    ldr_arr, dv_arr, nwj_arr = [], [], []\n",
    "    dataset = create_lcc_dataset_k1_t1_scalar(prime, data_range, num_of_samples, weight)\n",
    "    for t in range(trial):\n",
    "        train_data, train_label, joint_test, prod_test = batch_construction([x for i, x in enumerate(np.split(dataset, [2, 3, 4], axis=1)) if i != 2], [idx_x, idx_y, idx_z], set_size=batch_size, K_neighbor=k_neighbor)\n",
    "        model, loss_e = train_classifier(BatchTrain=train_data, TargetTrain=train_label, Params=(input_size, hidden_size, num_classes, tau_clipping), Epoch=epoch, Lr=lr, Seed=seed)\n",
    "        curr_cmi = estimate_CMI(model, joint_test, prod_test)\n",
    "        curr_ldr, curr_dv, curr_nwj = curr_cmi[0], curr_cmi[1], curr_cmi[2]\n",
    "        ldr_arr.append(curr_ldr)\n",
    "        dv_arr.append(curr_dv)\n",
    "        nwj_arr.append(curr_nwj)\n",
    "        print('repetition: {}, trial: {}, ldr: {}, dv: {}, nwj: {}'.format(r, t, curr_ldr, curr_dv, curr_nwj))\n",
    "    last_ldr_arr.append(np.mean(ldr_arr))\n",
    "    last_dv_arr.append(np.mean(dv_arr))\n",
    "    last_nwj_arr.append(np.mean(nwj_arr))"
   ],
   "metadata": {
    "collapsed": false,
    "ExecuteTime": {
     "end_time": "2023-11-17T09:52:14.606091893Z",
     "start_time": "2023-11-17T09:51:29.788350430Z"
    }
   },
   "id": "1b3726286cc7784b"
  },
  {
   "cell_type": "code",
   "execution_count": 5,
   "outputs": [
    {
     "data": {
      "text/plain": "0.9499470167851358"
     },
     "execution_count": 5,
     "metadata": {},
     "output_type": "execute_result"
    }
   ],
   "source": [
    "np.mean(last_dv_arr)"
   ],
   "metadata": {
    "collapsed": false,
    "ExecuteTime": {
     "end_time": "2023-11-17T09:19:05.834100726Z",
     "start_time": "2023-11-17T09:19:05.791278634Z"
    }
   },
   "id": "b33b974b7b943086"
  }
 ],
 "metadata": {
  "kernelspec": {
   "display_name": "Python 3",
   "language": "python",
   "name": "python3"
  },
  "language_info": {
   "codemirror_mode": {
    "name": "ipython",
    "version": 2
   },
   "file_extension": ".py",
   "mimetype": "text/x-python",
   "name": "python",
   "nbconvert_exporter": "python",
   "pygments_lexer": "ipython2",
   "version": "2.7.6"
  }
 },
 "nbformat": 4,
 "nbformat_minor": 5
}
