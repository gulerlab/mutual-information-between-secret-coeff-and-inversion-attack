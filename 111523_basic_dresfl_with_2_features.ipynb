{
 "cells": [
  {
   "cell_type": "markdown",
   "source": [
    "# DReS-FL Experiment \n",
    "\n",
    "- K = 1\n",
    "- T = 1\n",
    "- input dimension = 2\n",
    "- linear regression\n",
    "- w = [1 1]\n",
    "- finite field size = 5\n",
    "- inputs are selected from {0, 1}\n",
    "- no relationship between x and y\n",
    "- the gradient is supposed to be revealed at the end of each training round\n",
    "\n",
    "Basically, our objective function is $l = (y - xw)^2$ and our gradient is $g = -2(xy - x^2w)$ "
   ],
   "metadata": {
    "collapsed": false
   },
   "id": "f5b3c4298b0e65eb"
  },
  {
   "cell_type": "code",
   "execution_count": 1,
   "outputs": [
    {
     "name": "stderr",
     "output_type": "stream",
     "text": [
      "An NVIDIA GPU may be present on this machine, but a CUDA-enabled jaxlib is not installed. Falling back to cpu.\n"
     ]
    }
   ],
   "source": [
    "import numpy as np\n",
    "from lcc.polynomials import LCCPoly, InterpolatedPoly\n",
    "from mutual_information.estimators.neural.benchmark import neural_estimator_benchmark"
   ],
   "metadata": {
    "collapsed": false,
    "ExecuteTime": {
     "end_time": "2023-11-15T19:39:36.543329829Z",
     "start_time": "2023-11-15T19:39:35.552455022Z"
    }
   },
   "id": "5ecd3014be47b957"
  },
  {
   "cell_type": "code",
   "execution_count": 2,
   "outputs": [],
   "source": [
    "prime = 5\n",
    "data_range = 2\n",
    "para_param = 1 # K\n",
    "priv_param = 1 # T\n",
    "\n",
    "num_of_samples = 5000\n",
    "beta_arr = [0, 1]\n",
    "alpha_arr = [2, 3, 4] # number of clients = 3\n",
    "weight = np.asarray([[1], [1]])"
   ],
   "metadata": {
    "collapsed": false,
    "ExecuteTime": {
     "end_time": "2023-11-15T19:39:36.543459743Z",
     "start_time": "2023-11-15T19:39:36.529590683Z"
    }
   },
   "id": "cea634fe6a81f53"
  },
  {
   "cell_type": "code",
   "execution_count": 3,
   "outputs": [],
   "source": [
    "def create_encoded_dataset(encoded_data_pol, data_size, encoded_label_pol, alpha):\n",
    "    encoded_data = np.empty((len(encoded_data_pol), *data_size)) \n",
    "    encoded_label = np.empty((len(encoded_label_pol), 1))\n",
    "    for idx, (data_pol, label_pol) in enumerate(zip(encoded_data_pol, encoded_label_pol)):\n",
    "        encoded_data[idx] = data_pol(alpha)\n",
    "        encoded_label[idx][0] = label_pol(alpha)\n",
    "    return encoded_data, encoded_label\n",
    "\n",
    "def calculate_gradient_samplewise(encoded_data, encoded_label, curr_weight, p):\n",
    "    # g = -2(xy - x^2w)\n",
    "    gradient = np.empty((encoded_data.shape[0], *curr_weight.shape))\n",
    "    for idx in range(encoded_data.shape[0]):\n",
    "        data, label = encoded_data[idx], encoded_label[idx]\n",
    "        gradient[idx] = (label - (data.T @ curr_weight)[0][0]) % p\n",
    "        gradient[idx] = (data * gradient[idx]) % p\n",
    "        gradient[idx] = (-2 * gradient[idx]) % p\n",
    "    gradient = gradient.astype(int)\n",
    "    return gradient"
   ],
   "metadata": {
    "collapsed": false,
    "ExecuteTime": {
     "end_time": "2023-11-15T19:39:37.010646345Z",
     "start_time": "2023-11-15T19:39:37.009268252Z"
    }
   },
   "id": "2d6a184396caa636"
  },
  {
   "cell_type": "code",
   "execution_count": 4,
   "outputs": [],
   "source": [
    "secret_data = np.random.randint(low=0, high=2, size=(num_of_samples, 2, 1))\n",
    "secret_label = np.random.randint(low=0, high=2, size=(num_of_samples, 1))\n",
    "encoded_secret_data_pol = [LCCPoly(beta_arr, [x], para_param, priv_param, prime, size=(2, 1)) for x in secret_data]\n",
    "encoded_secret_label_pol = [LCCPoly(beta_arr, [x[0]], para_param, priv_param, prime) for x in secret_label]"
   ],
   "metadata": {
    "collapsed": false,
    "ExecuteTime": {
     "end_time": "2023-11-15T19:39:41.534434547Z",
     "start_time": "2023-11-15T19:39:37.845043383Z"
    }
   },
   "id": "705f968c5d9b62fc"
  },
  {
   "cell_type": "code",
   "execution_count": 5,
   "outputs": [],
   "source": [
    "# client 0\n",
    "client_0_encoded_data, client_0_encoded_label = create_encoded_dataset(encoded_secret_data_pol, (2, 1), encoded_secret_label_pol, alpha_arr[0])\n",
    "client_0_encoded_gradient = calculate_gradient_samplewise(client_0_encoded_data, client_0_encoded_label, weight, prime)\n",
    "\n",
    "# client 1\n",
    "client_1_encoded_data, client_1_encoded_label = create_encoded_dataset(encoded_secret_data_pol, (2, 1), encoded_secret_label_pol, alpha_arr[1])\n",
    "client_1_encoded_gradient = calculate_gradient_samplewise(client_1_encoded_data, client_1_encoded_label, weight, prime)\n",
    "\n",
    "# client 2\n",
    "client_2_encoded_data, client_2_encoded_label = create_encoded_dataset(encoded_secret_data_pol, (2, 1), encoded_secret_label_pol, alpha_arr[2])\n",
    "client_2_encoded_gradient = calculate_gradient_samplewise(client_2_encoded_data, client_2_encoded_label, weight, prime)"
   ],
   "metadata": {
    "collapsed": false,
    "ExecuteTime": {
     "end_time": "2023-11-15T19:39:41.761459905Z",
     "start_time": "2023-11-15T19:39:41.584212028Z"
    }
   },
   "id": "ac2d268532e1f34a"
  },
  {
   "cell_type": "code",
   "execution_count": 6,
   "outputs": [],
   "source": [
    "revealed_gradients = np.empty(client_0_encoded_data.shape)\n",
    "revealed_random = np.empty(client_0_encoded_gradient.shape)\n",
    "revealed_poly_constructed_coeff = np.empty((client_0_encoded_gradient.shape[0], 2 * (para_param + priv_param - 1) + 1, client_0_encoded_gradient.shape[1], client_0_encoded_gradient.shape[2]))\n",
    "for gradient_idx in range(client_0_encoded_gradient.shape[0]):\n",
    "    revealed_poly = InterpolatedPoly([client_0_encoded_gradient[gradient_idx], client_1_encoded_gradient[gradient_idx], client_2_encoded_gradient[gradient_idx]], alpha_arr, prime)\n",
    "    revealed_gradients[gradient_idx] = revealed_poly(beta_arr[0])\n",
    "    revealed_random[gradient_idx] = revealed_poly(beta_arr[1])\n",
    "    revealed_poly_constructed_coeff[gradient_idx] = revealed_poly.coefficients"
   ],
   "metadata": {
    "collapsed": false,
    "ExecuteTime": {
     "end_time": "2023-11-15T19:39:43.887020719Z",
     "start_time": "2023-11-15T19:39:41.765238503Z"
    }
   },
   "id": "a77a29cfacc3050a"
  },
  {
   "cell_type": "code",
   "execution_count": 7,
   "outputs": [],
   "source": [
    "# create dataset\n",
    "resulting_dataset = np.concatenate([secret_data.reshape(num_of_samples, -1), secret_label, revealed_gradients.reshape(num_of_samples, -1), revealed_random.reshape(num_of_samples, -1), revealed_poly_constructed_coeff.reshape(num_of_samples, -1)], axis=1)"
   ],
   "metadata": {
    "collapsed": false,
    "ExecuteTime": {
     "end_time": "2023-11-15T19:39:43.895895516Z",
     "start_time": "2023-11-15T19:39:43.887803624Z"
    }
   },
   "id": "4566e622a38e75c5"
  },
  {
   "cell_type": "code",
   "execution_count": 9,
   "outputs": [
    {
     "name": "stderr",
     "output_type": "stream",
     "text": [
      " 18%|█████████▎                                           | 1750/10000 [02:09<10:11, 13.50step/s, test=1.87, train=1.93]\n"
     ]
    },
    {
     "name": "stdout",
     "output_type": "stream",
     "text": [
      "Donker Varadhan estimator: 1.88\n"
     ]
    },
    {
     "name": "stderr",
     "output_type": "stream",
     "text": [
      " 22%|███████████▋                                        | 2250/10000 [00:06<00:23, 331.96step/s, test=1.90, train=2.26]\n"
     ]
    },
    {
     "name": "stdout",
     "output_type": "stream",
     "text": [
      "MINE estimator: 1.93\n"
     ]
    },
    {
     "name": "stderr",
     "output_type": "stream",
     "text": [
      " 18%|█████████▎                                           | 1750/10000 [02:09<10:11, 13.48step/s, test=1.90, train=1.91]\n"
     ]
    },
    {
     "name": "stdout",
     "output_type": "stream",
     "text": [
      "InfoNCE estimator: 1.90\n"
     ]
    },
    {
     "name": "stderr",
     "output_type": "stream",
     "text": [
      " 12%|██████▋                                              | 1250/10000 [01:33<10:51, 13.43step/s, test=1.88, train=1.92]"
     ]
    },
    {
     "name": "stdout",
     "output_type": "stream",
     "text": [
      "NWJ estimator: 1.88\n"
     ]
    },
    {
     "name": "stderr",
     "output_type": "stream",
     "text": [
      "\n"
     ]
    }
   ],
   "source": [
    "estimators_all, results_all = neural_estimator_benchmark(resulting_dataset[:, :3], resulting_dataset[:, 7:])"
   ],
   "metadata": {
    "collapsed": false,
    "ExecuteTime": {
     "end_time": "2023-11-15T19:46:13.419596549Z",
     "start_time": "2023-11-15T19:40:12.933375797Z"
    }
   },
   "id": "4e4d497917e37ba1"
  },
  {
   "cell_type": "code",
   "execution_count": 10,
   "outputs": [
    {
     "name": "stderr",
     "output_type": "stream",
     "text": [
      " 25%|█████████████▎                                       | 2500/10000 [03:16<09:50, 12.69step/s, test=1.38, train=1.36]\n"
     ]
    },
    {
     "name": "stdout",
     "output_type": "stream",
     "text": [
      "Donker Varadhan estimator: 1.39\n"
     ]
    },
    {
     "name": "stderr",
     "output_type": "stream",
     "text": [
      " 12%|██████▌                                             | 1250/10000 [00:05<00:41, 213.22step/s, test=1.41, train=1.51]\n"
     ]
    },
    {
     "name": "stdout",
     "output_type": "stream",
     "text": [
      "MINE estimator: 1.44\n"
     ]
    },
    {
     "name": "stderr",
     "output_type": "stream",
     "text": [
      " 10%|█████▎                                               | 1000/10000 [01:36<14:24, 10.41step/s, test=1.38, train=1.32]\n"
     ]
    },
    {
     "name": "stdout",
     "output_type": "stream",
     "text": [
      "InfoNCE estimator: 1.38\n"
     ]
    },
    {
     "name": "stderr",
     "output_type": "stream",
     "text": [
      " 25%|█████████████▎                                       | 2500/10000 [04:09<12:28, 10.02step/s, test=1.38, train=1.36]"
     ]
    },
    {
     "name": "stdout",
     "output_type": "stream",
     "text": [
      "NWJ estimator: 1.38\n"
     ]
    },
    {
     "name": "stderr",
     "output_type": "stream",
     "text": [
      "\n"
     ]
    }
   ],
   "source": [
    "estimators_revealed_gradient, results_revealed_gradient = neural_estimator_benchmark(resulting_dataset[:, :3], resulting_dataset[:, 3:5])"
   ],
   "metadata": {
    "collapsed": false,
    "ExecuteTime": {
     "start_time": "2023-11-15T19:46:13.418673238Z"
    }
   },
   "id": "f4987aa6326c8320"
  }
 ],
 "metadata": {
  "kernelspec": {
   "display_name": "Python 3",
   "language": "python",
   "name": "python3"
  },
  "language_info": {
   "codemirror_mode": {
    "name": "ipython",
    "version": 2
   },
   "file_extension": ".py",
   "mimetype": "text/x-python",
   "name": "python",
   "nbconvert_exporter": "python",
   "pygments_lexer": "ipython2",
   "version": "2.7.6"
  }
 },
 "nbformat": 4,
 "nbformat_minor": 5
}
