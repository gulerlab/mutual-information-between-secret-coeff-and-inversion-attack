{
 "cells": [
  {
   "cell_type": "markdown",
   "source": [
    "# DReS-FL Experiment \n",
    "\n",
    "- K = 1\n",
    "- T = 1\n",
    "- input dimension = [2, 3, 4, 5, 6, 7, 8, 9, 10]\n",
    "- linear regression\n",
    "- w = [1 1]\n",
    "- finite field size = 23\n",
    "- inputs are selected from {0, 1}\n",
    "- no relationship between x and y\n",
    "- the gradient is supposed to be revealed at the end of each training round\n",
    "\n",
    "Basically, our objective function is $l = (y - xw)^2$ and our gradient is $g = -2(xy - x^2w)$ "
   ],
   "metadata": {
    "collapsed": false
   },
   "id": "f5b3c4298b0e65eb"
  },
  {
   "cell_type": "code",
   "execution_count": 1,
   "outputs": [
    {
     "name": "stderr",
     "output_type": "stream",
     "text": [
      "An NVIDIA GPU may be present on this machine, but a CUDA-enabled jaxlib is not installed. Falling back to cpu.\n"
     ]
    }
   ],
   "source": [
    "import numpy as np\n",
    "from lcc.polynomials import LCCPoly, InterpolatedPoly\n",
    "from mutual_information.estimators.neural.benchmark import neural_estimator_benchmark"
   ],
   "metadata": {
    "collapsed": false,
    "ExecuteTime": {
     "end_time": "2023-11-15T22:00:22.456003023Z",
     "start_time": "2023-11-15T22:00:21.372334502Z"
    }
   },
   "id": "5ecd3014be47b957"
  },
  {
   "cell_type": "code",
   "execution_count": 2,
   "outputs": [],
   "source": [
    "def create_encoded_dataset(encoded_data_pol, data_size, encoded_label_pol, alpha):\n",
    "    encoded_data = np.empty((len(encoded_data_pol), *data_size)) \n",
    "    encoded_label = np.empty((len(encoded_label_pol), 1))\n",
    "    for idx, (data_pol, label_pol) in enumerate(zip(encoded_data_pol, encoded_label_pol)):\n",
    "        encoded_data[idx] = data_pol(alpha)\n",
    "        encoded_label[idx][0] = label_pol(alpha)\n",
    "    return encoded_data, encoded_label\n",
    "\n",
    "def calculate_gradient_samplewise(encoded_data, encoded_label, curr_weight, p):\n",
    "    # g = -2(xy - x^2w)\n",
    "    gradient = np.empty((encoded_data.shape[0], *curr_weight.shape))\n",
    "    for idx in range(encoded_data.shape[0]):\n",
    "        data, label = encoded_data[idx], encoded_label[idx]\n",
    "        gradient[idx] = (label - (data.T @ curr_weight)[0][0]) % p\n",
    "        gradient[idx] = (data * gradient[idx]) % p\n",
    "        gradient[idx] = (-2 * gradient[idx]) % p\n",
    "    gradient = gradient.astype(int)\n",
    "    return gradient\n",
    "\n",
    "def main_mi_calculation(data_range, prime, para_param, priv_param, num_of_samples, beta_arr, alpha_arr, weight, feature_size):\n",
    "    secret_data = np.random.randint(low=0, high=data_range, size=(num_of_samples, feature_size, 1))\n",
    "    secret_label = np.random.randint(low=0, high=data_range, size=(num_of_samples, 1))\n",
    "    encoded_secret_data_pol = [LCCPoly(beta_arr, [x], para_param, priv_param, prime, size=(feature_size, 1)) for x in secret_data]\n",
    "    encoded_secret_label_pol = [LCCPoly(beta_arr, [x[0]], para_param, priv_param, prime) for x in secret_label]\n",
    "    print('pols created')\n",
    "    \n",
    "    # client 0\n",
    "    client_0_encoded_data, client_0_encoded_label = create_encoded_dataset(encoded_secret_data_pol, (feature_size, 1), encoded_secret_label_pol, alpha_arr[0])\n",
    "    client_0_encoded_gradient = calculate_gradient_samplewise(client_0_encoded_data, client_0_encoded_label, weight, prime)\n",
    "    \n",
    "    # client 1\n",
    "    client_1_encoded_data, client_1_encoded_label = create_encoded_dataset(encoded_secret_data_pol, (feature_size, 1), encoded_secret_label_pol, alpha_arr[1])\n",
    "    client_1_encoded_gradient = calculate_gradient_samplewise(client_1_encoded_data, client_1_encoded_label, weight, prime)\n",
    "    \n",
    "    # client 2\n",
    "    client_2_encoded_data, client_2_encoded_label = create_encoded_dataset(encoded_secret_data_pol, (feature_size, 1), encoded_secret_label_pol, alpha_arr[2])\n",
    "    client_2_encoded_gradient = calculate_gradient_samplewise(client_2_encoded_data, client_2_encoded_label, weight, prime)\n",
    "    print('gradient calculation for each client done')\n",
    "    \n",
    "    revealed_gradients = np.empty(client_0_encoded_data.shape)\n",
    "    revealed_random = np.empty(client_0_encoded_gradient.shape)\n",
    "    revealed_poly_constructed_coeff = np.empty((client_0_encoded_gradient.shape[0], 2 * (para_param + priv_param - 1) + 1, client_0_encoded_gradient.shape[1], client_0_encoded_gradient.shape[2]))\n",
    "    for gradient_idx in range(client_0_encoded_gradient.shape[0]):\n",
    "        revealed_poly = InterpolatedPoly([client_0_encoded_gradient[gradient_idx], client_1_encoded_gradient[gradient_idx], client_2_encoded_gradient[gradient_idx]], alpha_arr, prime)\n",
    "        revealed_gradients[gradient_idx] = revealed_poly(beta_arr[0])\n",
    "        revealed_random[gradient_idx] = revealed_poly(beta_arr[1])\n",
    "        revealed_poly_constructed_coeff[gradient_idx] = revealed_poly.coefficients\n",
    "    \n",
    "    # create dataset\n",
    "    resulting_dataset = np.concatenate([secret_data.reshape(num_of_samples, -1), secret_label, revealed_gradients.reshape(num_of_samples, -1), revealed_random.reshape(num_of_samples, -1), revealed_poly_constructed_coeff.reshape(num_of_samples, -1)], axis=1)\n",
    "    print('dataset is created')\n",
    "    \n",
    "    estimators_all, results_all = neural_estimator_benchmark(resulting_dataset[:, :(feature_size + 1)], resulting_dataset[:, (3 * feature_size + 1):])\n",
    "    estimators_revealed_gradient, results_revealed_gradient = neural_estimator_benchmark(resulting_dataset[:, :(feature_size + 1)], resulting_dataset[:, (feature_size + 1):(2 * feature_size + 1)])\n",
    "    return estimators_all, results_all, estimators_revealed_gradient, results_revealed_gradient"
   ],
   "metadata": {
    "collapsed": false,
    "ExecuteTime": {
     "end_time": "2023-11-15T22:00:22.464190701Z",
     "start_time": "2023-11-15T22:00:22.462481210Z"
    }
   },
   "id": "2d6a184396caa636"
  },
  {
   "cell_type": "code",
   "execution_count": 4,
   "outputs": [
    {
     "name": "stdout",
     "output_type": "stream",
     "text": [
      "###########################\n",
      "exp feature size: 2\n",
      "pols created\n",
      "gradient calculation for each client done\n",
      "dataset is created\n"
     ]
    },
    {
     "name": "stderr",
     "output_type": "stream",
     "text": [
      " 22%|███████████▉                                         | 2250/10000 [04:48<16:32,  7.81step/s, test=2.02, train=2.02]\n"
     ]
    },
    {
     "name": "stdout",
     "output_type": "stream",
     "text": [
      "Donker Varadhan estimator: 2.02\n"
     ]
    },
    {
     "name": "stderr",
     "output_type": "stream",
     "text": [
      " 22%|███████████▋                                        | 2250/10000 [00:11<00:40, 192.18step/s, test=1.97, train=2.05]\n"
     ]
    },
    {
     "name": "stdout",
     "output_type": "stream",
     "text": [
      "MINE estimator: 2.01\n"
     ]
    },
    {
     "name": "stderr",
     "output_type": "stream",
     "text": [
      " 20%|██████████▌                                          | 2000/10000 [04:13<16:54,  7.88step/s, test=2.02, train=2.02]\n"
     ]
    },
    {
     "name": "stdout",
     "output_type": "stream",
     "text": [
      "InfoNCE estimator: 2.02\n"
     ]
    },
    {
     "name": "stderr",
     "output_type": "stream",
     "text": [
      " 32%|█████████████████▏                                   | 3250/10000 [06:30<13:30,  8.33step/s, test=2.02, train=2.00]\n"
     ]
    },
    {
     "name": "stdout",
     "output_type": "stream",
     "text": [
      "NWJ estimator: 2.03\n"
     ]
    },
    {
     "name": "stderr",
     "output_type": "stream",
     "text": [
      " 20%|██████████▌                                          | 2000/10000 [03:53<15:32,  8.58step/s, test=1.38, train=1.36]\n"
     ]
    },
    {
     "name": "stdout",
     "output_type": "stream",
     "text": [
      "Donker Varadhan estimator: 1.38\n"
     ]
    },
    {
     "name": "stderr",
     "output_type": "stream",
     "text": [
      "  8%|███▉                                                 | 750/10000 [00:02<00:35, 258.13step/s, test=1.37, train=1.56]\n"
     ]
    },
    {
     "name": "stdout",
     "output_type": "stream",
     "text": [
      "MINE estimator: 1.44\n"
     ]
    },
    {
     "name": "stderr",
     "output_type": "stream",
     "text": [
      "  8%|████                                                  | 750/10000 [01:14<15:23, 10.01step/s, test=1.38, train=1.34]\n"
     ]
    },
    {
     "name": "stdout",
     "output_type": "stream",
     "text": [
      "InfoNCE estimator: 1.38\n"
     ]
    },
    {
     "name": "stderr",
     "output_type": "stream",
     "text": [
      " 20%|██████████▌                                          | 2000/10000 [03:18<13:15, 10.06step/s, test=1.38, train=1.37]\n"
     ]
    },
    {
     "name": "stdout",
     "output_type": "stream",
     "text": [
      "NWJ estimator: 1.38\n",
      "###########################\n",
      "\n",
      "###########################\n",
      "exp feature size: 3\n",
      "pols created\n",
      "gradient calculation for each client done\n",
      "dataset is created\n"
     ]
    },
    {
     "name": "stderr",
     "output_type": "stream",
     "text": [
      " 30%|███████████████▉                                     | 3000/10000 [05:02<11:46,  9.91step/s, test=2.71, train=2.73]\n"
     ]
    },
    {
     "name": "stdout",
     "output_type": "stream",
     "text": [
      "Donker Varadhan estimator: 2.72\n"
     ]
    },
    {
     "name": "stderr",
     "output_type": "stream",
     "text": [
      " 20%|██████████▍                                         | 2000/10000 [00:07<00:28, 277.89step/s, test=2.72, train=2.75]\n"
     ]
    },
    {
     "name": "stdout",
     "output_type": "stream",
     "text": [
      "WARNING: Smoothed raining MI was still increasing when training stopped: final=2.704 vs 1000 step(s) ago=2.534\n",
      "MINE estimator: 2.79\n"
     ]
    },
    {
     "name": "stderr",
     "output_type": "stream",
     "text": [
      " 15%|███████▉                                             | 1500/10000 [02:33<14:29,  9.78step/s, test=2.72, train=2.72]\n"
     ]
    },
    {
     "name": "stdout",
     "output_type": "stream",
     "text": [
      "InfoNCE estimator: 2.73\n"
     ]
    },
    {
     "name": "stderr",
     "output_type": "stream",
     "text": [
      " 18%|█████████▎                                           | 1750/10000 [02:58<14:03,  9.79step/s, test=2.70, train=2.77]\n"
     ]
    },
    {
     "name": "stdout",
     "output_type": "stream",
     "text": [
      "NWJ estimator: 2.71\n"
     ]
    },
    {
     "name": "stderr",
     "output_type": "stream",
     "text": [
      " 15%|███████▉                                             | 1500/10000 [02:29<14:06, 10.04step/s, test=2.26, train=2.23]\n"
     ]
    },
    {
     "name": "stdout",
     "output_type": "stream",
     "text": [
      "Donker Varadhan estimator: 2.26\n"
     ]
    },
    {
     "name": "stderr",
     "output_type": "stream",
     "text": [
      "  8%|███▉                                                 | 750/10000 [00:02<00:35, 257.56step/s, test=2.23, train=2.62]\n"
     ]
    },
    {
     "name": "stdout",
     "output_type": "stream",
     "text": [
      "MINE estimator: 2.25\n"
     ]
    },
    {
     "name": "stderr",
     "output_type": "stream",
     "text": [
      " 18%|█████████▎                                           | 1750/10000 [02:54<13:44, 10.01step/s, test=2.27, train=2.22]\n"
     ]
    },
    {
     "name": "stdout",
     "output_type": "stream",
     "text": [
      "InfoNCE estimator: 2.27\n"
     ]
    },
    {
     "name": "stderr",
     "output_type": "stream",
     "text": [
      " 15%|███████▉                                             | 1500/10000 [02:29<14:08, 10.01step/s, test=2.25, train=2.22]\n"
     ]
    },
    {
     "name": "stdout",
     "output_type": "stream",
     "text": [
      "NWJ estimator: 2.26\n",
      "###########################\n",
      "\n",
      "###########################\n",
      "exp feature size: 4\n",
      "pols created\n",
      "gradient calculation for each client done\n",
      "dataset is created\n"
     ]
    },
    {
     "name": "stderr",
     "output_type": "stream",
     "text": [
      " 10%|█████▎                                               | 1000/10000 [01:50<16:32,  9.07step/s, test=3.37, train=3.43]\n"
     ]
    },
    {
     "name": "stdout",
     "output_type": "stream",
     "text": [
      "Donker Varadhan estimator: 3.38\n"
     ]
    },
    {
     "name": "stderr",
     "output_type": "stream",
     "text": [
      " 18%|█████████                                           | 1750/10000 [00:06<00:29, 277.49step/s, test=3.29, train=3.36]\n"
     ]
    },
    {
     "name": "stdout",
     "output_type": "stream",
     "text": [
      "MINE estimator: 3.34\n"
     ]
    },
    {
     "name": "stderr",
     "output_type": "stream",
     "text": [
      " 10%|█████▎                                               | 1000/10000 [01:51<16:42,  8.98step/s, test=3.39, train=3.38]\n"
     ]
    },
    {
     "name": "stdout",
     "output_type": "stream",
     "text": [
      "InfoNCE estimator: 3.40\n"
     ]
    },
    {
     "name": "stderr",
     "output_type": "stream",
     "text": [
      " 15%|███████▉                                             | 1500/10000 [02:44<15:34,  9.09step/s, test=3.35, train=3.44]\n"
     ]
    },
    {
     "name": "stdout",
     "output_type": "stream",
     "text": [
      "NWJ estimator: 3.38\n"
     ]
    },
    {
     "name": "stderr",
     "output_type": "stream",
     "text": [
      " 20%|██████████▌                                          | 2000/10000 [03:20<13:22,  9.97step/s, test=3.11, train=3.17]\n"
     ]
    },
    {
     "name": "stdout",
     "output_type": "stream",
     "text": [
      "Donker Varadhan estimator: 3.12\n"
     ]
    },
    {
     "name": "stderr",
     "output_type": "stream",
     "text": [
      "  8%|███▉                                                 | 750/10000 [00:02<00:36, 252.68step/s, test=3.02, train=4.17]\n"
     ]
    },
    {
     "name": "stdout",
     "output_type": "stream",
     "text": [
      "MINE estimator: 3.13\n"
     ]
    },
    {
     "name": "stderr",
     "output_type": "stream",
     "text": [
      " 10%|█████▎                                               | 1000/10000 [01:39<14:54, 10.06step/s, test=3.12, train=3.05]\n"
     ]
    },
    {
     "name": "stdout",
     "output_type": "stream",
     "text": [
      "InfoNCE estimator: 3.12\n"
     ]
    },
    {
     "name": "stderr",
     "output_type": "stream",
     "text": [
      " 12%|██████▋                                              | 1250/10000 [02:04<14:34, 10.00step/s, test=3.10, train=3.08]\n"
     ]
    },
    {
     "name": "stdout",
     "output_type": "stream",
     "text": [
      "NWJ estimator: 3.11\n",
      "###########################\n",
      "\n",
      "###########################\n",
      "exp feature size: 5\n",
      "pols created\n",
      "gradient calculation for each client done\n",
      "dataset is created\n"
     ]
    },
    {
     "name": "stderr",
     "output_type": "stream",
     "text": [
      " 12%|██████▋                                              | 1250/10000 [02:23<16:43,  8.72step/s, test=4.06, train=4.14]\n"
     ]
    },
    {
     "name": "stdout",
     "output_type": "stream",
     "text": [
      "Donker Varadhan estimator: 4.08\n"
     ]
    },
    {
     "name": "stderr",
     "output_type": "stream",
     "text": [
      " 12%|██████▌                                             | 1250/10000 [00:04<00:32, 266.44step/s, test=3.84, train=4.21]\n"
     ]
    },
    {
     "name": "stdout",
     "output_type": "stream",
     "text": [
      "MINE estimator: 4.03\n"
     ]
    },
    {
     "name": "stderr",
     "output_type": "stream",
     "text": [
      " 10%|█████▎                                               | 1000/10000 [01:54<17:12,  8.72step/s, test=4.09, train=4.04]\n"
     ]
    },
    {
     "name": "stdout",
     "output_type": "stream",
     "text": [
      "InfoNCE estimator: 4.10\n"
     ]
    },
    {
     "name": "stderr",
     "output_type": "stream",
     "text": [
      " 10%|█████▎                                               | 1000/10000 [01:55<17:23,  8.63step/s, test=4.05, train=4.18]\n"
     ]
    },
    {
     "name": "stdout",
     "output_type": "stream",
     "text": [
      "NWJ estimator: 4.06\n"
     ]
    },
    {
     "name": "stderr",
     "output_type": "stream",
     "text": [
      " 15%|███████▉                                             | 1500/10000 [02:30<14:15,  9.94step/s, test=3.94, train=3.93]\n"
     ]
    },
    {
     "name": "stdout",
     "output_type": "stream",
     "text": [
      "Donker Varadhan estimator: 3.94\n"
     ]
    },
    {
     "name": "stderr",
     "output_type": "stream",
     "text": [
      " 15%|███████▊                                            | 1500/10000 [00:05<00:30, 277.96step/s, test=3.87, train=4.32]\n"
     ]
    },
    {
     "name": "stdout",
     "output_type": "stream",
     "text": [
      "MINE estimator: 4.03\n"
     ]
    },
    {
     "name": "stderr",
     "output_type": "stream",
     "text": [
      " 20%|██████████▌                                          | 2000/10000 [03:21<13:24,  9.94step/s, test=3.95, train=3.88]\n"
     ]
    },
    {
     "name": "stdout",
     "output_type": "stream",
     "text": [
      "InfoNCE estimator: 3.95\n"
     ]
    },
    {
     "name": "stderr",
     "output_type": "stream",
     "text": [
      " 20%|██████████▌                                          | 2000/10000 [03:19<13:16, 10.04step/s, test=3.92, train=4.04]\n"
     ]
    },
    {
     "name": "stdout",
     "output_type": "stream",
     "text": [
      "NWJ estimator: 3.93\n",
      "###########################\n",
      "\n",
      "###########################\n",
      "exp feature size: 6\n",
      "pols created\n",
      "gradient calculation for each client done\n",
      "dataset is created\n"
     ]
    },
    {
     "name": "stderr",
     "output_type": "stream",
     "text": [
      " 12%|██████▋                                              | 1250/10000 [02:15<15:46,  9.24step/s, test=4.72, train=4.85]\n"
     ]
    },
    {
     "name": "stdout",
     "output_type": "stream",
     "text": [
      "Donker Varadhan estimator: 4.76\n"
     ]
    },
    {
     "name": "stderr",
     "output_type": "stream",
     "text": [
      " 10%|█████▏                                              | 1000/10000 [00:03<00:34, 260.74step/s, test=4.31, train=4.57]\n"
     ]
    },
    {
     "name": "stdout",
     "output_type": "stream",
     "text": [
      "MINE estimator: 4.51\n"
     ]
    },
    {
     "name": "stderr",
     "output_type": "stream",
     "text": [
      " 12%|██████▋                                              | 1250/10000 [02:17<15:59,  9.12step/s, test=4.76, train=4.57]\n"
     ]
    },
    {
     "name": "stdout",
     "output_type": "stream",
     "text": [
      "InfoNCE estimator: 4.79\n"
     ]
    },
    {
     "name": "stderr",
     "output_type": "stream",
     "text": [
      " 15%|███████▉                                             | 1500/10000 [02:43<15:28,  9.15step/s, test=4.72, train=4.81]\n"
     ]
    },
    {
     "name": "stdout",
     "output_type": "stream",
     "text": [
      "NWJ estimator: 4.73\n"
     ]
    },
    {
     "name": "stderr",
     "output_type": "stream",
     "text": [
      " 15%|███████▉                                             | 1500/10000 [02:32<14:24,  9.84step/s, test=4.67, train=4.66]\n"
     ]
    },
    {
     "name": "stdout",
     "output_type": "stream",
     "text": [
      "Donker Varadhan estimator: 4.68\n"
     ]
    },
    {
     "name": "stderr",
     "output_type": "stream",
     "text": [
      " 10%|█████▏                                              | 1000/10000 [00:03<00:34, 263.39step/s, test=4.43, train=4.54]\n"
     ]
    },
    {
     "name": "stdout",
     "output_type": "stream",
     "text": [
      "MINE estimator: 4.61\n"
     ]
    },
    {
     "name": "stderr",
     "output_type": "stream",
     "text": [
      " 20%|██████████▌                                          | 2000/10000 [03:22<13:28,  9.90step/s, test=4.70, train=4.45]\n"
     ]
    },
    {
     "name": "stdout",
     "output_type": "stream",
     "text": [
      "InfoNCE estimator: 4.70\n"
     ]
    },
    {
     "name": "stderr",
     "output_type": "stream",
     "text": [
      " 12%|██████▋                                              | 1250/10000 [02:05<14:41,  9.93step/s, test=4.64, train=4.71]\n"
     ]
    },
    {
     "name": "stdout",
     "output_type": "stream",
     "text": [
      "NWJ estimator: 4.67\n",
      "###########################\n",
      "\n",
      "###########################\n",
      "exp feature size: 7\n",
      "pols created\n",
      "gradient calculation for each client done\n",
      "dataset is created\n"
     ]
    },
    {
     "name": "stderr",
     "output_type": "stream",
     "text": [
      " 12%|██████▋                                              | 1250/10000 [02:18<16:06,  9.06step/s, test=5.39, train=5.57]\n"
     ]
    },
    {
     "name": "stdout",
     "output_type": "stream",
     "text": [
      "Donker Varadhan estimator: 5.40\n"
     ]
    },
    {
     "name": "stderr",
     "output_type": "stream",
     "text": [
      "  8%|███▉                                                 | 750/10000 [00:03<00:37, 249.10step/s, test=4.84, train=4.20]\n"
     ]
    },
    {
     "name": "stdout",
     "output_type": "stream",
     "text": [
      "MINE estimator: 4.85\n"
     ]
    },
    {
     "name": "stderr",
     "output_type": "stream",
     "text": [
      " 22%|███████████▉                                         | 2250/10000 [04:10<14:21,  8.99step/s, test=5.45, train=4.93]\n"
     ]
    },
    {
     "name": "stdout",
     "output_type": "stream",
     "text": [
      "InfoNCE estimator: 5.46\n"
     ]
    },
    {
     "name": "stderr",
     "output_type": "stream",
     "text": [
      " 18%|█████████▎                                           | 1750/10000 [03:15<15:20,  8.97step/s, test=5.32, train=5.46]\n"
     ]
    },
    {
     "name": "stdout",
     "output_type": "stream",
     "text": [
      "NWJ estimator: 5.38\n"
     ]
    },
    {
     "name": "stderr",
     "output_type": "stream",
     "text": [
      " 10%|█████▎                                               | 1000/10000 [01:40<15:00,  9.99step/s, test=5.38, train=5.57]\n"
     ]
    },
    {
     "name": "stdout",
     "output_type": "stream",
     "text": [
      "Donker Varadhan estimator: 5.39\n"
     ]
    },
    {
     "name": "stderr",
     "output_type": "stream",
     "text": [
      " 10%|█████▏                                              | 1000/10000 [00:03<00:33, 267.26step/s, test=5.03, train=5.19]\n"
     ]
    },
    {
     "name": "stdout",
     "output_type": "stream",
     "text": [
      "MINE estimator: 5.15\n"
     ]
    },
    {
     "name": "stderr",
     "output_type": "stream",
     "text": [
      " 30%|███████████████▉                                     | 3000/10000 [05:03<11:47,  9.90step/s, test=5.45, train=4.93]\n"
     ]
    },
    {
     "name": "stdout",
     "output_type": "stream",
     "text": [
      "InfoNCE estimator: 5.45\n"
     ]
    },
    {
     "name": "stderr",
     "output_type": "stream",
     "text": [
      " 22%|███████████▉                                         | 2250/10000 [03:44<12:51, 10.04step/s, test=5.36, train=5.46]\n"
     ]
    },
    {
     "name": "stdout",
     "output_type": "stream",
     "text": [
      "NWJ estimator: 5.39\n",
      "###########################\n",
      "\n",
      "###########################\n",
      "exp feature size: 8\n",
      "pols created\n",
      "gradient calculation for each client done\n",
      "dataset is created\n"
     ]
    },
    {
     "name": "stderr",
     "output_type": "stream",
     "text": [
      "  8%|████                                                  | 750/10000 [01:21<16:50,  9.15step/s, test=6.01, train=6.34]\n"
     ]
    },
    {
     "name": "stdout",
     "output_type": "stream",
     "text": [
      "Donker Varadhan estimator: 6.05\n"
     ]
    },
    {
     "name": "stderr",
     "output_type": "stream",
     "text": [
      " 15%|███████▊                                            | 1500/10000 [00:05<00:31, 273.71step/s, test=5.53, train=9.03]\n"
     ]
    },
    {
     "name": "stdout",
     "output_type": "stream",
     "text": [
      "MINE estimator: 5.57\n"
     ]
    },
    {
     "name": "stderr",
     "output_type": "stream",
     "text": [
      " 15%|███████▉                                             | 1500/10000 [02:43<15:23,  9.20step/s, test=6.09, train=5.21]\n"
     ]
    },
    {
     "name": "stdout",
     "output_type": "stream",
     "text": [
      "InfoNCE estimator: 6.11\n"
     ]
    },
    {
     "name": "stderr",
     "output_type": "stream",
     "text": [
      " 22%|███████████▉                                         | 2250/10000 [04:06<14:09,  9.13step/s, test=5.96, train=6.42]\n"
     ]
    },
    {
     "name": "stdout",
     "output_type": "stream",
     "text": [
      "NWJ estimator: 6.02\n"
     ]
    },
    {
     "name": "stderr",
     "output_type": "stream",
     "text": [
      " 18%|█████████▎                                           | 1750/10000 [03:10<14:58,  9.18step/s, test=6.08, train=6.41]\n"
     ]
    },
    {
     "name": "stdout",
     "output_type": "stream",
     "text": [
      "Donker Varadhan estimator: 6.10\n"
     ]
    },
    {
     "name": "stderr",
     "output_type": "stream",
     "text": [
      " 10%|█████▏                                              | 1000/10000 [00:03<00:33, 264.76step/s, test=5.49, train=4.85]\n"
     ]
    },
    {
     "name": "stdout",
     "output_type": "stream",
     "text": [
      "MINE estimator: 5.55\n"
     ]
    },
    {
     "name": "stderr",
     "output_type": "stream",
     "text": [
      " 60%|███████████████████████████████▊                     | 6000/10000 [10:57<07:18,  9.13step/s, test=6.16, train=5.20]\n"
     ]
    },
    {
     "name": "stdout",
     "output_type": "stream",
     "text": [
      "InfoNCE estimator: 6.16\n"
     ]
    },
    {
     "name": "stderr",
     "output_type": "stream",
     "text": [
      " 15%|███████▉                                             | 1500/10000 [02:44<15:34,  9.09step/s, test=6.09, train=6.16]\n"
     ]
    },
    {
     "name": "stdout",
     "output_type": "stream",
     "text": [
      "NWJ estimator: 6.09\n",
      "###########################\n",
      "\n",
      "###########################\n",
      "exp feature size: 9\n",
      "pols created\n",
      "gradient calculation for each client done\n",
      "dataset is created\n"
     ]
    },
    {
     "name": "stderr",
     "output_type": "stream",
     "text": [
      " 15%|███████▉                                             | 1500/10000 [02:49<15:58,  8.87step/s, test=6.21, train=7.09]\n"
     ]
    },
    {
     "name": "stdout",
     "output_type": "stream",
     "text": [
      "Donker Varadhan estimator: 6.66\n"
     ]
    },
    {
     "name": "stderr",
     "output_type": "stream",
     "text": [
      " 10%|█████▏                                              | 1000/10000 [00:03<00:34, 258.05step/s, test=5.28, train=5.59]\n"
     ]
    },
    {
     "name": "stdout",
     "output_type": "stream",
     "text": [
      "MINE estimator: 6.67\n"
     ]
    },
    {
     "name": "stderr",
     "output_type": "stream",
     "text": [
      " 12%|██████▋                                              | 1250/10000 [02:20<16:25,  8.88step/s, test=6.65, train=5.40]\n"
     ]
    },
    {
     "name": "stdout",
     "output_type": "stream",
     "text": [
      "InfoNCE estimator: 6.73\n"
     ]
    },
    {
     "name": "stderr",
     "output_type": "stream",
     "text": [
      " 10%|█████▎                                               | 1000/10000 [01:53<16:59,  8.82step/s, test=6.37, train=6.89]\n"
     ]
    },
    {
     "name": "stdout",
     "output_type": "stream",
     "text": [
      "NWJ estimator: 6.40\n"
     ]
    },
    {
     "name": "stderr",
     "output_type": "stream",
     "text": [
      " 10%|█████▎                                               | 1000/10000 [01:49<16:24,  9.14step/s, test=6.69, train=7.07]\n"
     ]
    },
    {
     "name": "stdout",
     "output_type": "stream",
     "text": [
      "Donker Varadhan estimator: 6.74\n"
     ]
    },
    {
     "name": "stderr",
     "output_type": "stream",
     "text": [
      " 10%|█████▏                                              | 1000/10000 [00:03<00:33, 268.24step/s, test=5.79, train=6.86]\n"
     ]
    },
    {
     "name": "stdout",
     "output_type": "stream",
     "text": [
      "MINE estimator: 6.81\n"
     ]
    },
    {
     "name": "stderr",
     "output_type": "stream",
     "text": [
      " 55%|█████████████████████████████▏                       | 5500/10000 [09:58<08:09,  9.18step/s, test=6.84, train=5.35]\n"
     ]
    },
    {
     "name": "stdout",
     "output_type": "stream",
     "text": [
      "InfoNCE estimator: 6.84\n"
     ]
    },
    {
     "name": "stderr",
     "output_type": "stream",
     "text": [
      " 10%|█████▎                                               | 1000/10000 [01:49<16:22,  9.16step/s, test=6.48, train=6.95]\n"
     ]
    },
    {
     "name": "stdout",
     "output_type": "stream",
     "text": [
      "NWJ estimator: 6.50\n",
      "###########################\n",
      "\n",
      "###########################\n",
      "exp feature size: 10\n",
      "pols created\n",
      "gradient calculation for each client done\n",
      "dataset is created\n"
     ]
    },
    {
     "name": "stderr",
     "output_type": "stream",
     "text": [
      " 12%|██████▋                                              | 1250/10000 [02:19<16:16,  8.96step/s, test=6.24, train=6.89]\n"
     ]
    },
    {
     "name": "stdout",
     "output_type": "stream",
     "text": [
      "Donker Varadhan estimator: 7.31\n"
     ]
    },
    {
     "name": "stderr",
     "output_type": "stream",
     "text": [
      " 10%|█████▏                                              | 1000/10000 [00:03<00:34, 259.18step/s, test=4.31, train=3.34]\n"
     ]
    },
    {
     "name": "stdout",
     "output_type": "stream",
     "text": [
      "MINE estimator: 5.77\n"
     ]
    },
    {
     "name": "stderr",
     "output_type": "stream",
     "text": [
      " 22%|███████████▉                                         | 2250/10000 [04:12<14:29,  8.92step/s, test=7.36, train=5.48]\n"
     ]
    },
    {
     "name": "stdout",
     "output_type": "stream",
     "text": [
      "InfoNCE estimator: 7.39\n"
     ]
    },
    {
     "name": "stderr",
     "output_type": "stream",
     "text": [
      " 15%|███████▉                                             | 1500/10000 [02:47<15:49,  8.95step/s, test=6.67, train=7.66]\n"
     ]
    },
    {
     "name": "stdout",
     "output_type": "stream",
     "text": [
      "NWJ estimator: 6.93\n"
     ]
    },
    {
     "name": "stderr",
     "output_type": "stream",
     "text": [
      " 12%|██████▋                                              | 1250/10000 [02:21<16:28,  8.85step/s, test=7.31, train=7.41]\n"
     ]
    },
    {
     "name": "stdout",
     "output_type": "stream",
     "text": [
      "Donker Varadhan estimator: 7.40\n"
     ]
    },
    {
     "name": "stderr",
     "output_type": "stream",
     "text": [
      " 10%|█████▏                                              | 1000/10000 [00:03<00:34, 262.36step/s, test=4.27, train=3.95]\n"
     ]
    },
    {
     "name": "stdout",
     "output_type": "stream",
     "text": [
      "MINE estimator: 6.43\n"
     ]
    },
    {
     "name": "stderr",
     "output_type": "stream",
     "text": [
      " 25%|█████████████▎                                       | 2500/10000 [04:40<14:00,  8.93step/s, test=7.47, train=5.46]\n"
     ]
    },
    {
     "name": "stdout",
     "output_type": "stream",
     "text": [
      "InfoNCE estimator: 7.47\n"
     ]
    },
    {
     "name": "stderr",
     "output_type": "stream",
     "text": [
      " 15%|███████▉                                             | 1500/10000 [02:49<16:02,  8.83step/s, test=7.21, train=7.50]"
     ]
    },
    {
     "name": "stdout",
     "output_type": "stream",
     "text": [
      "NWJ estimator: 7.30\n",
      "###########################\n"
     ]
    },
    {
     "name": "stderr",
     "output_type": "stream",
     "text": [
      "\n"
     ]
    }
   ],
   "source": [
    "feature_arr = list(range(2, 11))\n",
    "prime_arg = 23\n",
    "data_range_arg = 2\n",
    "para_param_arg = 1 # K\n",
    "priv_param_arg = 1 # T\n",
    "\n",
    "num_of_samples_arg = 10000\n",
    "beta_arr_arg = [0, 1]\n",
    "alpha_arr_arg = [2, 3, 4] # number of clients = 3\n",
    "\n",
    "result_arr = []\n",
    "\n",
    "for feature_size_arg in feature_arr:\n",
    "    weight_arg = np.ones((feature_size_arg, 1))\n",
    "    print('###########################')\n",
    "    print('exp feature size: {}'.format(feature_size_arg))\n",
    "    result_arr.append(main_mi_calculation(data_range_arg, prime_arg, para_param_arg, priv_param_arg, num_of_samples_arg, beta_arr_arg, alpha_arr_arg, weight_arg, feature_size_arg))\n",
    "    print('###########################\\n')"
   ],
   "metadata": {
    "collapsed": false,
    "ExecuteTime": {
     "end_time": "2023-11-16T01:47:54.669112959Z",
     "start_time": "2023-11-15T22:52:55.507587409Z"
    }
   },
   "id": "3e33606c404e46a7"
  },
  {
   "cell_type": "code",
   "execution_count": 25,
   "outputs": [
    {
     "data": {
      "text/plain": "<Figure size 1500x500 with 1 Axes>",
      "image/png": "[encoded data removed]"
     },
     "metadata": {},
     "output_type": "display_data"
    },
    {
     "data": {
      "text/plain": "<Figure size 1500x500 with 1 Axes>",
      "image/png": "[encoded data removed]"
     },
     "metadata": {},
     "output_type": "display_data"
    },
    {
     "data": {
      "text/plain": "<Figure size 1500x500 with 1 Axes>",
      "image/png": "[encoded data removed]"
     },
     "metadata": {},
     "output_type": "display_data"
    }
   ],
   "source": [
    "import matplotlib.pyplot as plt\n",
    "\n",
    "plt.figure(figsize=(15, 5))\n",
    "plt.plot(list(range(len(feature_arr))), [2,2.72, 3.38, 4.08, 4.76, 5.40, 6.05, 6.66, 7.31])\n",
    "plt.scatter(list(range(6)), [2, 2.72, 3.38, 4.08, 4.76, 5.40])\n",
    "plt.scatter(list(range(6, 9)), [6.05, 6.66, 7.31], zorder=10)\n",
    "plt.xticks(list(range(len(feature_arr))), feature_arr)\n",
    "plt.yticks([2, 2.72, 3.38, 4.08, 4.76, 5.40, 6.05, 6.66, 7.31])\n",
    "plt.title('$I(x, y; c_1, c_2, c_3)$ vs. Feature Size of $x$')\n",
    "plt.xlabel('Feature size of $x$')\n",
    "plt.ylabel('$I(x, y; c_1, c_2, c_3)$')\n",
    "plt.savefig('mi_secret_coeff_vs_feature_size.png', dpi=300)\n",
    "plt.show()\n",
    "\n",
    "plt.figure(figsize=(15, 5))\n",
    "plt.plot(list(range(len(feature_arr))), [1.39, 2.25, 3.12, 3.94, 4.68, 5.39, 6.10, 6.74, 7.40])\n",
    "plt.scatter(list(range(len(feature_arr) - 3)), [1.39, 2.25, 3.12, 3.94, 4.68, 5.39])\n",
    "plt.scatter(list(range(len(feature_arr) - 3, len(feature_arr))), [6.10, 6.74, 7.40], zorder=10)\n",
    "plt.xticks(list(range(len(feature_arr))), feature_arr)\n",
    "plt.yticks([1.39, 2.25, 3.12, 3.94, 4.68, 5.39, 6.10, 6.74, 7.40])\n",
    "plt.title('$I(x, y; \\mathrm{decoded} \\ \\mathrm{gradient})$ vs. Feature Size of $x$')\n",
    "plt.xlabel('Feature size of $x$')\n",
    "plt.ylabel('$I(x, y; \\mathrm{decoded} \\ \\mathrm{gradient})$')\n",
    "plt.savefig('mi_decoded_grad_vs_feature_size.png', dpi=300)\n",
    "plt.show()\n",
    "\n",
    "plt.figure(figsize=(15, 5))\n",
    "sub_array = np.asarray([2,2.72, 3.38, 4.08, 4.76, 5.40, 6.05, 6.66, 7.31]) - np.asarray([1.39, 2.25, 3.12, 3.94, 4.68, 5.39, 6.10, 6.74, 7.40])\n",
    "plt.plot(list(range(len(feature_arr))), sub_array)\n",
    "plt.scatter(list(range(len(sub_array[:-3]))), sub_array[:-3])\n",
    "plt.scatter(list(range(len(sub_array[:-3]), len(sub_array))), sub_array[-3:], zorder=10)\n",
    "plt.xticks(list(range(len(feature_arr))), feature_arr)\n",
    "plt.yticks(sub_array[:-1])\n",
    "plt.title('$I(x, y; c_1, c_2, c_3 | \\mathrm{decoded} \\ \\mathrm{gradient})$ vs. Feature Size of $x$')\n",
    "plt.xlabel('Feature size of $x$')\n",
    "plt.ylabel('$I(x, y; c_1, c_2, c_3 | \\mathrm{decoded} \\ \\mathrm{gradient})$')\n",
    "plt.savefig('mi_secret_coeff_cond_decoded_grad_vs_feature_size.png', dpi=300)\n",
    "plt.show()"
   ],
   "metadata": {
    "collapsed": false,
    "ExecuteTime": {
     "end_time": "2023-11-16T03:10:37.795544030Z",
     "start_time": "2023-11-16T03:10:36.984222679Z"
    }
   },
   "id": "7b5f03f263e8ca7c"
  }
 ],
 "metadata": {
  "kernelspec": {
   "display_name": "Python 3",
   "language": "python",
   "name": "python3"
  },
  "language_info": {
   "codemirror_mode": {
    "name": "ipython",
    "version": 2
   },
   "file_extension": ".py",
   "mimetype": "text/x-python",
   "name": "python",
   "nbconvert_exporter": "python",
   "pygments_lexer": "ipython2",
   "version": "2.7.6"
  }
 },
 "nbformat": 4,
 "nbformat_minor": 5
}
