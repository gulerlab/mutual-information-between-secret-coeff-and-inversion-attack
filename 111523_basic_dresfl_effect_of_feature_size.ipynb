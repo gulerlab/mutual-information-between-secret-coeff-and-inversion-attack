{
 "cells": [
  {
   "cell_type": "markdown",
   "source": [
    "# DReS-FL Experiment \n",
    "\n",
    "- K = 1\n",
    "- T = 1\n",
    "- input dimension = [2, 3, 4, 5, 6, 7, 8, 9, 10]\n",
    "- linear regression\n",
    "- w = [1 1]\n",
    "- finite field size = 23\n",
    "- inputs are selected from {0, 1}\n",
    "- no relationship between x and y\n",
    "- the gradient is supposed to be revealed at the end of each training round\n",
    "\n",
    "Basically, our objective function is $l = (y - xw)^2$ and our gradient is $g = -2(xy - x^2w)$ "
   ],
   "metadata": {
    "collapsed": false
   },
   "id": "f5b3c4298b0e65eb"
  },
  {
   "cell_type": "code",
   "execution_count": 1,
   "outputs": [
    {
     "name": "stderr",
     "output_type": "stream",
     "text": [
      "An NVIDIA GPU may be present on this machine, but a CUDA-enabled jaxlib is not installed. Falling back to cpu.\n"
     ]
    }
   ],
   "source": [
    "import numpy as np\n",
    "from lcc.polynomials import LCCPoly, InterpolatedPoly\n",
    "from mutual_information.estimators.neural.benchmark import neural_estimator_benchmark"
   ],
   "metadata": {
    "collapsed": false,
    "ExecuteTime": {
     "end_time": "2023-11-15T22:00:22.456003023Z",
     "start_time": "2023-11-15T22:00:21.372334502Z"
    }
   },
   "id": "5ecd3014be47b957"
  },
  {
   "cell_type": "code",
   "execution_count": 2,
   "outputs": [],
   "source": [
    "def create_encoded_dataset(encoded_data_pol, data_size, encoded_label_pol, alpha):\n",
    "    encoded_data = np.empty((len(encoded_data_pol), *data_size)) \n",
    "    encoded_label = np.empty((len(encoded_label_pol), 1))\n",
    "    for idx, (data_pol, label_pol) in enumerate(zip(encoded_data_pol, encoded_label_pol)):\n",
    "        encoded_data[idx] = data_pol(alpha)\n",
    "        encoded_label[idx][0] = label_pol(alpha)\n",
    "    return encoded_data, encoded_label\n",
    "\n",
    "def calculate_gradient_samplewise(encoded_data, encoded_label, curr_weight, p):\n",
    "    # g = -2(xy - x^2w)\n",
    "    gradient = np.empty((encoded_data.shape[0], *curr_weight.shape))\n",
    "    for idx in range(encoded_data.shape[0]):\n",
    "        data, label = encoded_data[idx], encoded_label[idx]\n",
    "        gradient[idx] = (label - (data.T @ curr_weight)[0][0]) % p\n",
    "        gradient[idx] = (data * gradient[idx]) % p\n",
    "        gradient[idx] = (-2 * gradient[idx]) % p\n",
    "    gradient = gradient.astype(int)\n",
    "    return gradient\n",
    "\n",
    "def main_mi_calculation(data_range, prime, para_param, priv_param, num_of_samples, beta_arr, alpha_arr, weight, feature_size):\n",
    "    secret_data = np.random.randint(low=0, high=data_range, size=(num_of_samples, feature_size, 1))\n",
    "    secret_label = np.random.randint(low=0, high=data_range, size=(num_of_samples, 1))\n",
    "    encoded_secret_data_pol = [LCCPoly(beta_arr, [x], para_param, priv_param, prime, size=(feature_size, 1)) for x in secret_data]\n",
    "    encoded_secret_label_pol = [LCCPoly(beta_arr, [x[0]], para_param, priv_param, prime) for x in secret_label]\n",
    "    print('pols created')\n",
    "    \n",
    "    # client 0\n",
    "    client_0_encoded_data, client_0_encoded_label = create_encoded_dataset(encoded_secret_data_pol, (feature_size, 1), encoded_secret_label_pol, alpha_arr[0])\n",
    "    client_0_encoded_gradient = calculate_gradient_samplewise(client_0_encoded_data, client_0_encoded_label, weight, prime)\n",
    "    \n",
    "    # client 1\n",
    "    client_1_encoded_data, client_1_encoded_label = create_encoded_dataset(encoded_secret_data_pol, (feature_size, 1), encoded_secret_label_pol, alpha_arr[1])\n",
    "    client_1_encoded_gradient = calculate_gradient_samplewise(client_1_encoded_data, client_1_encoded_label, weight, prime)\n",
    "    \n",
    "    # client 2\n",
    "    client_2_encoded_data, client_2_encoded_label = create_encoded_dataset(encoded_secret_data_pol, (feature_size, 1), encoded_secret_label_pol, alpha_arr[2])\n",
    "    client_2_encoded_gradient = calculate_gradient_samplewise(client_2_encoded_data, client_2_encoded_label, weight, prime)\n",
    "    print('gradient calculation for each client done')\n",
    "    \n",
    "    revealed_gradients = np.empty(client_0_encoded_data.shape)\n",
    "    revealed_random = np.empty(client_0_encoded_gradient.shape)\n",
    "    revealed_poly_constructed_coeff = np.empty((client_0_encoded_gradient.shape[0], 2 * (para_param + priv_param - 1) + 1, client_0_encoded_gradient.shape[1], client_0_encoded_gradient.shape[2]))\n",
    "    for gradient_idx in range(client_0_encoded_gradient.shape[0]):\n",
    "        revealed_poly = InterpolatedPoly([client_0_encoded_gradient[gradient_idx], client_1_encoded_gradient[gradient_idx], client_2_encoded_gradient[gradient_idx]], alpha_arr, prime)\n",
    "        revealed_gradients[gradient_idx] = revealed_poly(beta_arr[0])\n",
    "        revealed_random[gradient_idx] = revealed_poly(beta_arr[1])\n",
    "        revealed_poly_constructed_coeff[gradient_idx] = revealed_poly.coefficients\n",
    "    \n",
    "    # create dataset\n",
    "    resulting_dataset = np.concatenate([secret_data.reshape(num_of_samples, -1), secret_label, revealed_gradients.reshape(num_of_samples, -1), revealed_random.reshape(num_of_samples, -1), revealed_poly_constructed_coeff.reshape(num_of_samples, -1)], axis=1)\n",
    "    print('dataset is created')\n",
    "    \n",
    "    estimators_all, results_all = neural_estimator_benchmark(resulting_dataset[:, :(feature_size + 1)], resulting_dataset[:, (3 * feature_size + 1):])\n",
    "    estimators_revealed_gradient, results_revealed_gradient = neural_estimator_benchmark(resulting_dataset[:, :(feature_size + 1)], resulting_dataset[:, (feature_size + 1):(2 * feature_size + 1)])\n",
    "    return estimators_all, results_all, estimators_revealed_gradient, results_revealed_gradient"
   ],
   "metadata": {
    "collapsed": false,
    "ExecuteTime": {
     "end_time": "2023-11-15T22:00:22.464190701Z",
     "start_time": "2023-11-15T22:00:22.462481210Z"
    }
   },
   "id": "2d6a184396caa636"
  },
  {
   "cell_type": "code",
   "execution_count": null,
   "outputs": [
    {
     "name": "stdout",
     "output_type": "stream",
     "text": [
      "###########################\n",
      "exp feature size: 2\n",
      "pols created\n",
      "gradient calculation for each client done\n",
      "dataset is created\n"
     ]
    },
    {
     "name": "stderr",
     "output_type": "stream",
     "text": [
      " 22%|███████████▉                                         | 2250/10000 [04:48<16:32,  7.81step/s, test=2.02, train=2.02]\n"
     ]
    },
    {
     "name": "stdout",
     "output_type": "stream",
     "text": [
      "Donker Varadhan estimator: 2.02\n"
     ]
    },
    {
     "name": "stderr",
     "output_type": "stream",
     "text": [
      " 22%|███████████▋                                        | 2250/10000 [00:11<00:40, 192.18step/s, test=1.97, train=2.05]\n"
     ]
    },
    {
     "name": "stdout",
     "output_type": "stream",
     "text": [
      "MINE estimator: 2.01\n"
     ]
    },
    {
     "name": "stderr",
     "output_type": "stream",
     "text": [
      " 12%|██████▌                                              | 1249/10000 [02:26<09:51, 14.80step/s, test=2.01, train=2.00]"
     ]
    }
   ],
   "source": [
    "feature_arr = list(range(2, 11))\n",
    "prime_arg = 23\n",
    "data_range_arg = 2\n",
    "para_param_arg = 1 # K\n",
    "priv_param_arg = 1 # T\n",
    "\n",
    "num_of_samples_arg = 10000\n",
    "beta_arr_arg = [0, 1]\n",
    "alpha_arr_arg = [2, 3, 4] # number of clients = 3\n",
    "\n",
    "result_arr = []\n",
    "\n",
    "for feature_size_arg in feature_arr:\n",
    "    weight_arg = np.ones((feature_size_arg, 1))\n",
    "    print('###########################')\n",
    "    print('exp feature size: {}'.format(feature_size_arg))\n",
    "    result_arr.append(main_mi_calculation(data_range_arg, prime_arg, para_param_arg, priv_param_arg, num_of_samples_arg, beta_arr_arg, alpha_arr_arg, weight_arg, feature_size_arg))\n",
    "    print('###########################\\n')"
   ],
   "metadata": {
    "collapsed": false,
    "is_executing": true,
    "ExecuteTime": {
     "start_time": "2023-11-15T22:52:55.507587409Z"
    }
   },
   "id": "3e33606c404e46a7"
  },
  {
   "cell_type": "code",
   "execution_count": 11,
   "outputs": [
    {
     "data": {
      "text/plain": "<Figure size 1500x500 with 1 Axes>",
      "image/png": "[encoded data removed]"
     },
     "metadata": {},
     "output_type": "display_data"
    }
   ],
   "source": [
    "# import matplotlib.pyplot as plt\n",
    "# \n",
    "# fig = plt.figure(figsize=(15, 5))\n",
    "# plt.plot(list(range(len(prime_arr))), [1.88, 1.92, 1.96, 1.97, 1.97])\n",
    "# plt.scatter(list(range(len(prime_arr))), [1.88, 1.92, 1.96, 1.97, 1.97])\n",
    "# plt.xticks(list(range(len(prime_arr))), prime_arr)\n",
    "# plt.yticks([1.88, 1.92, 1.96, 1.97])\n",
    "# plt.title('')\n",
    "# plt.show()"
   ],
   "metadata": {
    "collapsed": false,
    "ExecuteTime": {
     "end_time": "2023-11-15T21:34:23.964873942Z",
     "start_time": "2023-11-15T21:34:23.921980244Z"
    }
   },
   "id": "7b5f03f263e8ca7c"
  }
 ],
 "metadata": {
  "kernelspec": {
   "display_name": "Python 3",
   "language": "python",
   "name": "python3"
  },
  "language_info": {
   "codemirror_mode": {
    "name": "ipython",
    "version": 2
   },
   "file_extension": ".py",
   "mimetype": "text/x-python",
   "name": "python",
   "nbconvert_exporter": "python",
   "pygments_lexer": "ipython2",
   "version": "2.7.6"
  }
 },
 "nbformat": 4,
 "nbformat_minor": 5
}
