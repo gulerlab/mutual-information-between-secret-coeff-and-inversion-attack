{
 "cells": [
  {
   "cell_type": "code",
   "execution_count": 1,
   "id": "initial_id",
   "metadata": {
    "collapsed": true,
    "ExecuteTime": {
     "end_time": "2023-11-21T09:32:29.267690151Z",
     "start_time": "2023-11-21T09:32:28.171521032Z"
    }
   },
   "outputs": [],
   "source": [
    "import numpy as np\n",
    "\n",
    "from lcc.dataset import create_lcc_dataset_k1_t1_scalar\n",
    "\n",
    "from probabilistic_classifier.dataset import create_multiclass_conditional_dataset\n",
    "from probabilistic_classifier.estimate import estimate_mi_for_multiclass_classification\n",
    "from probabilistic_classifier.train import train_multiclass_classifier"
   ]
  },
  {
   "cell_type": "code",
   "execution_count": null,
   "outputs": [],
   "source": [
    "# create the basis dataset\n",
    "prime = 5\n",
    "data_range = 2\n",
    "num_of_samples = 800000\n",
    "weight = 1\n",
    "dataset = create_lcc_dataset_k1_t1_scalar(prime, data_range, num_of_samples, weight)"
   ],
   "metadata": {
    "collapsed": false,
    "is_executing": true,
    "ExecuteTime": {
     "start_time": "2023-11-21T09:32:29.268910307Z"
    }
   },
   "id": "d52797b0247350ca"
  },
  {
   "cell_type": "code",
   "execution_count": null,
   "outputs": [],
   "source": [
    "dataset = np.concatenate([dataset[:, :3], dataset[:, 4:]], axis=1)"
   ],
   "metadata": {
    "collapsed": false,
    "is_executing": true
   },
   "id": "15e853e806e6fa04"
  },
  {
   "cell_type": "code",
   "execution_count": null,
   "outputs": [],
   "source": [
    "# create the joint and marginal datasets\n",
    "x_idx, y_idx, z_idx = [0, 1], [3, 4, 5], [2]\n",
    "joint_data, joint_label, all_marginal_data, all_marginal_label, marginal_y_joint_xz_data, marginal_y_joint_xz_label, marginal_x_joint_yz_data, marginal_x_joint_yz_label = create_multiclass_conditional_dataset(dataset, x_idx, y_idx, z_idx)\n",
    "data, label = np.concatenate([joint_data, all_marginal_data, marginal_y_joint_xz_data, marginal_x_joint_yz_data]), np.concatenate([joint_label, all_marginal_label, marginal_y_joint_xz_label, marginal_x_joint_yz_label])\n",
    "randomize_idx = np.random.permutation(np.arange(4 * num_of_samples))\n",
    "data, label = data[randomize_idx], label[randomize_idx]"
   ],
   "metadata": {
    "collapsed": false,
    "is_executing": true
   },
   "id": "62da61c8fc32e6fa"
  },
  {
   "cell_type": "code",
   "execution_count": null,
   "outputs": [],
   "source": [
    "# define model parameters\n",
    "num_input_features = len(x_idx) + len(y_idx) + len(z_idx)\n",
    "hidden_size_arr = [256, 256, 256]\n",
    "lr = 0.001"
   ],
   "metadata": {
    "collapsed": false,
    "is_executing": true
   },
   "id": "4cb99642d6db7215"
  },
  {
   "cell_type": "code",
   "execution_count": null,
   "outputs": [],
   "source": [
    "num_of_outer_iteration = 20\n",
    "num_of_inner_iteration = 50\n",
    "batch_size = 4096\n",
    "\n",
    "# iterate over many times\n",
    "outer_running_loss = []\n",
    "outer_running_loss_avg = []\n",
    "ldr_estimations = []\n",
    "\n",
    "for outer_iter in range(num_of_outer_iteration):\n",
    "    print('################################################################')\n",
    "    (model, inner_running_loss, inner_running_loss_avg, num_of_joint, num_of_all_marginal, \n",
    "     num_of_marginal_y_joint_xz, num_of_marginal_x_joint_yz) = train_multiclass_classifier(data, label, num_input_features, hidden_size_arr, lr, num_of_inner_iteration, batch_size, outer_iter, print_progress=True, save_avg=500)\n",
    "    outer_running_loss.append(inner_running_loss)\n",
    "    outer_running_loss_avg.append(inner_running_loss_avg)\n",
    "    \n",
    "    ## estimate cmi\n",
    "    curr_ldr = estimate_mi_for_multiclass_classification(model, joint_data, num_of_joint, num_of_all_marginal, num_of_marginal_y_joint_xz, num_of_marginal_x_joint_yz)\n",
    "    print('trial: {}, ldr: {}'.format(outer_iter + 1, curr_ldr.item()))\n",
    "    print('################################################################\\n')\n",
    "    ldr_estimations.append(curr_ldr.item())\n",
    "    \n",
    "print('final estimations:\\n\\tldr: {}'.format(np.mean(ldr_estimations)))"
   ],
   "metadata": {
    "collapsed": false,
    "is_executing": true
   },
   "id": "146b880bcd657c43"
  }
 ],
 "metadata": {
  "kernelspec": {
   "display_name": "Python 3",
   "language": "python",
   "name": "python3"
  },
  "language_info": {
   "codemirror_mode": {
    "name": "ipython",
    "version": 2
   },
   "file_extension": ".py",
   "mimetype": "text/x-python",
   "name": "python",
   "nbconvert_exporter": "python",
   "pygments_lexer": "ipython2",
   "version": "2.7.6"
  }
 },
 "nbformat": 4,
 "nbformat_minor": 5
}
