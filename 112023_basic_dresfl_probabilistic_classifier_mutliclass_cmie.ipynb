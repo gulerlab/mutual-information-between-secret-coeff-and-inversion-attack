{
 "cells": [
  {
   "cell_type": "code",
   "execution_count": 1,
   "id": "initial_id",
   "metadata": {
    "collapsed": true,
    "ExecuteTime": {
     "end_time": "2023-11-20T08:45:23.338207987Z",
     "start_time": "2023-11-20T08:45:22.260325616Z"
    }
   },
   "outputs": [],
   "source": [
    "import numpy as np\n",
    "\n",
    "from lcc.dataset import create_lcc_dataset_k1_t1_scalar\n",
    "\n",
    "from probabilistic_classifier.dataset import create_multiclass_conditional_dataset\n",
    "from probabilistic_classifier.estimate import estimate_mi_for_multiclass_classification\n",
    "from probabilistic_classifier.train import train_multiclass_classifier"
   ]
  },
  {
   "cell_type": "code",
   "execution_count": 3,
   "outputs": [],
   "source": [
    "# create the basis dataset\n",
    "prime = 5\n",
    "data_range = 2\n",
    "num_of_samples = 200000\n",
    "weight = 1\n",
    "dataset = create_lcc_dataset_k1_t1_scalar(prime, data_range, num_of_samples, weight)"
   ],
   "metadata": {
    "collapsed": false,
    "ExecuteTime": {
     "end_time": "2023-11-20T08:50:05.547603337Z",
     "start_time": "2023-11-20T08:46:48.727757730Z"
    }
   },
   "id": "d52797b0247350ca"
  },
  {
   "cell_type": "code",
   "execution_count": 4,
   "outputs": [],
   "source": [
    "dataset = np.concatenate([dataset[:, :3], dataset[:, 4:]], axis=1)"
   ],
   "metadata": {
    "collapsed": false,
    "ExecuteTime": {
     "end_time": "2023-11-20T08:50:48.340604981Z",
     "start_time": "2023-11-20T08:50:48.298657999Z"
    }
   },
   "id": "15e853e806e6fa04"
  },
  {
   "cell_type": "code",
   "execution_count": 5,
   "outputs": [],
   "source": [
    "# create the joint and marginal datasets\n",
    "x_idx, y_idx, z_idx = [0, 1], [3, 4, 5], [2]\n",
    "joint_data, joint_label, all_marginal_data, all_marginal_label, marginal_y_joint_xz_data, marginal_y_joint_xz_label, marginal_x_joint_yz_data, marginal_x_joint_yz_label = create_multiclass_conditional_dataset(dataset, x_idx, y_idx, z_idx)\n",
    "data, label = np.concatenate([joint_data, all_marginal_data, marginal_y_joint_xz_data, marginal_x_joint_yz_data]), np.concatenate([joint_label, all_marginal_label, marginal_y_joint_xz_label, marginal_x_joint_yz_label])\n",
    "randomize_idx = np.random.permutation(np.arange(4 * num_of_samples))\n",
    "data, label = data[randomize_idx], label[randomize_idx]"
   ],
   "metadata": {
    "collapsed": false,
    "ExecuteTime": {
     "end_time": "2023-11-20T08:50:49.277284996Z",
     "start_time": "2023-11-20T08:50:49.180504130Z"
    }
   },
   "id": "62da61c8fc32e6fa"
  },
  {
   "cell_type": "code",
   "execution_count": 6,
   "outputs": [],
   "source": [
    "# define model parameters\n",
    "num_input_features = len(x_idx) + len(y_idx) + len(z_idx)\n",
    "hidden_size_arr = [256, 256]\n",
    "lr = 0.001"
   ],
   "metadata": {
    "collapsed": false,
    "ExecuteTime": {
     "end_time": "2023-11-20T08:50:50.699930324Z",
     "start_time": "2023-11-20T08:50:50.698352485Z"
    }
   },
   "id": "4cb99642d6db7215"
  },
  {
   "cell_type": "code",
   "execution_count": 7,
   "outputs": [
    {
     "name": "stdout",
     "output_type": "stream",
     "text": [
      "################################################################\n",
      "trial: 1, epoch, 1, iter: 1, curr loss: 1.392756462097168, avg loss: 1.392756462097168\n",
      "trial: 1, epoch, 2, iter: 1, curr loss: 0.8171751499176025, avg loss: 0.8171751499176025\n",
      "trial: 1, epoch, 3, iter: 1, curr loss: 0.8039337992668152, avg loss: 0.8039337992668152\n",
      "trial: 1, epoch, 4, iter: 1, curr loss: 0.7981716990470886, avg loss: 0.7981716990470886\n",
      "trial: 1, epoch, 5, iter: 1, curr loss: 0.8001854419708252, avg loss: 0.8001854419708252\n",
      "trial: 1, epoch, 6, iter: 1, curr loss: 0.8122058510780334, avg loss: 0.8122058510780334\n",
      "trial: 1, epoch, 7, iter: 1, curr loss: 0.8035977482795715, avg loss: 0.8035977482795715\n",
      "trial: 1, epoch, 8, iter: 1, curr loss: 0.7968491315841675, avg loss: 0.7968491315841675\n",
      "trial: 1, epoch, 9, iter: 1, curr loss: 0.8048450946807861, avg loss: 0.8048450946807861\n",
      "trial: 1, epoch, 10, iter: 1, curr loss: 0.8090829253196716, avg loss: 0.8090829253196716\n",
      "trial: 1, epoch, 11, iter: 1, curr loss: 0.7886581420898438, avg loss: 0.7886581420898438\n",
      "trial: 1, epoch, 12, iter: 1, curr loss: 0.8034197092056274, avg loss: 0.8034197092056274\n",
      "trial: 1, epoch, 13, iter: 1, curr loss: 0.7810786366462708, avg loss: 0.7810786366462708\n",
      "trial: 1, epoch, 14, iter: 1, curr loss: 0.8132873773574829, avg loss: 0.8132873773574829\n",
      "trial: 1, epoch, 15, iter: 1, curr loss: 0.7990217804908752, avg loss: 0.7990217804908752\n",
      "trial: 1, epoch, 16, iter: 1, curr loss: 0.8099700212478638, avg loss: 0.8099700212478638\n",
      "trial: 1, epoch, 17, iter: 1, curr loss: 0.783202052116394, avg loss: 0.783202052116394\n",
      "trial: 1, epoch, 18, iter: 1, curr loss: 0.7979072332382202, avg loss: 0.7979072332382202\n",
      "trial: 1, epoch, 19, iter: 1, curr loss: 0.7853187918663025, avg loss: 0.7853187918663025\n",
      "trial: 1, epoch, 20, iter: 1, curr loss: 0.793316125869751, avg loss: 0.793316125869751\n",
      "trial: 1, epoch, 21, iter: 1, curr loss: 0.8059541583061218, avg loss: 0.8059541583061218\n",
      "trial: 1, epoch, 22, iter: 1, curr loss: 0.7862497568130493, avg loss: 0.7862497568130493\n",
      "trial: 1, epoch, 23, iter: 1, curr loss: 0.8014503717422485, avg loss: 0.8014503717422485\n",
      "trial: 1, epoch, 24, iter: 1, curr loss: 0.8087936639785767, avg loss: 0.8087936639785767\n",
      "trial: 1, epoch, 25, iter: 1, curr loss: 0.7993271350860596, avg loss: 0.7993271350860596\n",
      "trial: 1, epoch, 26, iter: 1, curr loss: 0.7937545776367188, avg loss: 0.7937545776367188\n",
      "trial: 1, epoch, 27, iter: 1, curr loss: 0.7949163913726807, avg loss: 0.7949163913726807\n",
      "trial: 1, epoch, 28, iter: 1, curr loss: 0.8014224171638489, avg loss: 0.8014224171638489\n",
      "trial: 1, epoch, 29, iter: 1, curr loss: 0.787184476852417, avg loss: 0.787184476852417\n",
      "trial: 1, epoch, 30, iter: 1, curr loss: 0.7895975708961487, avg loss: 0.7895975708961487\n",
      "trial: 1, epoch, 31, iter: 1, curr loss: 0.8040473461151123, avg loss: 0.8040473461151123\n",
      "trial: 1, epoch, 32, iter: 1, curr loss: 0.7978696227073669, avg loss: 0.7978696227073669\n",
      "trial: 1, epoch, 33, iter: 1, curr loss: 0.7917919754981995, avg loss: 0.7917919754981995\n",
      "trial: 1, epoch, 34, iter: 1, curr loss: 0.7947489023208618, avg loss: 0.7947489023208618\n",
      "trial: 1, epoch, 35, iter: 1, curr loss: 0.7941639423370361, avg loss: 0.7941639423370361\n",
      "trial: 1, epoch, 36, iter: 1, curr loss: 0.8003314733505249, avg loss: 0.8003314733505249\n",
      "trial: 1, epoch, 37, iter: 1, curr loss: 0.7987421751022339, avg loss: 0.7987421751022339\n",
      "trial: 1, epoch, 38, iter: 1, curr loss: 0.798926055431366, avg loss: 0.798926055431366\n",
      "trial: 1, epoch, 39, iter: 1, curr loss: 0.7873086929321289, avg loss: 0.7873086929321289\n",
      "trial: 1, epoch, 40, iter: 1, curr loss: 0.79323410987854, avg loss: 0.79323410987854\n",
      "trial: 1, epoch, 41, iter: 1, curr loss: 0.7956897020339966, avg loss: 0.7956897020339966\n",
      "trial: 1, epoch, 42, iter: 1, curr loss: 0.7893020510673523, avg loss: 0.7893020510673523\n",
      "trial: 1, epoch, 43, iter: 1, curr loss: 0.7975163459777832, avg loss: 0.7975163459777832\n",
      "trial: 1, epoch, 44, iter: 1, curr loss: 0.8000822067260742, avg loss: 0.8000822067260742\n",
      "trial: 1, epoch, 45, iter: 1, curr loss: 0.7890955805778503, avg loss: 0.7890955805778503\n",
      "trial: 1, epoch, 46, iter: 1, curr loss: 0.7978305816650391, avg loss: 0.7978305816650391\n",
      "trial: 1, epoch, 47, iter: 1, curr loss: 0.7874162197113037, avg loss: 0.7874162197113037\n",
      "trial: 1, epoch, 48, iter: 1, curr loss: 0.8058613538742065, avg loss: 0.8058613538742065\n",
      "trial: 1, epoch, 49, iter: 1, curr loss: 0.794417142868042, avg loss: 0.794417142868042\n",
      "trial: 1, epoch, 50, iter: 1, curr loss: 0.7826502323150635, avg loss: 0.7826502323150635\n",
      "trial: 1, ldr: 19.334238052368164\n",
      "################################################################\n",
      "\n",
      "################################################################\n",
      "trial: 2, epoch, 1, iter: 1, curr loss: 1.4268221855163574, avg loss: 1.4268221855163574\n",
      "trial: 2, epoch, 2, iter: 1, curr loss: 0.8127641677856445, avg loss: 0.8127641677856445\n",
      "trial: 2, epoch, 3, iter: 1, curr loss: 0.7950694561004639, avg loss: 0.7950694561004639\n",
      "trial: 2, epoch, 4, iter: 1, curr loss: 0.8066912889480591, avg loss: 0.8066912889480591\n",
      "trial: 2, epoch, 5, iter: 1, curr loss: 0.8141567707061768, avg loss: 0.8141567707061768\n",
      "trial: 2, epoch, 6, iter: 1, curr loss: 0.8035129308700562, avg loss: 0.8035129308700562\n",
      "trial: 2, epoch, 7, iter: 1, curr loss: 0.7913222312927246, avg loss: 0.7913222312927246\n",
      "trial: 2, epoch, 8, iter: 1, curr loss: 0.7935936450958252, avg loss: 0.7935936450958252\n",
      "trial: 2, epoch, 9, iter: 1, curr loss: 0.8020477294921875, avg loss: 0.8020477294921875\n",
      "trial: 2, epoch, 10, iter: 1, curr loss: 0.8010732531547546, avg loss: 0.8010732531547546\n",
      "trial: 2, epoch, 11, iter: 1, curr loss: 0.8038203716278076, avg loss: 0.8038203716278076\n",
      "trial: 2, epoch, 12, iter: 1, curr loss: 0.8080835938453674, avg loss: 0.8080835938453674\n",
      "trial: 2, epoch, 13, iter: 1, curr loss: 0.7965301275253296, avg loss: 0.7965301275253296\n",
      "trial: 2, epoch, 14, iter: 1, curr loss: 0.8122933506965637, avg loss: 0.8122933506965637\n",
      "trial: 2, epoch, 15, iter: 1, curr loss: 0.7922874093055725, avg loss: 0.7922874093055725\n",
      "trial: 2, epoch, 16, iter: 1, curr loss: 0.7883458137512207, avg loss: 0.7883458137512207\n",
      "trial: 2, epoch, 17, iter: 1, curr loss: 0.7991366982460022, avg loss: 0.7991366982460022\n",
      "trial: 2, epoch, 18, iter: 1, curr loss: 0.8047305941581726, avg loss: 0.8047305941581726\n",
      "trial: 2, epoch, 19, iter: 1, curr loss: 0.8034278154373169, avg loss: 0.8034278154373169\n",
      "trial: 2, epoch, 20, iter: 1, curr loss: 0.7892706394195557, avg loss: 0.7892706394195557\n",
      "trial: 2, epoch, 21, iter: 1, curr loss: 0.8157956600189209, avg loss: 0.8157956600189209\n",
      "trial: 2, epoch, 22, iter: 1, curr loss: 0.8023037910461426, avg loss: 0.8023037910461426\n",
      "trial: 2, epoch, 23, iter: 1, curr loss: 0.8005020022392273, avg loss: 0.8005020022392273\n",
      "trial: 2, epoch, 24, iter: 1, curr loss: 0.8029469847679138, avg loss: 0.8029469847679138\n",
      "trial: 2, epoch, 25, iter: 1, curr loss: 0.7894127368927002, avg loss: 0.7894127368927002\n",
      "trial: 2, epoch, 26, iter: 1, curr loss: 0.8094243407249451, avg loss: 0.8094243407249451\n",
      "trial: 2, epoch, 27, iter: 1, curr loss: 0.8094139099121094, avg loss: 0.8094139099121094\n",
      "trial: 2, epoch, 28, iter: 1, curr loss: 0.7974234223365784, avg loss: 0.7974234223365784\n",
      "trial: 2, epoch, 29, iter: 1, curr loss: 0.8084102869033813, avg loss: 0.8084102869033813\n",
      "trial: 2, epoch, 30, iter: 1, curr loss: 0.7854281663894653, avg loss: 0.7854281663894653\n",
      "trial: 2, epoch, 31, iter: 1, curr loss: 0.8115766048431396, avg loss: 0.8115766048431396\n",
      "trial: 2, epoch, 32, iter: 1, curr loss: 0.7998844981193542, avg loss: 0.7998844981193542\n",
      "trial: 2, epoch, 33, iter: 1, curr loss: 0.8011144399642944, avg loss: 0.8011144399642944\n",
      "trial: 2, epoch, 34, iter: 1, curr loss: 0.7979147434234619, avg loss: 0.7979147434234619\n",
      "trial: 2, epoch, 35, iter: 1, curr loss: 0.7967729568481445, avg loss: 0.7967729568481445\n",
      "trial: 2, epoch, 36, iter: 1, curr loss: 0.7959070205688477, avg loss: 0.7959070205688477\n",
      "trial: 2, epoch, 37, iter: 1, curr loss: 0.8049529790878296, avg loss: 0.8049529790878296\n",
      "trial: 2, epoch, 38, iter: 1, curr loss: 0.792885959148407, avg loss: 0.792885959148407\n",
      "trial: 2, epoch, 39, iter: 1, curr loss: 0.7893625497817993, avg loss: 0.7893625497817993\n",
      "trial: 2, epoch, 40, iter: 1, curr loss: 0.7993870973587036, avg loss: 0.7993870973587036\n",
      "trial: 2, epoch, 41, iter: 1, curr loss: 0.7952069044113159, avg loss: 0.7952069044113159\n",
      "trial: 2, epoch, 42, iter: 1, curr loss: 0.8052197694778442, avg loss: 0.8052197694778442\n",
      "trial: 2, epoch, 43, iter: 1, curr loss: 0.7946791648864746, avg loss: 0.7946791648864746\n",
      "trial: 2, epoch, 44, iter: 1, curr loss: 0.7844103574752808, avg loss: 0.7844103574752808\n",
      "trial: 2, epoch, 45, iter: 1, curr loss: 0.8197526335716248, avg loss: 0.8197526335716248\n",
      "trial: 2, epoch, 46, iter: 1, curr loss: 0.8008861541748047, avg loss: 0.8008861541748047\n",
      "trial: 2, epoch, 47, iter: 1, curr loss: 0.8015655279159546, avg loss: 0.8015655279159546\n",
      "trial: 2, epoch, 48, iter: 1, curr loss: 0.7894373536109924, avg loss: 0.7894373536109924\n",
      "trial: 2, epoch, 49, iter: 1, curr loss: 0.7969557046890259, avg loss: 0.7969557046890259\n",
      "trial: 2, epoch, 50, iter: 1, curr loss: 0.7891891598701477, avg loss: 0.7891891598701477\n"
     ]
    },
    {
     "ename": "KeyboardInterrupt",
     "evalue": "",
     "output_type": "error",
     "traceback": [
      "\u001B[0;31m---------------------------------------------------------------------------\u001B[0m",
      "\u001B[0;31mKeyboardInterrupt\u001B[0m                         Traceback (most recent call last)",
      "Cell \u001B[0;32mIn[7], line 18\u001B[0m\n\u001B[1;32m     15\u001B[0m outer_running_loss_avg\u001B[38;5;241m.\u001B[39mappend(inner_running_loss_avg)\n\u001B[1;32m     17\u001B[0m \u001B[38;5;66;03m## estimate cmi\u001B[39;00m\n\u001B[0;32m---> 18\u001B[0m curr_ldr \u001B[38;5;241m=\u001B[39m \u001B[43mestimate_mi_for_multiclass_classification\u001B[49m(model, joint_data, num_of_joint, num_of_all_marginal, num_of_marginal_y_joint_xz, num_of_marginal_x_joint_yz)\n\u001B[1;32m     19\u001B[0m \u001B[38;5;28mprint\u001B[39m(\u001B[38;5;124m'\u001B[39m\u001B[38;5;124mtrial: \u001B[39m\u001B[38;5;132;01m{}\u001B[39;00m\u001B[38;5;124m, ldr: \u001B[39m\u001B[38;5;132;01m{}\u001B[39;00m\u001B[38;5;124m'\u001B[39m\u001B[38;5;241m.\u001B[39mformat(outer_iter \u001B[38;5;241m+\u001B[39m \u001B[38;5;241m1\u001B[39m, curr_ldr\u001B[38;5;241m.\u001B[39mitem()))\n\u001B[1;32m     20\u001B[0m \u001B[38;5;28mprint\u001B[39m(\u001B[38;5;124m'\u001B[39m\u001B[38;5;124m################################################################\u001B[39m\u001B[38;5;130;01m\\n\u001B[39;00m\u001B[38;5;124m'\u001B[39m)\n",
      "Cell \u001B[0;32mIn[7], line 18\u001B[0m\n\u001B[1;32m     15\u001B[0m outer_running_loss_avg\u001B[38;5;241m.\u001B[39mappend(inner_running_loss_avg)\n\u001B[1;32m     17\u001B[0m \u001B[38;5;66;03m## estimate cmi\u001B[39;00m\n\u001B[0;32m---> 18\u001B[0m curr_ldr \u001B[38;5;241m=\u001B[39m \u001B[43mestimate_mi_for_multiclass_classification\u001B[49m(model, joint_data, num_of_joint, num_of_all_marginal, num_of_marginal_y_joint_xz, num_of_marginal_x_joint_yz)\n\u001B[1;32m     19\u001B[0m \u001B[38;5;28mprint\u001B[39m(\u001B[38;5;124m'\u001B[39m\u001B[38;5;124mtrial: \u001B[39m\u001B[38;5;132;01m{}\u001B[39;00m\u001B[38;5;124m, ldr: \u001B[39m\u001B[38;5;132;01m{}\u001B[39;00m\u001B[38;5;124m'\u001B[39m\u001B[38;5;241m.\u001B[39mformat(outer_iter \u001B[38;5;241m+\u001B[39m \u001B[38;5;241m1\u001B[39m, curr_ldr\u001B[38;5;241m.\u001B[39mitem()))\n\u001B[1;32m     20\u001B[0m \u001B[38;5;28mprint\u001B[39m(\u001B[38;5;124m'\u001B[39m\u001B[38;5;124m################################################################\u001B[39m\u001B[38;5;130;01m\\n\u001B[39;00m\u001B[38;5;124m'\u001B[39m)\n",
      "File \u001B[0;32m~/pycharm-2023.1/plugins/python/helpers/pydev/_pydevd_bundle/pydevd_frame.py:747\u001B[0m, in \u001B[0;36mPyDBFrame.trace_dispatch\u001B[0;34m(self, frame, event, arg)\u001B[0m\n\u001B[1;32m    745\u001B[0m \u001B[38;5;66;03m# if thread has a suspend flag, we suspend with a busy wait\u001B[39;00m\n\u001B[1;32m    746\u001B[0m \u001B[38;5;28;01mif\u001B[39;00m info\u001B[38;5;241m.\u001B[39mpydev_state \u001B[38;5;241m==\u001B[39m STATE_SUSPEND:\n\u001B[0;32m--> 747\u001B[0m     \u001B[38;5;28;43mself\u001B[39;49m\u001B[38;5;241;43m.\u001B[39;49m\u001B[43mdo_wait_suspend\u001B[49m\u001B[43m(\u001B[49m\u001B[43mthread\u001B[49m\u001B[43m,\u001B[49m\u001B[43m \u001B[49m\u001B[43mframe\u001B[49m\u001B[43m,\u001B[49m\u001B[43m \u001B[49m\u001B[43mevent\u001B[49m\u001B[43m,\u001B[49m\u001B[43m \u001B[49m\u001B[43marg\u001B[49m\u001B[43m)\u001B[49m\n\u001B[1;32m    748\u001B[0m     \u001B[38;5;66;03m# No need to reset frame.f_trace to keep the same trace function.\u001B[39;00m\n\u001B[1;32m    749\u001B[0m     \u001B[38;5;28;01mreturn\u001B[39;00m \u001B[38;5;28mself\u001B[39m\u001B[38;5;241m.\u001B[39mtrace_dispatch\n",
      "File \u001B[0;32m~/pycharm-2023.1/plugins/python/helpers/pydev/_pydevd_bundle/pydevd_frame.py:144\u001B[0m, in \u001B[0;36mPyDBFrame.do_wait_suspend\u001B[0;34m(self, *args, **kwargs)\u001B[0m\n\u001B[1;32m    143\u001B[0m \u001B[38;5;28;01mdef\u001B[39;00m \u001B[38;5;21mdo_wait_suspend\u001B[39m(\u001B[38;5;28mself\u001B[39m, \u001B[38;5;241m*\u001B[39margs, \u001B[38;5;241m*\u001B[39m\u001B[38;5;241m*\u001B[39mkwargs):\n\u001B[0;32m--> 144\u001B[0m     \u001B[38;5;28;43mself\u001B[39;49m\u001B[38;5;241;43m.\u001B[39;49m\u001B[43m_args\u001B[49m\u001B[43m[\u001B[49m\u001B[38;5;241;43m0\u001B[39;49m\u001B[43m]\u001B[49m\u001B[38;5;241;43m.\u001B[39;49m\u001B[43mdo_wait_suspend\u001B[49m\u001B[43m(\u001B[49m\u001B[38;5;241;43m*\u001B[39;49m\u001B[43margs\u001B[49m\u001B[43m,\u001B[49m\u001B[43m \u001B[49m\u001B[38;5;241;43m*\u001B[39;49m\u001B[38;5;241;43m*\u001B[39;49m\u001B[43mkwargs\u001B[49m\u001B[43m)\u001B[49m\n",
      "File \u001B[0;32m~/pycharm-2023.1/plugins/python/helpers/pydev/pydevd.py:1160\u001B[0m, in \u001B[0;36mPyDB.do_wait_suspend\u001B[0;34m(self, thread, frame, event, arg, send_suspend_message, is_unhandled_exception)\u001B[0m\n\u001B[1;32m   1157\u001B[0m         from_this_thread\u001B[38;5;241m.\u001B[39mappend(frame_id)\n\u001B[1;32m   1159\u001B[0m \u001B[38;5;28;01mwith\u001B[39;00m \u001B[38;5;28mself\u001B[39m\u001B[38;5;241m.\u001B[39m_threads_suspended_single_notification\u001B[38;5;241m.\u001B[39mnotify_thread_suspended(thread_id, stop_reason):\n\u001B[0;32m-> 1160\u001B[0m     \u001B[38;5;28;43mself\u001B[39;49m\u001B[38;5;241;43m.\u001B[39;49m\u001B[43m_do_wait_suspend\u001B[49m\u001B[43m(\u001B[49m\u001B[43mthread\u001B[49m\u001B[43m,\u001B[49m\u001B[43m \u001B[49m\u001B[43mframe\u001B[49m\u001B[43m,\u001B[49m\u001B[43m \u001B[49m\u001B[43mevent\u001B[49m\u001B[43m,\u001B[49m\u001B[43m \u001B[49m\u001B[43marg\u001B[49m\u001B[43m,\u001B[49m\u001B[43m \u001B[49m\u001B[43msuspend_type\u001B[49m\u001B[43m,\u001B[49m\u001B[43m \u001B[49m\u001B[43mfrom_this_thread\u001B[49m\u001B[43m)\u001B[49m\n",
      "File \u001B[0;32m~/pycharm-2023.1/plugins/python/helpers/pydev/pydevd.py:1174\u001B[0m, in \u001B[0;36mPyDB._do_wait_suspend\u001B[0;34m(self, thread, frame, event, arg, suspend_type, from_this_thread)\u001B[0m\n\u001B[1;32m   1170\u001B[0m         \u001B[38;5;28;01mif\u001B[39;00m \u001B[38;5;28mself\u001B[39m\u001B[38;5;241m.\u001B[39mmpl_in_use:\n\u001B[1;32m   1171\u001B[0m             \u001B[38;5;66;03m# call input hooks if only matplotlib is in use\u001B[39;00m\n\u001B[1;32m   1172\u001B[0m             \u001B[38;5;28mself\u001B[39m\u001B[38;5;241m.\u001B[39m_call_mpl_hook()\n\u001B[0;32m-> 1174\u001B[0m         \u001B[38;5;28;43mself\u001B[39;49m\u001B[38;5;241;43m.\u001B[39;49m\u001B[43mprocess_internal_commands\u001B[49m\u001B[43m(\u001B[49m\u001B[43m)\u001B[49m\n\u001B[1;32m   1175\u001B[0m         time\u001B[38;5;241m.\u001B[39msleep(\u001B[38;5;241m0.01\u001B[39m)\n\u001B[1;32m   1177\u001B[0m \u001B[38;5;28mself\u001B[39m\u001B[38;5;241m.\u001B[39mcancel_async_evaluation(get_current_thread_id(thread), \u001B[38;5;28mstr\u001B[39m(\u001B[38;5;28mid\u001B[39m(frame)))\n",
      "File \u001B[0;32m~/pycharm-2023.1/plugins/python/helpers/pydev/pydevd.py:797\u001B[0m, in \u001B[0;36mPyDB.process_internal_commands\u001B[0;34m(self)\u001B[0m\n\u001B[1;32m    794\u001B[0m \u001B[38;5;28mself\u001B[39m\u001B[38;5;241m.\u001B[39mcheck_output_redirect()\n\u001B[1;32m    796\u001B[0m program_threads_alive \u001B[38;5;241m=\u001B[39m {}\n\u001B[0;32m--> 797\u001B[0m all_threads \u001B[38;5;241m=\u001B[39m \u001B[43mthreadingEnumerate\u001B[49m\u001B[43m(\u001B[49m\u001B[43m)\u001B[49m\n\u001B[1;32m    798\u001B[0m program_threads_dead \u001B[38;5;241m=\u001B[39m []\n\u001B[1;32m    799\u001B[0m \u001B[38;5;28;01mwith\u001B[39;00m \u001B[38;5;28mself\u001B[39m\u001B[38;5;241m.\u001B[39m_lock_running_thread_ids:\n",
      "File \u001B[0;32m~/miniconda3/envs/pytorch-stable/lib/python3.10/threading.py:1487\u001B[0m, in \u001B[0;36menumerate\u001B[0;34m()\u001B[0m\n\u001B[1;32m   1479\u001B[0m \u001B[38;5;124;03m\"\"\"Return a list of all Thread objects currently alive.\u001B[39;00m\n\u001B[1;32m   1480\u001B[0m \n\u001B[1;32m   1481\u001B[0m \u001B[38;5;124;03mThe list includes daemonic threads, dummy thread objects created by\u001B[39;00m\n\u001B[0;32m   (...)\u001B[0m\n\u001B[1;32m   1484\u001B[0m \n\u001B[1;32m   1485\u001B[0m \u001B[38;5;124;03m\"\"\"\u001B[39;00m\n\u001B[1;32m   1486\u001B[0m \u001B[38;5;28;01mwith\u001B[39;00m _active_limbo_lock:\n\u001B[0;32m-> 1487\u001B[0m     \u001B[38;5;28;01mreturn\u001B[39;00m \u001B[38;5;28mlist\u001B[39m(\u001B[43m_active\u001B[49m\u001B[38;5;241;43m.\u001B[39;49m\u001B[43mvalues\u001B[49m\u001B[43m(\u001B[49m\u001B[43m)\u001B[49m) \u001B[38;5;241m+\u001B[39m \u001B[38;5;28mlist\u001B[39m(_limbo\u001B[38;5;241m.\u001B[39mvalues())\n",
      "\u001B[0;31mKeyboardInterrupt\u001B[0m: "
     ]
    }
   ],
   "source": [
    "num_of_outer_iteration = 20\n",
    "num_of_inner_iteration = 50\n",
    "batch_size = 4096\n",
    "\n",
    "# iterate over many times\n",
    "outer_running_loss = []\n",
    "outer_running_loss_avg = []\n",
    "ldr_estimations = []\n",
    "\n",
    "for outer_iter in range(num_of_outer_iteration):\n",
    "    print('################################################################')\n",
    "    (model, inner_running_loss, inner_running_loss_avg, num_of_joint, num_of_all_marginal, \n",
    "     num_of_marginal_y_joint_xz, num_of_marginal_x_joint_yz) = train_multiclass_classifier(data, label, num_input_features, hidden_size_arr, lr, num_of_inner_iteration, batch_size, outer_iter, print_progress=True, save_avg=500)\n",
    "    outer_running_loss.append(inner_running_loss)\n",
    "    outer_running_loss_avg.append(inner_running_loss_avg)\n",
    "    \n",
    "    ## estimate cmi\n",
    "    curr_ldr = estimate_mi_for_multiclass_classification(model, joint_data, num_of_joint, num_of_all_marginal, num_of_marginal_y_joint_xz, num_of_marginal_x_joint_yz)\n",
    "    print('trial: {}, ldr: {}'.format(outer_iter + 1, curr_ldr.item()))\n",
    "    print('################################################################\\n')\n",
    "    ldr_estimations.append(curr_ldr.item())\n",
    "    \n",
    "print('final estimations:\\n\\tldr: {}'.format(np.mean(ldr_estimations)))"
   ],
   "metadata": {
    "collapsed": false,
    "ExecuteTime": {
     "end_time": "2023-11-20T08:52:59.370089934Z",
     "start_time": "2023-11-20T08:50:53.500117727Z"
    }
   },
   "id": "146b880bcd657c43"
  }
 ],
 "metadata": {
  "kernelspec": {
   "display_name": "Python 3",
   "language": "python",
   "name": "python3"
  },
  "language_info": {
   "codemirror_mode": {
    "name": "ipython",
    "version": 2
   },
   "file_extension": ".py",
   "mimetype": "text/x-python",
   "name": "python",
   "nbconvert_exporter": "python",
   "pygments_lexer": "ipython2",
   "version": "2.7.6"
  }
 },
 "nbformat": 4,
 "nbformat_minor": 5
}
