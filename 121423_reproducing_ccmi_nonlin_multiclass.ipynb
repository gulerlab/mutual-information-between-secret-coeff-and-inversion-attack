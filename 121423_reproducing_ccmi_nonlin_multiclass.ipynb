{
 "cells": [
  {
   "cell_type": "code",
   "execution_count": 2,
   "id": "initial_id",
   "metadata": {
    "collapsed": true,
    "ExecuteTime": {
     "end_time": "2023-12-15T05:24:57.748280337Z",
     "start_time": "2023-12-15T05:24:55.934908534Z"
    }
   },
   "outputs": [],
   "source": [
    "import numpy as np\n",
    "import os\n",
    "\n",
    "from probabilistic_classifier.experiment import multiclass_probabilistic_classifier_experiment"
   ]
  },
  {
   "cell_type": "code",
   "execution_count": 17,
   "outputs": [],
   "source": [
    "prime = None\n",
    "data_range = None\n",
    "\n",
    "hidden_size_arr = [64, 64]\n",
    "lr = 0.001\n",
    "batch_size = 64\n",
    "\n",
    "num_of_outer_iteration = 10\n",
    "num_of_mid_iteration = 5\n",
    "\n",
    "para_param, priv_param = None, None\n",
    "beta_arr, alpha_arr = None, None\n",
    "\n",
    "feature_size = None\n",
    "weight = None"
   ],
   "metadata": {
    "collapsed": false
   },
   "id": "b8bb10f2344d44d1"
  },
  {
   "cell_type": "code",
   "execution_count": null,
   "outputs": [],
   "source": [
    "# final arrays\n",
    "ldr_final = []\n",
    "data_path = []\n",
    "for in_dir in os.listdir('./data'):\n",
    "    curr_path = os.path.join('./data', in_dir)\n",
    "    if os.path.isdir(curr_path) and 'catNon' in in_dir:\n",
    "        for in_in_dir in os.listdir(curr_path):\n",
    "            if 'data' in in_in_dir:\n",
    "                print('Experiment start with data path: {}'.format(os.path.join(curr_path, in_in_dir)))\n",
    "                split = in_in_dir.split('.')\n",
    "                num_of_samples = int(split[1][:-1]) * 1000\n",
    "                z_dim = int(split[2][2:])\n",
    "                x_idx, y_idx, z_idx = [0], [1], list(range(2, z_dim + 2))\n",
    "                num_of_inner_iteration = int(20 * num_of_samples / batch_size)\n",
    "                ldr_arr = []\n",
    "                dv_arr = []\n",
    "                nwj_arr = []\n",
    "                for i in range(num_of_outer_iteration):\n",
    "                    ldr = multiclass_probabilistic_classifier_experiment(prime, data_range, num_of_samples, weight, feature_size, beta_arr, alpha_arr, para_param, priv_param, x_idx, y_idx, z_idx, hidden_size_arr, lr, num_of_mid_iteration, num_of_inner_iteration, batch_size, load_data=os.path.join(curr_path, in_in_dir), save_avg=200)\n",
    "                    ldr_arr.append(ldr)\n",
    "                ldr_mean = np.mean(np.asarray(ldr_arr))\n",
    "                ldr_final.append(ldr_mean)\n",
    "                data_path.append(os.path.join(curr_path, in_in_dir))\n",
    "                print('Experiment done with data path: {}'.format(os.path.join(curr_path, in_in_dir)))"
   ],
   "metadata": {
    "collapsed": false
   },
   "id": "a561a79b0a0ccde"
  }
 ],
 "metadata": {
  "kernelspec": {
   "display_name": "Python 3",
   "language": "python",
   "name": "python3"
  },
  "language_info": {
   "codemirror_mode": {
    "name": "ipython",
    "version": 2
   },
   "file_extension": ".py",
   "mimetype": "text/x-python",
   "name": "python",
   "nbconvert_exporter": "python",
   "pygments_lexer": "ipython2",
   "version": "2.7.6"
  }
 },
 "nbformat": 4,
 "nbformat_minor": 5
}
