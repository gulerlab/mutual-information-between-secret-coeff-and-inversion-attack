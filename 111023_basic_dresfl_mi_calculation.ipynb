{
 "cells": [
  {
   "cell_type": "markdown",
   "source": [
    "# DReS-FL Experiment \n",
    "\n",
    "- K = 1\n",
    "- T = 1\n",
    "- input dimension = 1 -> scalar\n",
    "- linear regression\n",
    "- w = 1\n",
    "- finite field size = 5\n",
    "- inputs are selected from {0, 1}\n",
    "- y = x + 1\n",
    "- the gradient is supposed to be revealed at the end of each training round\n",
    "\n",
    "Basically, our objective function is $l = (y - xw)^2$ and our gradient is $g = -2(xy - x^2w)$ "
   ],
   "metadata": {
    "collapsed": false
   },
   "id": "f5b3c4298b0e65eb"
  },
  {
   "cell_type": "code",
   "execution_count": null,
   "outputs": [],
   "source": [
    "import numpy as np\n",
    "from lcc.polynomials import LCCPoly"
   ],
   "metadata": {
    "collapsed": false
   },
   "id": "5ecd3014be47b957"
  },
  {
   "cell_type": "code",
   "execution_count": null,
   "outputs": [],
   "source": [
    "prime = 5\n",
    "data_range = 2\n",
    "para_param = 1\n",
    "priv_param = 1\n",
    "w = 1\n",
    "\n",
    "num_of_samples = 10\n",
    "beta_arr = [0, 1]\n",
    "alpha_arr = [2, 3, 4] # number of clients = 3 "
   ],
   "metadata": {
    "collapsed": false
   },
   "id": "cea634fe6a81f53"
  },
  {
   "cell_type": "code",
   "execution_count": null,
   "outputs": [],
   "source": [
    "def create_encoded_dataset(encoded_data_pol, encoded_label_pol, alpha):\n",
    "    encoded_dataset = np.empty((len(encoded_data_pol), 2)) \n",
    "    for idx, (data_pol, label_pol) in enumerate(zip(encoded_data_pol, encoded_label_pol)):\n",
    "        encoded_dataset[idx][0] = data_pol(alpha)\n",
    "        encoded_dataset[idx][1] = label_pol(alpha)\n",
    "    return encoded_dataset"
   ],
   "metadata": {
    "collapsed": false
   },
   "id": "2d6a184396caa636"
  },
  {
   "cell_type": "code",
   "execution_count": null,
   "outputs": [],
   "source": [
    "secret_data = np.random.randint(low=0, high=2, size=(num_of_samples, 1))\n",
    "secret_label = secret_data + 1\n",
    "encoded_secret_data_pol = [LCCPoly(beta_arr, [x[0]], para_param, priv_param, prime) for x in secret_data]\n",
    "encoded_secret_label_pol = [LCCPoly(beta_arr, [x[1]], para_param, priv_param, prime) for x in secret_label]"
   ],
   "metadata": {
    "collapsed": false
   },
   "id": "705f968c5d9b62fc"
  }
 ],
 "metadata": {
  "kernelspec": {
   "display_name": "Python 3",
   "language": "python",
   "name": "python3"
  },
  "language_info": {
   "codemirror_mode": {
    "name": "ipython",
    "version": 2
   },
   "file_extension": ".py",
   "mimetype": "text/x-python",
   "name": "python",
   "nbconvert_exporter": "python",
   "pygments_lexer": "ipython2",
   "version": "2.7.6"
  }
 },
 "nbformat": 4,
 "nbformat_minor": 5
}
