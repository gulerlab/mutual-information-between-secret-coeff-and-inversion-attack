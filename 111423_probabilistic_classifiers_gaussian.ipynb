{
 "cells": [
  {
   "cell_type": "code",
   "execution_count": 1,
   "id": "initial_id",
   "metadata": {
    "collapsed": true,
    "ExecuteTime": {
     "end_time": "2023-11-14T09:00:01.754097067Z",
     "start_time": "2023-11-14T09:00:01.720327067Z"
    }
   },
   "outputs": [],
   "source": [
    "from probabilistic_classifier.dataset import create_probabilistic_classifier_dataset_gaussian\n",
    "from probabilistic_classifier.probabilistic_classifier import ProbabilisticClassifier"
   ]
  },
  {
   "cell_type": "code",
   "execution_count": 2,
   "outputs": [
    {
     "data": {
      "text/plain": "(array([[-1.07459276,  0.19647473],\n        [-1.34345207,  0.59532415],\n        [ 1.37763715,  1.51784325],\n        ...,\n        [ 0.57477419,  0.90485772],\n        [ 1.10646028,  0.92269656],\n        [-0.2802998 ,  0.65759141]]),\n array([0., 1., 1., ..., 1., 0., 1.]))"
     },
     "execution_count": 2,
     "metadata": {},
     "output_type": "execute_result"
    }
   ],
   "source": [
    "data, label = create_probabilistic_classifier_dataset_gaussian([0, 0], [[1, 0.8], [0.8, 1]], 2048)"
   ],
   "metadata": {
    "collapsed": false,
    "ExecuteTime": {
     "end_time": "2023-11-14T09:00:02.450234012Z",
     "start_time": "2023-11-14T09:00:02.437239155Z"
    }
   },
   "id": "73c56ea15443af78"
  }
 ],
 "metadata": {
  "kernelspec": {
   "display_name": "Python 3",
   "language": "python",
   "name": "python3"
  },
  "language_info": {
   "codemirror_mode": {
    "name": "ipython",
    "version": 2
   },
   "file_extension": ".py",
   "mimetype": "text/x-python",
   "name": "python",
   "nbconvert_exporter": "python",
   "pygments_lexer": "ipython2",
   "version": "2.7.6"
  }
 },
 "nbformat": 4,
 "nbformat_minor": 5
}
