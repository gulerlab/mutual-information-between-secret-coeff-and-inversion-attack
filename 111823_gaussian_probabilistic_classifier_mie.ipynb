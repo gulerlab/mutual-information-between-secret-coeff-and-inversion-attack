{
 "cells": [
  {
   "cell_type": "code",
   "execution_count": 1,
   "id": "initial_id",
   "metadata": {
    "collapsed": true,
    "ExecuteTime": {
     "end_time": "2023-11-19T07:10:17.306670679Z",
     "start_time": "2023-11-19T07:10:16.469534092Z"
    }
   },
   "outputs": [],
   "source": [
    "import numpy as np\n",
    "\n",
    "from probabilistic_classifier.dataset import create_joint_marginal_dataset\n",
    "from probabilistic_classifier.estimate import estimate_mi_for_binary_classification\n",
    "from probabilistic_classifier.train import train_binary_classifier_v2"
   ]
  },
  {
   "cell_type": "code",
   "execution_count": 2,
   "outputs": [],
   "source": [
    "# create the basis dataset\n",
    "mean = [0, 0]\n",
    "cov = [[1, 0.8],\n",
    "       [0.8, 1]]\n",
    "num_of_samples = 800000\n",
    "dataset = np.random.multivariate_normal(mean=mean, cov=cov, size=num_of_samples)"
   ],
   "metadata": {
    "collapsed": false,
    "ExecuteTime": {
     "end_time": "2023-11-19T07:10:17.342726499Z",
     "start_time": "2023-11-19T07:10:17.308151484Z"
    }
   },
   "id": "d52797b0247350ca"
  },
  {
   "cell_type": "code",
   "execution_count": 3,
   "outputs": [],
   "source": [
    "# create the joint and marginal datasets\n",
    "x_idx, y_idx = [0], [1]\n",
    "joint_data, joint_label, marginal_data, marginal_label = create_joint_marginal_dataset(dataset, x_idx, y_idx)\n",
    "data, label = np.concatenate([joint_data, marginal_data]), np.concatenate([joint_label, marginal_label])\n",
    "randomize_idx = np.random.permutation(np.arange(2 * num_of_samples))\n",
    "data, label = data[randomize_idx], label[randomize_idx]"
   ],
   "metadata": {
    "collapsed": false,
    "ExecuteTime": {
     "end_time": "2023-11-19T07:10:17.722658460Z",
     "start_time": "2023-11-19T07:10:17.561978726Z"
    }
   },
   "id": "62da61c8fc32e6fa"
  },
  {
   "cell_type": "code",
   "execution_count": 4,
   "outputs": [],
   "source": [
    "# define model parameters\n",
    "num_input_features = len(x_idx) + len(y_idx)\n",
    "hidden_size_arr = [256, 256, 256]\n",
    "lr = 0.001"
   ],
   "metadata": {
    "collapsed": false,
    "ExecuteTime": {
     "end_time": "2023-11-19T07:10:18.134866468Z",
     "start_time": "2023-11-19T07:10:18.131333762Z"
    }
   },
   "id": "4cb99642d6db7215"
  },
  {
   "cell_type": "code",
   "execution_count": 5,
   "outputs": [
    {
     "name": "stdout",
     "output_type": "stream",
     "text": [
      "################################################################\n",
      "trial: 1, ldr: 0.5337440371513367, dv: 0.5087945461273193, nwj: 0.5084807276725769\n",
      "################################################################\n",
      "\n",
      "################################################################\n",
      "trial: 2, ldr: 0.4757423400878906, dv: 0.5092244148254395, nwj: 0.5086700916290283\n",
      "################################################################\n",
      "\n",
      "################################################################\n",
      "trial: 3, ldr: 0.4825809895992279, dv: 0.5085330009460449, nwj: 0.5081990957260132\n",
      "################################################################\n",
      "\n",
      "################################################################\n",
      "trial: 4, ldr: 0.5264977216720581, dv: 0.5084094405174255, nwj: 0.5082448720932007\n",
      "################################################################\n",
      "\n",
      "################################################################\n",
      "trial: 5, ldr: 0.5064483880996704, dv: 0.5089098215103149, nwj: 0.5089067816734314\n",
      "################################################################\n",
      "\n",
      "################################################################\n",
      "trial: 6, ldr: 0.4741668701171875, dv: 0.5066465735435486, nwj: 0.5061247944831848\n",
      "################################################################\n",
      "\n",
      "################################################################\n",
      "trial: 7, ldr: 0.4657438397407532, dv: 0.5087894797325134, nwj: 0.5078761577606201\n",
      "################################################################\n",
      "\n",
      "################################################################\n",
      "trial: 8, ldr: 0.49859946966171265, dv: 0.5089240670204163, nwj: 0.5088709592819214\n",
      "################################################################\n",
      "\n",
      "################################################################\n",
      "trial: 9, ldr: 0.5387060046195984, dv: 0.5084953904151917, nwj: 0.5080344080924988\n",
      "################################################################\n",
      "\n",
      "################################################################\n",
      "trial: 10, ldr: 0.52192223072052, dv: 0.5083259344100952, nwj: 0.5082330703735352\n",
      "################################################################\n",
      "\n",
      "final estimations:\n",
      "\tldr: 0.5024151891469956\n",
      "\tdv: 0.5085052669048309\n",
      "\tnwj: 0.5081640958786011\n"
     ]
    }
   ],
   "source": [
    "num_of_outer_iteration = 20\n",
    "num_of_inner_iteration = 50\n",
    "batch_size = 4096\n",
    "\n",
    "# iterate over many times\n",
    "outer_running_loss = []\n",
    "outer_running_loss_avg = []\n",
    "ldr_estimations = []\n",
    "dv_estimations = []\n",
    "nwj_estimations = []\n",
    "\n",
    "for outer_iter in range(num_of_outer_iteration):\n",
    "    print('################################################################')\n",
    "    model, inner_running_loss, inner_running_loss_avg, num_of_joint, num_of_marginal = train_binary_classifier_v2(data, label, num_input_features, hidden_size_arr, lr, num_of_inner_iteration, batch_size, outer_iter, print_progress=False)\n",
    "    outer_running_loss.append(inner_running_loss)\n",
    "    outer_running_loss_avg.append(inner_running_loss_avg)\n",
    "    \n",
    "    ## estimate cmi\n",
    "    curr_ldr, curr_dv, curr_nwj = estimate_mi_for_binary_classification(model, joint_data, num_of_joint, marginal_data, num_of_marginal)\n",
    "    print('trial: {}, ldr: {}, dv: {}, nwj: {}'.format(outer_iter + 1, curr_ldr.item(), curr_dv.item(), curr_nwj.item()))\n",
    "    print('################################################################\\n')\n",
    "    ldr_estimations.append(curr_ldr.item())\n",
    "    dv_estimations.append(curr_dv.item())\n",
    "    nwj_estimations.append(curr_nwj.item())\n",
    "    \n",
    "print('final estimations:\\n\\tldr: {}\\n\\tdv: {}\\n\\tnwj: {}'.format(np.mean(ldr_estimations), np.mean(dv_estimations), np.mean(nwj_estimations)))"
   ],
   "metadata": {
    "collapsed": false,
    "ExecuteTime": {
     "end_time": "2023-11-19T07:11:28.781816362Z",
     "start_time": "2023-11-19T07:10:18.899292733Z"
    }
   },
   "id": "146b880bcd657c43"
  }
 ],
 "metadata": {
  "kernelspec": {
   "display_name": "Python 3",
   "language": "python",
   "name": "python3"
  },
  "language_info": {
   "codemirror_mode": {
    "name": "ipython",
    "version": 2
   },
   "file_extension": ".py",
   "mimetype": "text/x-python",
   "name": "python",
   "nbconvert_exporter": "python",
   "pygments_lexer": "ipython2",
   "version": "2.7.6"
  }
 },
 "nbformat": 4,
 "nbformat_minor": 5
}
