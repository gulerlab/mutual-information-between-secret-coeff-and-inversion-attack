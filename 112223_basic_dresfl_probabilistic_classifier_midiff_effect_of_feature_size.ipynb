{
 "cells": [
  {
   "cell_type": "code",
   "execution_count": 1,
   "id": "initial_id",
   "metadata": {
    "collapsed": true,
    "ExecuteTime": {
     "end_time": "2023-11-22T08:43:48.338174781Z",
     "start_time": "2023-11-22T08:43:46.787415803Z"
    }
   },
   "outputs": [],
   "source": [
    "from probabilistic_classifier.experiment import midiff_experiment\n",
    "import numpy as np\n",
    "\n",
    "import logging\n",
    "\n",
    "logging.basicConfig(filename='midiff_feature_size.log', filemode='w', format='%(levelname)s - %(asctime)s - %(message)s', datefmt='%d-%b-%y %H:%M:%S', level=logging.INFO)"
   ]
  },
  {
   "cell_type": "code",
   "execution_count": 2,
   "outputs": [],
   "source": [
    "prime = 23\n",
    "data_range = 2\n",
    "num_of_samples = 800000\n",
    "\n",
    "x_idx, y_idx, z_idx = [0, 1], [3, 4, 5], [2]\n",
    "hidden_size_arr = [256, 256, 256]\n",
    "lr = 0.001\n",
    "\n",
    "num_of_outer_iteration = 20\n",
    "num_of_inner_iteration = 50\n",
    "batch_size = 4096\n",
    "\n",
    "para_param, priv_param = 1, 1\n",
    "beta_arr, alpha_arr = [0, 1], [2, 3, 4]\n",
    "\n",
    "feature_sizes = list(range(1, 11))"
   ],
   "metadata": {
    "collapsed": false,
    "ExecuteTime": {
     "end_time": "2023-11-22T08:43:48.341373814Z",
     "start_time": "2023-11-22T08:43:48.339748477Z"
    }
   },
   "id": "b8bb10f2344d44d1"
  },
  {
   "cell_type": "code",
   "execution_count": null,
   "outputs": [],
   "source": [
    "for feature_size in feature_sizes:\n",
    "    weight = np.ones((feature_size, 1))\n",
    "    curr_ldr, curr_dv, curr_nwj = midiff_experiment(prime, data_range, num_of_samples, weight, feature_size, beta_arr, alpha_arr, para_param, priv_param, x_idx, y_idx, z_idx, hidden_size_arr, lr, num_of_outer_iteration, num_of_inner_iteration, batch_size)\n",
    "    logging.info('feature size: {}, ldr: {}, dv: {}, nwj: {}'.format(feature_size, curr_ldr, curr_dv, curr_nwj))"
   ],
   "metadata": {
    "collapsed": false
   },
   "id": "a207951bd578c28d"
  }
 ],
 "metadata": {
  "kernelspec": {
   "display_name": "Python 3",
   "language": "python",
   "name": "python3"
  },
  "language_info": {
   "codemirror_mode": {
    "name": "ipython",
    "version": 2
   },
   "file_extension": ".py",
   "mimetype": "text/x-python",
   "name": "python",
   "nbconvert_exporter": "python",
   "pygments_lexer": "ipython2",
   "version": "2.7.6"
  }
 },
 "nbformat": 4,
 "nbformat_minor": 5
}
