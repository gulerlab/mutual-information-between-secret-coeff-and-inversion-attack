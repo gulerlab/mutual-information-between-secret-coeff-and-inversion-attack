{
 "cells": [
  {
   "cell_type": "markdown",
   "source": [
    "# DReS-FL Experiment \n",
    "\n",
    "- K = 1\n",
    "- T = 1\n",
    "- input dimension = 2 -> scalar\n",
    "- linear regression\n",
    "- w = [1 1]\n",
    "- finite field size = [5, 7, 11, 13, 17]\n",
    "- inputs are selected from {0, 1}\n",
    "- no relationship between x and y\n",
    "- the gradient is supposed to be revealed at the end of each training round\n",
    "\n",
    "Basically, our objective function is $l = (y - xw)^2$ and our gradient is $g = -2(xy - x^2w)$ "
   ],
   "metadata": {
    "collapsed": false
   },
   "id": "f5b3c4298b0e65eb"
  },
  {
   "cell_type": "code",
   "execution_count": 3,
   "outputs": [],
   "source": [
    "import numpy as np\n",
    "from lcc.polynomials import LCCPoly, InterpolatedPoly\n",
    "from mutual_information.estimators.neural.benchmark import neural_estimator_benchmark"
   ],
   "metadata": {
    "collapsed": false,
    "ExecuteTime": {
     "end_time": "2023-11-15T19:48:28.180623757Z",
     "start_time": "2023-11-15T19:48:28.137389127Z"
    }
   },
   "id": "5ecd3014be47b957"
  },
  {
   "cell_type": "code",
   "execution_count": 13,
   "outputs": [],
   "source": [
    "def create_encoded_dataset(encoded_data_pol, data_size, encoded_label_pol, alpha):\n",
    "    encoded_data = np.empty((len(encoded_data_pol), *data_size)) \n",
    "    encoded_label = np.empty((len(encoded_label_pol), 1))\n",
    "    for idx, (data_pol, label_pol) in enumerate(zip(encoded_data_pol, encoded_label_pol)):\n",
    "        encoded_data[idx] = data_pol(alpha)\n",
    "        encoded_label[idx][0] = label_pol(alpha)\n",
    "    return encoded_data, encoded_label\n",
    "\n",
    "def calculate_gradient_samplewise(encoded_data, encoded_label, curr_weight, p):\n",
    "    # g = -2(xy - x^2w)\n",
    "    gradient = np.empty((encoded_data.shape[0], *curr_weight.shape))\n",
    "    for idx in range(encoded_data.shape[0]):\n",
    "        data, label = encoded_data[idx], encoded_label[idx]\n",
    "        gradient[idx] = (label - (data.T @ curr_weight)[0][0]) % p\n",
    "        gradient[idx] = (data * gradient[idx]) % p\n",
    "        gradient[idx] = (-2 * gradient[idx]) % p\n",
    "    gradient = gradient.astype(int)\n",
    "    return gradient\n",
    "\n",
    "def main_mi_calculation(data_range, prime, para_param, priv_param, num_of_samples, beta_arr, alpha_arr, weight):\n",
    "    secret_data = np.random.randint(low=0, high=data_range, size=(num_of_samples, 2, 1))\n",
    "    secret_label = np.random.randint(low=0, high=data_range, size=(num_of_samples, 1))\n",
    "    encoded_secret_data_pol = [LCCPoly(beta_arr, [x], para_param, priv_param, prime, size=(2, 1)) for x in secret_data]\n",
    "    encoded_secret_label_pol = [LCCPoly(beta_arr, [x[0]], para_param, priv_param, prime) for x in secret_label]\n",
    "    print('pols created')\n",
    "    \n",
    "    # client 0\n",
    "    client_0_encoded_data, client_0_encoded_label = create_encoded_dataset(encoded_secret_data_pol, (2, 1), encoded_secret_label_pol, alpha_arr[0])\n",
    "    client_0_encoded_gradient = calculate_gradient_samplewise(client_0_encoded_data, client_0_encoded_label, weight, prime)\n",
    "    \n",
    "    # client 1\n",
    "    client_1_encoded_data, client_1_encoded_label = create_encoded_dataset(encoded_secret_data_pol, (2, 1), encoded_secret_label_pol, alpha_arr[1])\n",
    "    client_1_encoded_gradient = calculate_gradient_samplewise(client_1_encoded_data, client_1_encoded_label, weight, prime)\n",
    "    \n",
    "    # client 2\n",
    "    client_2_encoded_data, client_2_encoded_label = create_encoded_dataset(encoded_secret_data_pol, (2, 1), encoded_secret_label_pol, alpha_arr[2])\n",
    "    client_2_encoded_gradient = calculate_gradient_samplewise(client_2_encoded_data, client_2_encoded_label, weight, prime)\n",
    "    print('gradient calculation for each client done')\n",
    "    \n",
    "    revealed_gradients = np.empty(client_0_encoded_data.shape)\n",
    "    revealed_random = np.empty(client_0_encoded_gradient.shape)\n",
    "    revealed_poly_constructed_coeff = np.empty((client_0_encoded_gradient.shape[0], 2 * (para_param + priv_param - 1) + 1, client_0_encoded_gradient.shape[1], client_0_encoded_gradient.shape[2]))\n",
    "    for gradient_idx in range(client_0_encoded_gradient.shape[0]):\n",
    "        revealed_poly = InterpolatedPoly([client_0_encoded_gradient[gradient_idx], client_1_encoded_gradient[gradient_idx], client_2_encoded_gradient[gradient_idx]], alpha_arr, prime)\n",
    "        revealed_gradients[gradient_idx] = revealed_poly(beta_arr[0])\n",
    "        revealed_random[gradient_idx] = revealed_poly(beta_arr[1])\n",
    "        revealed_poly_constructed_coeff[gradient_idx] = revealed_poly.coefficients\n",
    "    \n",
    "    # create dataset\n",
    "    resulting_dataset = np.concatenate([secret_data.reshape(num_of_samples, -1), secret_label, revealed_gradients.reshape(num_of_samples, -1), revealed_random.reshape(num_of_samples, -1), revealed_poly_constructed_coeff.reshape(num_of_samples, -1)], axis=1)\n",
    "    print('dataset is created')\n",
    "    \n",
    "    estimators_all, results_all = neural_estimator_benchmark(resulting_dataset[:, :3], resulting_dataset[:, 7:])\n",
    "    # estimators_revealed_gradient, results_revealed_gradient = neural_estimator_benchmark(resulting_dataset[:, :3], resulting_dataset[:, 3:5])\n",
    "    return estimators_all, results_all#, estimators_revealed_gradient, results_revealed_gradient"
   ],
   "metadata": {
    "collapsed": false,
    "ExecuteTime": {
     "end_time": "2023-11-15T21:45:08.121156038Z",
     "start_time": "2023-11-15T21:45:08.103884257Z"
    }
   },
   "id": "2d6a184396caa636"
  },
  {
   "cell_type": "code",
   "execution_count": 5,
   "outputs": [
    {
     "name": "stdout",
     "output_type": "stream",
     "text": [
      "###########################\n",
      "exp prime: 5\n",
      "pols created\n",
      "gradient calculation for each client done\n",
      "dataset is created\n"
     ]
    },
    {
     "name": "stderr",
     "output_type": "stream",
     "text": [
      " 12%|██████▋                                              | 1250/10000 [02:02<14:14, 10.24step/s, test=1.87, train=1.93]\n"
     ]
    },
    {
     "name": "stdout",
     "output_type": "stream",
     "text": [
      "Donker Varadhan estimator: 1.88\n"
     ]
    },
    {
     "name": "stderr",
     "output_type": "stream",
     "text": [
      " 10%|█████▏                                              | 1000/10000 [00:04<00:41, 219.11step/s, test=1.83, train=1.86]\n"
     ]
    },
    {
     "name": "stdout",
     "output_type": "stream",
     "text": [
      "MINE estimator: 1.87\n"
     ]
    },
    {
     "name": "stderr",
     "output_type": "stream",
     "text": [
      " 12%|██████▋                                              | 1250/10000 [02:07<14:55,  9.77step/s, test=1.87, train=1.91]\n"
     ]
    },
    {
     "name": "stdout",
     "output_type": "stream",
     "text": [
      "InfoNCE estimator: 1.88\n"
     ]
    },
    {
     "name": "stderr",
     "output_type": "stream",
     "text": [
      " 18%|█████████▎                                           | 1750/10000 [02:47<13:08, 10.47step/s, test=1.86, train=1.92]\n"
     ]
    },
    {
     "name": "stdout",
     "output_type": "stream",
     "text": [
      "NWJ estimator: 1.88\n"
     ]
    },
    {
     "name": "stderr",
     "output_type": "stream",
     "text": [
      " 18%|█████████▎                                           | 1750/10000 [02:10<10:15, 13.39step/s, test=1.38, train=1.39]\n"
     ]
    },
    {
     "name": "stdout",
     "output_type": "stream",
     "text": [
      "Donker Varadhan estimator: 1.39\n"
     ]
    },
    {
     "name": "stderr",
     "output_type": "stream",
     "text": [
      " 10%|█████▏                                              | 1000/10000 [00:03<00:28, 312.05step/s, test=1.37, train=1.31]\n"
     ]
    },
    {
     "name": "stdout",
     "output_type": "stream",
     "text": [
      "MINE estimator: 1.42\n"
     ]
    },
    {
     "name": "stderr",
     "output_type": "stream",
     "text": [
      "  8%|████                                                  | 750/10000 [00:55<11:27, 13.46step/s, test=1.39, train=1.45]\n"
     ]
    },
    {
     "name": "stdout",
     "output_type": "stream",
     "text": [
      "InfoNCE estimator: 1.39\n"
     ]
    },
    {
     "name": "stderr",
     "output_type": "stream",
     "text": [
      " 18%|█████████▎                                           | 1750/10000 [02:10<10:14, 13.43step/s, test=1.38, train=1.39]\n"
     ]
    },
    {
     "name": "stdout",
     "output_type": "stream",
     "text": [
      "NWJ estimator: 1.39\n",
      "###########################\n",
      "\n",
      "###########################\n",
      "exp prime: 7\n",
      "pols created\n",
      "gradient calculation for each client done\n",
      "dataset is created\n"
     ]
    },
    {
     "name": "stderr",
     "output_type": "stream",
     "text": [
      " 20%|██████████▌                                          | 2000/10000 [02:29<09:57, 13.38step/s, test=1.91, train=1.93]\n"
     ]
    },
    {
     "name": "stdout",
     "output_type": "stream",
     "text": [
      "Donker Varadhan estimator: 1.92\n"
     ]
    },
    {
     "name": "stderr",
     "output_type": "stream",
     "text": [
      "  8%|███▉                                                 | 750/10000 [00:02<00:29, 313.75step/s, test=1.84, train=1.67]\n"
     ]
    },
    {
     "name": "stdout",
     "output_type": "stream",
     "text": [
      "MINE estimator: 1.90\n"
     ]
    },
    {
     "name": "stderr",
     "output_type": "stream",
     "text": [
      " 15%|███████▉                                             | 1500/10000 [01:52<10:38, 13.30step/s, test=1.92, train=1.96]\n"
     ]
    },
    {
     "name": "stdout",
     "output_type": "stream",
     "text": [
      "InfoNCE estimator: 1.92\n"
     ]
    },
    {
     "name": "stderr",
     "output_type": "stream",
     "text": [
      " 12%|██████▋                                              | 1250/10000 [01:33<10:51, 13.44step/s, test=1.92, train=1.92]\n"
     ]
    },
    {
     "name": "stdout",
     "output_type": "stream",
     "text": [
      "NWJ estimator: 1.92\n"
     ]
    },
    {
     "name": "stderr",
     "output_type": "stream",
     "text": [
      " 12%|██████▋                                              | 1250/10000 [01:34<10:59, 13.28step/s, test=1.39, train=1.35]\n"
     ]
    },
    {
     "name": "stdout",
     "output_type": "stream",
     "text": [
      "Donker Varadhan estimator: 1.39\n"
     ]
    },
    {
     "name": "stderr",
     "output_type": "stream",
     "text": [
      "  8%|███▉                                                 | 750/10000 [00:02<00:31, 297.11step/s, test=1.36, train=1.18]\n"
     ]
    },
    {
     "name": "stdout",
     "output_type": "stream",
     "text": [
      "MINE estimator: 1.40\n"
     ]
    },
    {
     "name": "stderr",
     "output_type": "stream",
     "text": [
      "  8%|████                                                  | 750/10000 [00:59<12:19, 12.50step/s, test=1.39, train=1.31]\n"
     ]
    },
    {
     "name": "stdout",
     "output_type": "stream",
     "text": [
      "InfoNCE estimator: 1.39\n"
     ]
    },
    {
     "name": "stderr",
     "output_type": "stream",
     "text": [
      " 32%|█████████████████▏                                   | 3250/10000 [04:08<08:36, 13.07step/s, test=1.39, train=1.39]\n"
     ]
    },
    {
     "name": "stdout",
     "output_type": "stream",
     "text": [
      "NWJ estimator: 1.39\n",
      "###########################\n",
      "\n",
      "###########################\n",
      "exp prime: 11\n",
      "pols created\n",
      "gradient calculation for each client done\n",
      "dataset is created\n"
     ]
    },
    {
     "name": "stderr",
     "output_type": "stream",
     "text": [
      " 10%|█████▎                                               | 1000/10000 [01:18<11:49, 12.68step/s, test=1.96, train=2.02]\n"
     ]
    },
    {
     "name": "stdout",
     "output_type": "stream",
     "text": [
      "Donker Varadhan estimator: 1.96\n"
     ]
    },
    {
     "name": "stderr",
     "output_type": "stream",
     "text": [
      " 10%|█████▏                                              | 1000/10000 [00:03<00:29, 309.24step/s, test=1.96, train=1.91]\n"
     ]
    },
    {
     "name": "stdout",
     "output_type": "stream",
     "text": [
      "MINE estimator: 1.99\n"
     ]
    },
    {
     "name": "stderr",
     "output_type": "stream",
     "text": [
      " 10%|█████▎                                               | 1000/10000 [01:16<11:30, 13.04step/s, test=1.96, train=2.01]\n"
     ]
    },
    {
     "name": "stdout",
     "output_type": "stream",
     "text": [
      "InfoNCE estimator: 1.97\n"
     ]
    },
    {
     "name": "stderr",
     "output_type": "stream",
     "text": [
      " 10%|█████▎                                               | 1000/10000 [01:17<11:37, 12.90step/s, test=1.95, train=2.00]\n"
     ]
    },
    {
     "name": "stdout",
     "output_type": "stream",
     "text": [
      "NWJ estimator: 1.96\n"
     ]
    },
    {
     "name": "stderr",
     "output_type": "stream",
     "text": [
      " 18%|█████████▎                                           | 1750/10000 [02:12<10:26, 13.17step/s, test=1.38, train=1.36]\n"
     ]
    },
    {
     "name": "stdout",
     "output_type": "stream",
     "text": [
      "Donker Varadhan estimator: 1.38\n"
     ]
    },
    {
     "name": "stderr",
     "output_type": "stream",
     "text": [
      " 10%|█████▏                                              | 1000/10000 [00:03<00:27, 328.32step/s, test=1.40, train=1.39]\n"
     ]
    },
    {
     "name": "stdout",
     "output_type": "stream",
     "text": [
      "MINE estimator: 1.43\n"
     ]
    },
    {
     "name": "stderr",
     "output_type": "stream",
     "text": [
      "  8%|████                                                  | 750/10000 [00:56<11:41, 13.18step/s, test=1.38, train=1.43]\n"
     ]
    },
    {
     "name": "stdout",
     "output_type": "stream",
     "text": [
      "InfoNCE estimator: 1.38\n"
     ]
    },
    {
     "name": "stderr",
     "output_type": "stream",
     "text": [
      " 28%|██████████████▌                                      | 2750/10000 [03:28<09:10, 13.17step/s, test=1.38, train=1.36]\n"
     ]
    },
    {
     "name": "stdout",
     "output_type": "stream",
     "text": [
      "NWJ estimator: 1.38\n",
      "###########################\n",
      "\n",
      "###########################\n",
      "exp prime: 13\n",
      "pols created\n",
      "gradient calculation for each client done\n",
      "dataset is created\n"
     ]
    },
    {
     "name": "stderr",
     "output_type": "stream",
     "text": [
      " 18%|█████████▎                                           | 1750/10000 [02:13<10:28, 13.13step/s, test=1.96, train=2.02]\n"
     ]
    },
    {
     "name": "stdout",
     "output_type": "stream",
     "text": [
      "Donker Varadhan estimator: 1.97\n"
     ]
    },
    {
     "name": "stderr",
     "output_type": "stream",
     "text": [
      " 15%|███████▊                                            | 1500/10000 [00:04<00:26, 322.81step/s, test=1.97, train=1.87]\n"
     ]
    },
    {
     "name": "stdout",
     "output_type": "stream",
     "text": [
      "MINE estimator: 1.99\n"
     ]
    },
    {
     "name": "stderr",
     "output_type": "stream",
     "text": [
      " 10%|█████▎                                               | 1000/10000 [01:17<11:38, 12.88step/s, test=1.96, train=1.97]\n"
     ]
    },
    {
     "name": "stdout",
     "output_type": "stream",
     "text": [
      "InfoNCE estimator: 1.97\n"
     ]
    },
    {
     "name": "stderr",
     "output_type": "stream",
     "text": [
      " 12%|██████▋                                              | 1250/10000 [01:36<11:15, 12.96step/s, test=1.96, train=2.01]\n"
     ]
    },
    {
     "name": "stdout",
     "output_type": "stream",
     "text": [
      "NWJ estimator: 1.97\n"
     ]
    },
    {
     "name": "stderr",
     "output_type": "stream",
     "text": [
      " 25%|█████████████▎                                       | 2500/10000 [03:09<09:28, 13.20step/s, test=1.38, train=1.41]\n"
     ]
    },
    {
     "name": "stdout",
     "output_type": "stream",
     "text": [
      "Donker Varadhan estimator: 1.39\n"
     ]
    },
    {
     "name": "stderr",
     "output_type": "stream",
     "text": [
      "  8%|███▉                                                 | 750/10000 [00:02<00:29, 314.18step/s, test=1.40, train=1.45]\n"
     ]
    },
    {
     "name": "stdout",
     "output_type": "stream",
     "text": [
      "MINE estimator: 1.41\n"
     ]
    },
    {
     "name": "stderr",
     "output_type": "stream",
     "text": [
      " 15%|███████▉                                             | 1500/10000 [01:52<10:39, 13.30step/s, test=1.39, train=1.43]\n"
     ]
    },
    {
     "name": "stdout",
     "output_type": "stream",
     "text": [
      "InfoNCE estimator: 1.39\n"
     ]
    },
    {
     "name": "stderr",
     "output_type": "stream",
     "text": [
      " 22%|███████████▉                                         | 2250/10000 [02:48<09:41, 13.33step/s, test=1.38, train=1.41]\n"
     ]
    },
    {
     "name": "stdout",
     "output_type": "stream",
     "text": [
      "NWJ estimator: 1.39\n",
      "###########################\n",
      "\n",
      "###########################\n",
      "exp prime: 17\n",
      "pols created\n",
      "gradient calculation for each client done\n",
      "dataset is created\n"
     ]
    },
    {
     "name": "stderr",
     "output_type": "stream",
     "text": [
      " 10%|█████▎                                               | 1000/10000 [01:16<11:25, 13.14step/s, test=1.93, train=2.04]\n"
     ]
    },
    {
     "name": "stdout",
     "output_type": "stream",
     "text": [
      "Donker Varadhan estimator: 1.97\n"
     ]
    },
    {
     "name": "stderr",
     "output_type": "stream",
     "text": [
      " 25%|█████████████                                       | 2500/10000 [00:07<00:21, 354.94step/s, test=1.92, train=2.18]\n"
     ]
    },
    {
     "name": "stdout",
     "output_type": "stream",
     "text": [
      "MINE estimator: 1.96\n"
     ]
    },
    {
     "name": "stderr",
     "output_type": "stream",
     "text": [
      " 12%|██████▋                                              | 1250/10000 [01:34<11:04, 13.17step/s, test=1.97, train=2.02]\n"
     ]
    },
    {
     "name": "stdout",
     "output_type": "stream",
     "text": [
      "InfoNCE estimator: 1.98\n"
     ]
    },
    {
     "name": "stderr",
     "output_type": "stream",
     "text": [
      " 12%|██████▋                                              | 1250/10000 [01:34<11:01, 13.22step/s, test=1.95, train=2.04]\n"
     ]
    },
    {
     "name": "stdout",
     "output_type": "stream",
     "text": [
      "NWJ estimator: 1.97\n"
     ]
    },
    {
     "name": "stderr",
     "output_type": "stream",
     "text": [
      " 20%|██████████▌                                          | 2000/10000 [02:30<10:00, 13.32step/s, test=1.38, train=1.40]\n"
     ]
    },
    {
     "name": "stdout",
     "output_type": "stream",
     "text": [
      "Donker Varadhan estimator: 1.38\n"
     ]
    },
    {
     "name": "stderr",
     "output_type": "stream",
     "text": [
      "  8%|███▉                                                 | 750/10000 [00:02<00:29, 315.64step/s, test=1.32, train=1.45]\n"
     ]
    },
    {
     "name": "stdout",
     "output_type": "stream",
     "text": [
      "MINE estimator: 1.38\n"
     ]
    },
    {
     "name": "stderr",
     "output_type": "stream",
     "text": [
      " 10%|█████▎                                               | 1000/10000 [01:15<11:20, 13.22step/s, test=1.38, train=1.38]\n"
     ]
    },
    {
     "name": "stdout",
     "output_type": "stream",
     "text": [
      "InfoNCE estimator: 1.38\n"
     ]
    },
    {
     "name": "stderr",
     "output_type": "stream",
     "text": [
      " 12%|██████▋                                              | 1250/10000 [01:34<10:58, 13.29step/s, test=1.38, train=1.36]"
     ]
    },
    {
     "name": "stdout",
     "output_type": "stream",
     "text": [
      "NWJ estimator: 1.38\n",
      "###########################\n"
     ]
    },
    {
     "name": "stderr",
     "output_type": "stream",
     "text": [
      "\n"
     ]
    }
   ],
   "source": [
    "prime_arr = [5, 7, 11, 13, 17]\n",
    "data_range_arg = 2\n",
    "para_param_arg = 1 # K\n",
    "priv_param_arg = 1 # T\n",
    "\n",
    "num_of_samples_arg = 5000\n",
    "beta_arr_arg = [0, 1]\n",
    "alpha_arr_arg = [2, 3, 4] # number of clients = 3\n",
    "weight_arg = np.asarray([[1], [1]])\n",
    "\n",
    "for prime_arg in prime_arr:\n",
    "    print('###########################')\n",
    "    print('exp prime: {}'.format(prime_arg))\n",
    "    main_mi_calculation(data_range_arg, prime_arg, para_param_arg, priv_param_arg, num_of_samples_arg, beta_arr_arg, alpha_arr_arg, weight_arg)\n",
    "    print('###########################\\n')"
   ],
   "metadata": {
    "collapsed": false,
    "ExecuteTime": {
     "end_time": "2023-11-15T20:47:47.905113191Z",
     "start_time": "2023-11-15T19:48:32.097413933Z"
    }
   },
   "id": "3e33606c404e46a7"
  },
  {
   "cell_type": "code",
   "execution_count": 15,
   "outputs": [
    {
     "name": "stdout",
     "output_type": "stream",
     "text": [
      "###########################\n",
      "exp prime: 19\n"
     ]
    },
    {
     "name": "stderr",
     "output_type": "stream",
     "text": [
      "  1%|▎                                                     | 68/10000 [00:41<1:40:26,  1.65step/s, test=???, train=1.79]\n"
     ]
    },
    {
     "name": "stdout",
     "output_type": "stream",
     "text": [
      "pols created\n",
      "gradient calculation for each client done\n",
      "dataset is created\n"
     ]
    },
    {
     "name": "stderr",
     "output_type": "stream",
     "text": [
      "  0%|                                                        | 21/10000 [00:01<11:18, 14.70step/s, test=???, train=1.70]\n",
      " 15%|███████▉                                             | 1500/10000 [01:55<10:55, 12.97step/s, test=1.94, train=2.06]\u001B[A\n"
     ]
    },
    {
     "name": "stdout",
     "output_type": "stream",
     "text": [
      "Donker Varadhan estimator: 1.97\n"
     ]
    },
    {
     "name": "stderr",
     "output_type": "stream",
     "text": [
      " 12%|██████▌                                             | 1250/10000 [00:03<00:26, 325.63step/s, test=1.83, train=1.97]\n"
     ]
    },
    {
     "name": "stdout",
     "output_type": "stream",
     "text": [
      "MINE estimator: 1.89\n"
     ]
    },
    {
     "name": "stderr",
     "output_type": "stream",
     "text": [
      " 15%|███████▉                                             | 1500/10000 [01:56<10:57, 12.92step/s, test=1.95, train=2.02]\n"
     ]
    },
    {
     "name": "stdout",
     "output_type": "stream",
     "text": [
      "InfoNCE estimator: 1.96\n"
     ]
    },
    {
     "name": "stderr",
     "output_type": "stream",
     "text": [
      " 15%|███████▉                                             | 1500/10000 [01:55<10:54, 12.98step/s, test=1.95, train=2.05]\n"
     ]
    },
    {
     "name": "stdout",
     "output_type": "stream",
     "text": [
      "NWJ estimator: 1.95\n",
      "###########################\n",
      "\n",
      "###########################\n",
      "exp prime: 23\n",
      "pols created\n",
      "gradient calculation for each client done\n",
      "dataset is created\n"
     ]
    },
    {
     "name": "stderr",
     "output_type": "stream",
     "text": [
      " 15%|███████▉                                             | 1500/10000 [01:55<10:56, 12.96step/s, test=1.98, train=2.03]\n"
     ]
    },
    {
     "name": "stdout",
     "output_type": "stream",
     "text": [
      "Donker Varadhan estimator: 2.00\n"
     ]
    },
    {
     "name": "stderr",
     "output_type": "stream",
     "text": [
      " 10%|█████▏                                              | 1000/10000 [00:03<00:27, 321.53step/s, test=1.88, train=2.05]\n"
     ]
    },
    {
     "name": "stdout",
     "output_type": "stream",
     "text": [
      "MINE estimator: 1.91\n"
     ]
    },
    {
     "name": "stderr",
     "output_type": "stream",
     "text": [
      " 12%|██████▋                                              | 1250/10000 [01:36<11:16, 12.94step/s, test=1.99, train=2.02]\n"
     ]
    },
    {
     "name": "stdout",
     "output_type": "stream",
     "text": [
      "InfoNCE estimator: 2.00\n"
     ]
    },
    {
     "name": "stderr",
     "output_type": "stream",
     "text": [
      " 15%|███████▉                                             | 1500/10000 [01:55<10:53, 13.01step/s, test=1.96, train=2.03]"
     ]
    },
    {
     "name": "stdout",
     "output_type": "stream",
     "text": [
      "NWJ estimator: 1.97\n",
      "###########################\n"
     ]
    },
    {
     "name": "stderr",
     "output_type": "stream",
     "text": [
      "\n"
     ]
    }
   ],
   "source": [
    "print('###########################')\n",
    "print('exp prime: {}'.format(19))\n",
    "main_mi_calculation(data_range_arg, 19, para_param_arg, priv_param_arg, num_of_samples_arg, beta_arr_arg, alpha_arr_arg, weight_arg)\n",
    "print('###########################\\n')\n",
    "\n",
    "print('###########################')\n",
    "print('exp prime: {}'.format(23))\n",
    "main_mi_calculation(data_range_arg, 23, para_param_arg, priv_param_arg, num_of_samples_arg, beta_arr_arg, alpha_arr_arg, weight_arg)\n",
    "print('###########################\\n')"
   ],
   "metadata": {
    "collapsed": false,
    "ExecuteTime": {
     "end_time": "2023-11-15T21:56:56.120830532Z",
     "start_time": "2023-11-15T21:45:22.869419739Z"
    }
   },
   "id": "caac8a7cfe417a0c"
  },
  {
   "cell_type": "code",
   "execution_count": 22,
   "outputs": [
    {
     "data": {
      "text/plain": "<Figure size 1500x500 with 1 Axes>",
      "image/png": "[encoded data removed]"
     },
     "metadata": {},
     "output_type": "display_data"
    }
   ],
   "source": [
    "import matplotlib.pyplot as plt\n",
    "\n",
    "fig = plt.figure(figsize=(15, 5))\n",
    "plt.plot(list(range(len([*prime_arr, 19, 23]))), [1.88, 1.92, 1.96, 1.97, 1.97, 1.97, 1.99])\n",
    "plt.scatter(list(range(len([*prime_arr, 19, 23]))), [1.88, 1.92, 1.96, 1.97, 1.97, 1.97, 1.99])\n",
    "plt.xticks(list(range(len([*prime_arr, 19, 23]))), [*prime_arr, 19, 23])\n",
    "plt.yticks([1.88, 1.92, 1.96, 1.97, 1.99])\n",
    "plt.title('$I(x, y; c_1, c_2, c_3)$ vs. Finite Field Size')\n",
    "plt.ylabel('$I(x, y; c_1, c_2, c_3)$')\n",
    "plt.xlabel('Finite field size')\n",
    "plt.show()"
   ],
   "metadata": {
    "collapsed": false,
    "ExecuteTime": {
     "end_time": "2023-11-15T22:07:03.455291751Z",
     "start_time": "2023-11-15T22:07:03.149935904Z"
    }
   },
   "id": "7b5f03f263e8ca7c"
  }
 ],
 "metadata": {
  "kernelspec": {
   "display_name": "Python 3",
   "language": "python",
   "name": "python3"
  },
  "language_info": {
   "codemirror_mode": {
    "name": "ipython",
    "version": 2
   },
   "file_extension": ".py",
   "mimetype": "text/x-python",
   "name": "python",
   "nbconvert_exporter": "python",
   "pygments_lexer": "ipython2",
   "version": "2.7.6"
  }
 },
 "nbformat": 4,
 "nbformat_minor": 5
}
